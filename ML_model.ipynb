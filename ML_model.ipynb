{
 "cells": [
  {
   "cell_type": "code",
   "execution_count": 51,
   "id": "1fb650f8",
   "metadata": {},
   "outputs": [],
   "source": [
    "from sklearn.model_selection import train_test_split\n",
    "import tensorflow as tf\n",
    "from tensorflow.keras.utils import to_categorical\n",
    "from tensorflow.keras.models import Sequential\n",
    "from tensorflow.keras.layers import LSTM, Dense, Flatten\n",
    "from functions import VM\n",
    "import os\n",
    "import numpy as np"
   ]
  },
  {
   "cell_type": "markdown",
   "id": "4835d852",
   "metadata": {},
   "source": [
    "# Take the sign names in our collections data"
   ]
  },
  {
   "cell_type": "code",
   "execution_count": 52,
   "id": "de5110e8",
   "metadata": {},
   "outputs": [],
   "source": [
    "signs = sorted(os.listdir(\"./Data/\")) # take all the signs used in data collection\n",
    "sign_id = {label: num for num, label in enumerate(signs)} # assign a value for each sign (each sign is assign to its index)"
   ]
  },
  {
   "cell_type": "code",
   "execution_count": 12,
   "id": "95ac6ae9",
   "metadata": {},
   "outputs": [
    {
     "data": {
      "text/plain": [
       "'hi'"
      ]
     },
     "execution_count": 12,
     "metadata": {},
     "output_type": "execute_result"
    }
   ],
   "source": [
    "signs[2]"
   ]
  },
  {
   "cell_type": "code",
   "execution_count": 13,
   "id": "ea4b6064",
   "metadata": {},
   "outputs": [
    {
     "data": {
      "text/plain": [
       "1"
      ]
     },
     "execution_count": 13,
     "metadata": {},
     "output_type": "execute_result"
    }
   ],
   "source": [
    "sign_id['hello']"
   ]
  },
  {
   "cell_type": "markdown",
   "id": "0a87222e",
   "metadata": {},
   "source": [
    "# Create the our x and y data\n"
   ]
  },
  {
   "cell_type": "code",
   "execution_count": 53,
   "id": "521243ad",
   "metadata": {},
   "outputs": [],
   "source": [
    "sequences, labels = [], [] # sequences represents our x data while labels represents our y data\n",
    "# create a loop that creates our x and y data\n",
    "for sign in signs:\n",
    "    for sequence in range(VM.seq):\n",
    "        window = []\n",
    "        for frames in range(VM.seq_lenght):\n",
    "            res = np.load(os.path.join(VM.DATA_PATH, sign, str(sequence), f\"{frames}.npy\"))\n",
    "            window.append(res)\n",
    "        sequences.append(window)\n",
    "        labels.append(sign_id[sign])\n",
    "        \n",
    "# store our x and y data to a numpy array\n",
    "x_data = np.array(sequences) \n",
    "y_data = to_categorical(labels).astype(int) \n",
    "\n",
    "# setup our training and testing partition\n",
    "x_train, x_test, y_train, y_test = train_test_split(x_data, y_data, test_size=0.05)"
   ]
  },
  {
   "cell_type": "markdown",
   "id": "f34079f0",
   "metadata": {},
   "source": [
    "# Build and train the model\n"
   ]
  },
  {
   "cell_type": "code",
   "execution_count": 55,
   "id": "59013a91",
   "metadata": {},
   "outputs": [],
   "source": [
    "# build the model\n",
    "model = Sequential()\n",
    "model.add(LSTM(64, return_sequences=\"True\", activation=\"relu\", input_shape=(30,1662)))\n",
    "model.add(LSTM(128, return_sequences=\"True\", activation=\"relu\"))\n",
    "model.add(LSTM(64, return_sequences=\"False\", activation=\"relu\"))\n",
    "model.add(Flatten(input_shape=(x_train.shape[1:])))\n",
    "model.add(Dense(32, activation=\"relu\"))\n",
    "model.add(Dense(64, activation=\"relu\"))\n",
    "model.add(Dense(np.array(signs).shape[0], activation=\"softmax\"))"
   ]
  },
  {
   "cell_type": "code",
   "execution_count": 56,
   "id": "88417beb",
   "metadata": {},
   "outputs": [],
   "source": [
    "model.compile(optimizer=\"Adam\", loss=\"categorical_crossentropy\", metrics=[\"categorical_accuracy\"]) # compiler "
   ]
  },
  {
   "cell_type": "code",
   "execution_count": 57,
   "id": "2f8c73a0",
   "metadata": {},
   "outputs": [
    {
     "name": "stdout",
     "output_type": "stream",
     "text": [
      "Epoch 1/80\n",
      "9/9 [==============================] - 3s 72ms/step - loss: 2.1957 - categorical_accuracy: 0.1509\n",
      "Epoch 2/80\n",
      "9/9 [==============================] - 1s 80ms/step - loss: 1.8867 - categorical_accuracy: 0.1965\n",
      "Epoch 3/80\n",
      "9/9 [==============================] - 1s 77ms/step - loss: 1.8966 - categorical_accuracy: 0.1965\n",
      "Epoch 4/80\n",
      "9/9 [==============================] - 1s 72ms/step - loss: 1.7201 - categorical_accuracy: 0.2632\n",
      "Epoch 5/80\n",
      "9/9 [==============================] - 1s 69ms/step - loss: 1.7976 - categorical_accuracy: 0.1754\n",
      "Epoch 6/80\n",
      "9/9 [==============================] - 1s 71ms/step - loss: 1.8681 - categorical_accuracy: 0.2105\n",
      "Epoch 7/80\n",
      "9/9 [==============================] - 1s 70ms/step - loss: 1.8152 - categorical_accuracy: 0.1895\n",
      "Epoch 8/80\n",
      "9/9 [==============================] - 1s 68ms/step - loss: 1.8739 - categorical_accuracy: 0.2246\n",
      "Epoch 9/80\n",
      "9/9 [==============================] - 1s 69ms/step - loss: 1.7899 - categorical_accuracy: 0.1930\n",
      "Epoch 10/80\n",
      "9/9 [==============================] - 1s 69ms/step - loss: 1.6093 - categorical_accuracy: 0.3474\n",
      "Epoch 11/80\n",
      "9/9 [==============================] - 1s 67ms/step - loss: 1.4688 - categorical_accuracy: 0.3825\n",
      "Epoch 12/80\n",
      "9/9 [==============================] - 1s 67ms/step - loss: 1.4076 - categorical_accuracy: 0.3825\n",
      "Epoch 13/80\n",
      "9/9 [==============================] - 1s 67ms/step - loss: 1.3531 - categorical_accuracy: 0.3754\n",
      "Epoch 14/80\n",
      "9/9 [==============================] - 1s 67ms/step - loss: 1.2487 - categorical_accuracy: 0.4035\n",
      "Epoch 15/80\n",
      "9/9 [==============================] - 1s 68ms/step - loss: 1.1199 - categorical_accuracy: 0.4667\n",
      "Epoch 16/80\n",
      "9/9 [==============================] - 1s 66ms/step - loss: 1.0956 - categorical_accuracy: 0.4561\n",
      "Epoch 17/80\n",
      "9/9 [==============================] - 1s 67ms/step - loss: 1.0469 - categorical_accuracy: 0.5439\n",
      "Epoch 18/80\n",
      "9/9 [==============================] - 1s 67ms/step - loss: 1.1179 - categorical_accuracy: 0.4737\n",
      "Epoch 19/80\n",
      "9/9 [==============================] - 1s 67ms/step - loss: 1.0261 - categorical_accuracy: 0.5474\n",
      "Epoch 20/80\n",
      "9/9 [==============================] - 1s 67ms/step - loss: 0.9010 - categorical_accuracy: 0.5754\n",
      "Epoch 21/80\n",
      "9/9 [==============================] - 1s 67ms/step - loss: 0.9049 - categorical_accuracy: 0.5789\n",
      "Epoch 22/80\n",
      "9/9 [==============================] - 1s 67ms/step - loss: 0.8349 - categorical_accuracy: 0.5965\n",
      "Epoch 23/80\n",
      "9/9 [==============================] - 1s 67ms/step - loss: 0.7112 - categorical_accuracy: 0.6877\n",
      "Epoch 24/80\n",
      "9/9 [==============================] - 1s 68ms/step - loss: 0.7739 - categorical_accuracy: 0.6842\n",
      "Epoch 25/80\n",
      "9/9 [==============================] - 1s 68ms/step - loss: 0.6204 - categorical_accuracy: 0.7298\n",
      "Epoch 26/80\n",
      "9/9 [==============================] - 1s 67ms/step - loss: 0.5626 - categorical_accuracy: 0.7579\n",
      "Epoch 27/80\n",
      "9/9 [==============================] - 1s 67ms/step - loss: 0.5355 - categorical_accuracy: 0.7614\n",
      "Epoch 28/80\n",
      "9/9 [==============================] - 1s 68ms/step - loss: 1.0091 - categorical_accuracy: 0.6351\n",
      "Epoch 29/80\n",
      "9/9 [==============================] - 1s 66ms/step - loss: 1.0071 - categorical_accuracy: 0.5719\n",
      "Epoch 30/80\n",
      "9/9 [==============================] - 1s 68ms/step - loss: 0.8039 - categorical_accuracy: 0.6596\n",
      "Epoch 31/80\n",
      "9/9 [==============================] - 1s 67ms/step - loss: 0.6434 - categorical_accuracy: 0.7544\n",
      "Epoch 32/80\n",
      "9/9 [==============================] - 1s 67ms/step - loss: 0.5026 - categorical_accuracy: 0.7895\n",
      "Epoch 33/80\n",
      "9/9 [==============================] - 1s 67ms/step - loss: 1.0561 - categorical_accuracy: 0.5754\n",
      "Epoch 34/80\n",
      "9/9 [==============================] - 1s 67ms/step - loss: 0.9019 - categorical_accuracy: 0.6246\n",
      "Epoch 35/80\n",
      "9/9 [==============================] - 1s 67ms/step - loss: 0.6025 - categorical_accuracy: 0.7860\n",
      "Epoch 36/80\n",
      "9/9 [==============================] - 1s 67ms/step - loss: 0.6181 - categorical_accuracy: 0.7439\n",
      "Epoch 37/80\n",
      "9/9 [==============================] - 1s 69ms/step - loss: 1.0212 - categorical_accuracy: 0.6351\n",
      "Epoch 38/80\n",
      "9/9 [==============================] - 1s 68ms/step - loss: 0.8310 - categorical_accuracy: 0.6421\n",
      "Epoch 39/80\n",
      "9/9 [==============================] - 1s 67ms/step - loss: 0.6433 - categorical_accuracy: 0.7298\n",
      "Epoch 40/80\n",
      "9/9 [==============================] - 1s 73ms/step - loss: 0.5659 - categorical_accuracy: 0.7544\n",
      "Epoch 41/80\n",
      "9/9 [==============================] - 1s 69ms/step - loss: 0.5096 - categorical_accuracy: 0.7368\n",
      "Epoch 42/80\n",
      "9/9 [==============================] - 1s 67ms/step - loss: 0.5286 - categorical_accuracy: 0.7719\n",
      "Epoch 43/80\n",
      "9/9 [==============================] - 1s 68ms/step - loss: 0.4998 - categorical_accuracy: 0.7825\n",
      "Epoch 44/80\n",
      "9/9 [==============================] - 1s 67ms/step - loss: 0.5019 - categorical_accuracy: 0.7509\n",
      "Epoch 45/80\n",
      "9/9 [==============================] - 1s 67ms/step - loss: 0.4485 - categorical_accuracy: 0.7684\n",
      "Epoch 46/80\n",
      "9/9 [==============================] - 1s 69ms/step - loss: 0.4419 - categorical_accuracy: 0.8070\n",
      "Epoch 47/80\n",
      "9/9 [==============================] - 1s 67ms/step - loss: 0.4377 - categorical_accuracy: 0.8000\n",
      "Epoch 48/80\n",
      "9/9 [==============================] - 1s 67ms/step - loss: 1.0453 - categorical_accuracy: 0.6456\n",
      "Epoch 49/80\n",
      "9/9 [==============================] - 1s 68ms/step - loss: 0.7301 - categorical_accuracy: 0.7263\n",
      "Epoch 50/80\n",
      "9/9 [==============================] - 1s 74ms/step - loss: 0.5611 - categorical_accuracy: 0.7930\n",
      "Epoch 51/80\n",
      "9/9 [==============================] - 1s 69ms/step - loss: 0.4207 - categorical_accuracy: 0.8386\n",
      "Epoch 52/80\n",
      "9/9 [==============================] - 1s 68ms/step - loss: 0.3480 - categorical_accuracy: 0.8491\n",
      "Epoch 53/80\n",
      "9/9 [==============================] - 1s 69ms/step - loss: 0.3252 - categorical_accuracy: 0.8456\n",
      "Epoch 54/80\n",
      "9/9 [==============================] - 1s 69ms/step - loss: 0.4752 - categorical_accuracy: 0.7719\n",
      "Epoch 55/80\n",
      "9/9 [==============================] - 1s 67ms/step - loss: 0.4279 - categorical_accuracy: 0.8105\n",
      "Epoch 56/80\n",
      "9/9 [==============================] - 1s 68ms/step - loss: 0.5064 - categorical_accuracy: 0.7614\n",
      "Epoch 57/80\n",
      "9/9 [==============================] - 1s 67ms/step - loss: 0.5897 - categorical_accuracy: 0.7649\n",
      "Epoch 58/80\n",
      "9/9 [==============================] - 1s 67ms/step - loss: 0.4774 - categorical_accuracy: 0.7754\n",
      "Epoch 59/80\n",
      "9/9 [==============================] - 1s 68ms/step - loss: 0.3872 - categorical_accuracy: 0.8421\n",
      "Epoch 60/80\n",
      "9/9 [==============================] - 1s 70ms/step - loss: 0.3240 - categorical_accuracy: 0.8456\n",
      "Epoch 61/80\n",
      "9/9 [==============================] - 1s 67ms/step - loss: 0.2978 - categorical_accuracy: 0.8632\n",
      "Epoch 62/80\n",
      "9/9 [==============================] - 1s 67ms/step - loss: 0.2790 - categorical_accuracy: 0.8667\n",
      "Epoch 63/80\n",
      "9/9 [==============================] - 1s 67ms/step - loss: 0.2539 - categorical_accuracy: 0.8702\n",
      "Epoch 64/80\n",
      "9/9 [==============================] - 1s 70ms/step - loss: 0.6178 - categorical_accuracy: 0.7930\n",
      "Epoch 65/80\n",
      "9/9 [==============================] - 1s 76ms/step - loss: 0.9341 - categorical_accuracy: 0.6070\n",
      "Epoch 66/80\n",
      "9/9 [==============================] - 1s 77ms/step - loss: 0.5743 - categorical_accuracy: 0.7368\n",
      "Epoch 67/80\n",
      "9/9 [==============================] - 1s 71ms/step - loss: 0.4068 - categorical_accuracy: 0.8070\n",
      "Epoch 68/80\n",
      "9/9 [==============================] - 1s 68ms/step - loss: 0.3378 - categorical_accuracy: 0.8316\n",
      "Epoch 69/80\n",
      "9/9 [==============================] - 1s 68ms/step - loss: 0.3148 - categorical_accuracy: 0.8526\n",
      "Epoch 70/80\n",
      "9/9 [==============================] - 1s 69ms/step - loss: 0.2841 - categorical_accuracy: 0.8561\n",
      "Epoch 71/80\n",
      "9/9 [==============================] - 1s 68ms/step - loss: 0.3124 - categorical_accuracy: 0.8632\n",
      "Epoch 72/80\n",
      "9/9 [==============================] - 1s 69ms/step - loss: 0.3372 - categorical_accuracy: 0.8351\n",
      "Epoch 73/80\n",
      "9/9 [==============================] - 1s 68ms/step - loss: 0.3741 - categorical_accuracy: 0.8316\n",
      "Epoch 74/80\n",
      "9/9 [==============================] - 1s 68ms/step - loss: 0.4077 - categorical_accuracy: 0.7965\n",
      "Epoch 75/80\n"
     ]
    },
    {
     "name": "stdout",
     "output_type": "stream",
     "text": [
      "9/9 [==============================] - 1s 69ms/step - loss: 0.3000 - categorical_accuracy: 0.8561\n",
      "Epoch 76/80\n",
      "9/9 [==============================] - 1s 68ms/step - loss: 0.2729 - categorical_accuracy: 0.8772\n",
      "Epoch 77/80\n",
      "9/9 [==============================] - 1s 66ms/step - loss: 0.2521 - categorical_accuracy: 0.8667\n",
      "Epoch 78/80\n",
      "9/9 [==============================] - 1s 67ms/step - loss: 0.2660 - categorical_accuracy: 0.8491\n",
      "Epoch 79/80\n",
      "9/9 [==============================] - 1s 68ms/step - loss: 0.2480 - categorical_accuracy: 0.8877\n",
      "Epoch 80/80\n",
      "9/9 [==============================] - 1s 69ms/step - loss: 0.2618 - categorical_accuracy: 0.8807\n"
     ]
    },
    {
     "data": {
      "text/plain": [
       "<keras.callbacks.History at 0x18e127625f0>"
      ]
     },
     "execution_count": 57,
     "metadata": {},
     "output_type": "execute_result"
    }
   ],
   "source": [
    "model.fit(x_train, y_train, epochs=80) # run this line when data collection is done (this will train the model)\n",
    "# we can start the number of epochs to be equal to 175 to avoid over training and add afterwards if needed"
   ]
  },
  {
   "cell_type": "code",
   "execution_count": 54,
   "id": "98aba25b",
   "metadata": {},
   "outputs": [],
   "source": [
    "del model"
   ]
  },
  {
   "cell_type": "code",
   "execution_count": 30,
   "id": "79bcc95d",
   "metadata": {},
   "outputs": [
    {
     "name": "stdout",
     "output_type": "stream",
     "text": [
      "Model: \"sequential_3\"\n",
      "_________________________________________________________________\n",
      " Layer (type)                Output Shape              Param #   \n",
      "=================================================================\n",
      " lstm_9 (LSTM)               (None, 30, 64)            442112    \n",
      "                                                                 \n",
      " lstm_10 (LSTM)              (None, 30, 128)           98816     \n",
      "                                                                 \n",
      " lstm_11 (LSTM)              (None, 30, 64)            49408     \n",
      "                                                                 \n",
      " flatten_3 (Flatten)         (None, 1920)              0         \n",
      "                                                                 \n",
      " dense_9 (Dense)             (None, 32)                61472     \n",
      "                                                                 \n",
      " dense_10 (Dense)            (None, 64)                2112      \n",
      "                                                                 \n",
      " dense_11 (Dense)            (None, 13)                845       \n",
      "                                                                 \n",
      "=================================================================\n",
      "Total params: 654,765\n",
      "Trainable params: 654,765\n",
      "Non-trainable params: 0\n",
      "_________________________________________________________________\n"
     ]
    }
   ],
   "source": [
    "model.summary() # summary of our model"
   ]
  },
  {
   "cell_type": "code",
   "execution_count": 58,
   "id": "b47b615f",
   "metadata": {},
   "outputs": [
    {
     "name": "stdout",
     "output_type": "stream",
     "text": [
      "1/1 [==============================] - 1s 593ms/step\n"
     ]
    }
   ],
   "source": [
    "res = model.predict(x_test)"
   ]
  },
  {
   "cell_type": "code",
   "execution_count": 59,
   "id": "d0752724",
   "metadata": {},
   "outputs": [
    {
     "data": {
      "text/plain": [
       "'thank you'"
      ]
     },
     "execution_count": 59,
     "metadata": {},
     "output_type": "execute_result"
    }
   ],
   "source": [
    "signs[np.argmax(res[5])]"
   ]
  },
  {
   "cell_type": "code",
   "execution_count": 60,
   "id": "306195ee",
   "metadata": {},
   "outputs": [
    {
     "data": {
      "text/plain": [
       "'thank you'"
      ]
     },
     "execution_count": 60,
     "metadata": {},
     "output_type": "execute_result"
    }
   ],
   "source": [
    "signs[np.argmax(y_test[5])]"
   ]
  },
  {
   "cell_type": "markdown",
   "id": "408b575f",
   "metadata": {},
   "source": [
    "# save weights\n"
   ]
  },
  {
   "cell_type": "code",
   "execution_count": 61,
   "id": "0ce4cb0b",
   "metadata": {},
   "outputs": [],
   "source": [
    "model.save(\"VertoMotus_MLmodel4.h5\") # save model"
   ]
  },
  {
   "cell_type": "code",
   "execution_count": 89,
   "id": "d6ce1cde",
   "metadata": {},
   "outputs": [
    {
     "name": "stdout",
     "output_type": "stream",
     "text": [
      "INFO:tensorflow:Assets written to: VertoMotus_MLmodel(2.0- 97).model\\assets\n"
     ]
    }
   ],
   "source": [
    "model.save('VertoMotus_MLmodel(2.0- 97).model')"
   ]
  },
  {
   "cell_type": "code",
   "execution_count": null,
   "id": "ec652bf7",
   "metadata": {},
   "outputs": [
    {
     "name": "stdout",
     "output_type": "stream",
     "text": [
      "INFO:tensorflow:Assets written to: C:\\Users\\Baron\\AppData\\Local\\Temp\\tmp0c6_gw35\\assets\n"
     ]
    },
    {
     "name": "stderr",
     "output_type": "stream",
     "text": [
      "INFO:tensorflow:Assets written to: C:\\Users\\Baron\\AppData\\Local\\Temp\\tmp0c6_gw35\\assets\n"
     ]
    }
   ],
   "source": [
    "model = tf.keras.models.load_model(\"./VertoMotus_MLmodel4.h5\")\n",
    "converter = tf.lite.TFLiteConverter.from_keras_model(model)\n",
    "converter.optimizations = [tf.lite.Optimize.DEFAULT]\n",
    "converter.target_spec.supported_ops = [\n",
    "  tf.lite.OpsSet.TFLITE_BUILTINS, # enable TensorFlow Lite ops.\n",
    "  tf.lite.OpsSet.SELECT_TF_OPS # enable TensorFlow ops.\n",
    "]\n",
    "tflite = converter.convert()\n",
    "\n",
    "open(\"./LiteML3.tflite\", \"wb\").write(tflite)"
   ]
  },
  {
   "cell_type": "code",
   "execution_count": 38,
   "id": "0d8ff773",
   "metadata": {},
   "outputs": [
    {
     "ename": "ValueError",
     "evalue": "Cannot set tensor: Got value of type FLOAT64 but expected type FLOAT32 for input 0, name: serving_default_lstm_9_input:0 ",
     "output_type": "error",
     "traceback": [
      "\u001b[1;31m---------------------------------------------------------------------------\u001b[0m",
      "\u001b[1;31mValueError\u001b[0m                                Traceback (most recent call last)",
      "Cell \u001b[1;32mIn [38], line 6\u001b[0m\n\u001b[0;32m      3\u001b[0m inp \u001b[38;5;241m=\u001b[39m interpreter\u001b[38;5;241m.\u001b[39mget_input_details()\n\u001b[0;32m      4\u001b[0m out \u001b[38;5;241m=\u001b[39m interpreter\u001b[38;5;241m.\u001b[39mget_output_details()\n\u001b[1;32m----> 6\u001b[0m \u001b[43minterpreter\u001b[49m\u001b[38;5;241;43m.\u001b[39;49m\u001b[43mset_tensor\u001b[49m\u001b[43m(\u001b[49m\u001b[43minp\u001b[49m\u001b[43m[\u001b[49m\u001b[38;5;241;43m0\u001b[39;49m\u001b[43m]\u001b[49m\u001b[43m[\u001b[49m\u001b[38;5;124;43m\"\u001b[39;49m\u001b[38;5;124;43mindex\u001b[39;49m\u001b[38;5;124;43m\"\u001b[39;49m\u001b[43m]\u001b[49m\u001b[43m,\u001b[49m\u001b[43m \u001b[49m\u001b[43mnp\u001b[49m\u001b[38;5;241;43m.\u001b[39;49m\u001b[43mexpand_dims\u001b[49m\u001b[43m(\u001b[49m\u001b[43msequences\u001b[49m\u001b[43m,\u001b[49m\u001b[43maxis\u001b[49m\u001b[38;5;241;43m=\u001b[39;49m\u001b[38;5;241;43m0\u001b[39;49m\u001b[43m)\u001b[49m\u001b[43m)\u001b[49m\n\u001b[0;32m      7\u001b[0m interpreter\u001b[38;5;241m.\u001b[39minvoke()\n\u001b[0;32m      9\u001b[0m                 \u001b[38;5;66;03m#for i in sequence[-30:]:\u001b[39;00m\n",
      "File \u001b[1;32m~\\AppData\\Local\\Programs\\Python\\Python310\\lib\\site-packages\\tensorflow\\lite\\python\\interpreter.py:697\u001b[0m, in \u001b[0;36mInterpreter.set_tensor\u001b[1;34m(self, tensor_index, value)\u001b[0m\n\u001b[0;32m    681\u001b[0m \u001b[38;5;28;01mdef\u001b[39;00m \u001b[38;5;21mset_tensor\u001b[39m(\u001b[38;5;28mself\u001b[39m, tensor_index, value):\n\u001b[0;32m    682\u001b[0m   \u001b[38;5;124;03m\"\"\"Sets the value of the input tensor.\u001b[39;00m\n\u001b[0;32m    683\u001b[0m \n\u001b[0;32m    684\u001b[0m \u001b[38;5;124;03m  Note this copies data in `value`.\u001b[39;00m\n\u001b[1;32m   (...)\u001b[0m\n\u001b[0;32m    695\u001b[0m \u001b[38;5;124;03m    ValueError: If the interpreter could not set the tensor.\u001b[39;00m\n\u001b[0;32m    696\u001b[0m \u001b[38;5;124;03m  \"\"\"\u001b[39;00m\n\u001b[1;32m--> 697\u001b[0m   \u001b[38;5;28;43mself\u001b[39;49m\u001b[38;5;241;43m.\u001b[39;49m\u001b[43m_interpreter\u001b[49m\u001b[38;5;241;43m.\u001b[39;49m\u001b[43mSetTensor\u001b[49m\u001b[43m(\u001b[49m\u001b[43mtensor_index\u001b[49m\u001b[43m,\u001b[49m\u001b[43m \u001b[49m\u001b[43mvalue\u001b[49m\u001b[43m)\u001b[49m\n",
      "\u001b[1;31mValueError\u001b[0m: Cannot set tensor: Got value of type FLOAT64 but expected type FLOAT32 for input 0, name: serving_default_lstm_9_input:0 "
     ]
    }
   ],
   "source": [
    "interpreter = tf.lite.Interpreter(\"LiteML.tflite\")\n",
    "\n",
    "inp = interpreter.get_input_details()\n",
    "out = interpreter.get_output_details()\n",
    "\n",
    "interpreter.set_tensor(inp[0][\"index\"], np.expand_dims(sequences,axis=0))\n",
    "interpreter.invoke()\n",
    "                \n",
    "                #for i in sequence[-30:]:\n",
    "output_data = interpreter.get_tensor(out[0][\"index\"])\n",
    "                \n",
    "highest = np.argmax(output_data)\n",
    "word = VM.get_key(signs, highest)\n",
    "print(output_data.shape)\n",
    "print(word)\n"
   ]
  },
  {
   "cell_type": "code",
   "execution_count": null,
   "id": "539cd0be",
   "metadata": {},
   "outputs": [],
   "source": []
  }
 ],
 "metadata": {
  "kernelspec": {
   "display_name": "Python 3 (ipykernel)",
   "language": "python",
   "name": "python3"
  },
  "language_info": {
   "codemirror_mode": {
    "name": "ipython",
    "version": 3
   },
   "file_extension": ".py",
   "mimetype": "text/x-python",
   "name": "python",
   "nbconvert_exporter": "python",
   "pygments_lexer": "ipython3",
   "version": "3.10.7"
  }
 },
 "nbformat": 4,
 "nbformat_minor": 5
}
