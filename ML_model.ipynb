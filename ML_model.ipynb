{
 "cells": [
  {
   "cell_type": "code",
   "execution_count": 7,
   "id": "1fb650f8",
   "metadata": {},
   "outputs": [],
   "source": [
    "from sklearn.model_selection import train_test_split\n",
    "import tensorflow as tf\n",
    "from tensorflow.keras.utils import to_categorical\n",
    "from tensorflow.keras.models import Sequential\n",
    "from tensorflow.keras.layers import LSTM, Dense, Flatten\n",
    "from functions import VM\n",
    "import os\n",
    "import numpy as np"
   ]
  },
  {
   "cell_type": "markdown",
   "id": "4835d852",
   "metadata": {},
   "source": [
    "# Take the sign names in our collections data"
   ]
  },
  {
   "cell_type": "code",
   "execution_count": 8,
   "id": "de5110e8",
   "metadata": {},
   "outputs": [],
   "source": [
    "signs = sorted(os.listdir(\"./Keypoint_Data/\")) # take all the signs used in data collection\n",
    "sign_id = {label: num for num, label in enumerate(signs)} # assign a value for each sign (each sign is assign to its index)"
   ]
  },
  {
   "cell_type": "code",
   "execution_count": 9,
   "id": "95ac6ae9",
   "metadata": {},
   "outputs": [
    {
     "data": {
      "text/plain": [
       "'hello'"
      ]
     },
     "execution_count": 9,
     "metadata": {},
     "output_type": "execute_result"
    }
   ],
   "source": [
    "signs[0]"
   ]
  },
  {
   "cell_type": "code",
   "execution_count": 10,
   "id": "ea4b6064",
   "metadata": {},
   "outputs": [
    {
     "data": {
      "text/plain": [
       "0"
      ]
     },
     "execution_count": 10,
     "metadata": {},
     "output_type": "execute_result"
    }
   ],
   "source": [
    "sign_id['hello']"
   ]
  },
  {
   "cell_type": "markdown",
   "id": "0a87222e",
   "metadata": {},
   "source": [
    "# Create the our x and y data\n"
   ]
  },
  {
   "cell_type": "code",
   "execution_count": 11,
   "id": "521243ad",
   "metadata": {},
   "outputs": [],
   "source": [
    "sequences, labels = [], [] # sequences represents our x data while labels represents our y data\n",
    "# create a loop that creates our x and y data\n",
    "for sign in signs:\n",
    "    for sequence in range(VM.seq):\n",
    "        window = []\n",
    "        for frames in range(VM.seq_lenght):\n",
    "            res = np.load(os.path.join(VM.DATA_PATH, sign, str(sequence), f\"{frames}.npy\"))\n",
    "            window.append(res)\n",
    "        sequences.append(window)\n",
    "        labels.append(sign_id[sign])\n",
    "        \n",
    "# store our x and y data to a numpy array\n",
    "x_data = np.array(sequences) \n",
    "y_data = to_categorical(labels).astype(int) \n",
    "\n",
    "# setup our training and testing partition\n",
    "x_train, x_test, y_train, y_test = train_test_split(x_data, y_data, test_size=0.05)"
   ]
  },
  {
   "cell_type": "markdown",
   "id": "f34079f0",
   "metadata": {},
   "source": [
    "# Build and train the model\n"
   ]
  },
  {
   "cell_type": "code",
   "execution_count": 12,
   "id": "59013a91",
   "metadata": {},
   "outputs": [],
   "source": [
    "# build the model\n",
    "model = Sequential()\n",
    "model.add(LSTM(64, return_sequences=\"True\", activation=\"relu\", input_shape=(30,1530)))\n",
    "model.add(LSTM(128, return_sequences=\"True\", activation=\"relu\"))\n",
    "model.add(LSTM(64, return_sequences=\"False\", activation=\"relu\"))\n",
    "model.add(Flatten(input_shape=(x_train.shape[1:])))\n",
    "model.add(Dense(32, activation=\"relu\"))\n",
    "model.add(Dense(64, activation=\"relu\"))\n",
    "model.add(Dense(np.array(signs).shape[0], activation=\"softmax\"))"
   ]
  },
  {
   "cell_type": "code",
   "execution_count": 13,
   "id": "88417beb",
   "metadata": {},
   "outputs": [],
   "source": [
    "model.compile(optimizer=\"Adam\", loss=\"categorical_crossentropy\", metrics=[\"categorical_accuracy\"]) # compiler "
   ]
  },
  {
   "cell_type": "code",
   "execution_count": 14,
   "id": "2f8c73a0",
   "metadata": {},
   "outputs": [
    {
     "name": "stdout",
     "output_type": "stream",
     "text": [
      "Epoch 1/500\n",
      "18/18 [==============================] - 7s 89ms/step - loss: 2.5326 - categorical_accuracy: 0.0807\n",
      "Epoch 2/500\n",
      "18/18 [==============================] - 1s 77ms/step - loss: 2.5065 - categorical_accuracy: 0.0877\n",
      "Epoch 3/500\n",
      "18/18 [==============================] - 1s 77ms/step - loss: 2.4885 - categorical_accuracy: 0.0807\n",
      "Epoch 4/500\n",
      "18/18 [==============================] - 1s 77ms/step - loss: 2.4823 - categorical_accuracy: 0.1053\n",
      "Epoch 5/500\n",
      "18/18 [==============================] - 1s 76ms/step - loss: 2.4650 - categorical_accuracy: 0.0947\n",
      "Epoch 6/500\n",
      "18/18 [==============================] - 1s 78ms/step - loss: 2.4369 - categorical_accuracy: 0.1070\n",
      "Epoch 7/500\n",
      "18/18 [==============================] - 1s 77ms/step - loss: 2.3436 - categorical_accuracy: 0.1368\n",
      "Epoch 8/500\n",
      "18/18 [==============================] - 1s 77ms/step - loss: 2.2695 - categorical_accuracy: 0.1456\n",
      "Epoch 9/500\n",
      "18/18 [==============================] - 1s 78ms/step - loss: 2.0914 - categorical_accuracy: 0.2070\n",
      "Epoch 10/500\n",
      "18/18 [==============================] - 1s 78ms/step - loss: 1.7976 - categorical_accuracy: 0.2982\n",
      "Epoch 11/500\n",
      "18/18 [==============================] - 1s 79ms/step - loss: 1.5900 - categorical_accuracy: 0.3526\n",
      "Epoch 12/500\n",
      "18/18 [==============================] - 1s 80ms/step - loss: 1.7488 - categorical_accuracy: 0.3070\n",
      "Epoch 13/500\n",
      "18/18 [==============================] - 1s 79ms/step - loss: 1.4980 - categorical_accuracy: 0.3474\n",
      "Epoch 14/500\n",
      "18/18 [==============================] - 1s 78ms/step - loss: 1.3957 - categorical_accuracy: 0.3912\n",
      "Epoch 15/500\n",
      "18/18 [==============================] - 1s 77ms/step - loss: 1.2994 - categorical_accuracy: 0.4351\n",
      "Epoch 16/500\n",
      "18/18 [==============================] - 1s 77ms/step - loss: 1.1666 - categorical_accuracy: 0.4930\n",
      "Epoch 17/500\n",
      "18/18 [==============================] - 1s 78ms/step - loss: 1.2418 - categorical_accuracy: 0.4526\n",
      "Epoch 18/500\n",
      "18/18 [==============================] - 1s 80ms/step - loss: 1.1082 - categorical_accuracy: 0.4930\n",
      "Epoch 19/500\n",
      "18/18 [==============================] - 1s 81ms/step - loss: 1.0016 - categorical_accuracy: 0.5544\n",
      "Epoch 20/500\n",
      "18/18 [==============================] - 2s 85ms/step - loss: 1.2389 - categorical_accuracy: 0.4614\n",
      "Epoch 21/500\n",
      "18/18 [==============================] - 2s 87ms/step - loss: 1.0761 - categorical_accuracy: 0.5368\n",
      "Epoch 22/500\n",
      "18/18 [==============================] - 2s 85ms/step - loss: 0.9398 - categorical_accuracy: 0.5912\n",
      "Epoch 23/500\n",
      "18/18 [==============================] - 1s 79ms/step - loss: 0.9547 - categorical_accuracy: 0.5632\n",
      "Epoch 24/500\n",
      "18/18 [==============================] - 1s 82ms/step - loss: 1.0445 - categorical_accuracy: 0.5281\n",
      "Epoch 25/500\n",
      "18/18 [==============================] - 2s 86ms/step - loss: 0.9066 - categorical_accuracy: 0.6018\n",
      "Epoch 26/500\n",
      "18/18 [==============================] - 1s 83ms/step - loss: 0.9182 - categorical_accuracy: 0.5965\n",
      "Epoch 27/500\n",
      "18/18 [==============================] - 1s 78ms/step - loss: 0.8375 - categorical_accuracy: 0.6263\n",
      "Epoch 28/500\n",
      "18/18 [==============================] - 1s 83ms/step - loss: 0.9649 - categorical_accuracy: 0.5737\n",
      "Epoch 29/500\n",
      "18/18 [==============================] - 1s 83ms/step - loss: 0.8976 - categorical_accuracy: 0.6105\n",
      "Epoch 30/500\n",
      "18/18 [==============================] - 1s 79ms/step - loss: 0.8265 - categorical_accuracy: 0.6439\n",
      "Epoch 31/500\n",
      "18/18 [==============================] - 1s 78ms/step - loss: 0.9108 - categorical_accuracy: 0.5982\n",
      "Epoch 32/500\n",
      "18/18 [==============================] - 1s 79ms/step - loss: 0.8769 - categorical_accuracy: 0.6211\n",
      "Epoch 33/500\n",
      "18/18 [==============================] - 1s 79ms/step - loss: 0.9111 - categorical_accuracy: 0.5825\n",
      "Epoch 34/500\n",
      "18/18 [==============================] - 1s 79ms/step - loss: 0.9076 - categorical_accuracy: 0.6018\n",
      "Epoch 35/500\n",
      "18/18 [==============================] - 1s 79ms/step - loss: 0.9333 - categorical_accuracy: 0.5737\n",
      "Epoch 36/500\n",
      "18/18 [==============================] - 1s 79ms/step - loss: 0.8390 - categorical_accuracy: 0.6105\n",
      "Epoch 37/500\n",
      "18/18 [==============================] - 1s 79ms/step - loss: 0.9614 - categorical_accuracy: 0.5860\n",
      "Epoch 38/500\n",
      "18/18 [==============================] - 1s 80ms/step - loss: 0.9299 - categorical_accuracy: 0.5842\n",
      "Epoch 39/500\n",
      "18/18 [==============================] - 1s 82ms/step - loss: 0.8874 - categorical_accuracy: 0.6158\n",
      "Epoch 40/500\n",
      "18/18 [==============================] - 1s 78ms/step - loss: 0.8037 - categorical_accuracy: 0.6544\n",
      "Epoch 41/500\n",
      "18/18 [==============================] - 1s 80ms/step - loss: 0.7261 - categorical_accuracy: 0.6877\n",
      "Epoch 42/500\n",
      "18/18 [==============================] - 1s 78ms/step - loss: 0.7607 - categorical_accuracy: 0.6649\n",
      "Epoch 43/500\n",
      "18/18 [==============================] - 1s 79ms/step - loss: 0.7329 - categorical_accuracy: 0.6825\n",
      "Epoch 44/500\n",
      "18/18 [==============================] - 1s 80ms/step - loss: 0.7685 - categorical_accuracy: 0.6632\n",
      "Epoch 45/500\n",
      "18/18 [==============================] - 1s 78ms/step - loss: 0.8328 - categorical_accuracy: 0.6649\n",
      "Epoch 46/500\n",
      "18/18 [==============================] - 1s 78ms/step - loss: 0.7320 - categorical_accuracy: 0.6947\n",
      "Epoch 47/500\n",
      "18/18 [==============================] - 1s 79ms/step - loss: 0.7762 - categorical_accuracy: 0.6561\n",
      "Epoch 48/500\n",
      "18/18 [==============================] - 1s 81ms/step - loss: 0.7796 - categorical_accuracy: 0.6912\n",
      "Epoch 49/500\n",
      "18/18 [==============================] - 1s 78ms/step - loss: 0.6773 - categorical_accuracy: 0.7140\n",
      "Epoch 50/500\n",
      "18/18 [==============================] - 1s 80ms/step - loss: 0.7529 - categorical_accuracy: 0.6719\n",
      "Epoch 51/500\n",
      "18/18 [==============================] - 1s 79ms/step - loss: 0.7645 - categorical_accuracy: 0.6474\n",
      "Epoch 52/500\n",
      "18/18 [==============================] - 1s 80ms/step - loss: 0.8405 - categorical_accuracy: 0.6526\n",
      "Epoch 53/500\n",
      "18/18 [==============================] - 2s 85ms/step - loss: 0.7297 - categorical_accuracy: 0.7158\n",
      "Epoch 54/500\n",
      "18/18 [==============================] - 2s 85ms/step - loss: 0.6781 - categorical_accuracy: 0.7175\n",
      "Epoch 55/500\n",
      "18/18 [==============================] - 2s 85ms/step - loss: 0.6950 - categorical_accuracy: 0.7018\n",
      "Epoch 56/500\n",
      "18/18 [==============================] - 2s 83ms/step - loss: 0.6869 - categorical_accuracy: 0.7105\n",
      "Epoch 57/500\n",
      "18/18 [==============================] - 2s 83ms/step - loss: 0.7500 - categorical_accuracy: 0.6860\n",
      "Epoch 58/500\n",
      "18/18 [==============================] - 2s 87ms/step - loss: 1.1751 - categorical_accuracy: 0.5070\n",
      "Epoch 59/500\n",
      "18/18 [==============================] - 1s 83ms/step - loss: 0.9775 - categorical_accuracy: 0.5368\n",
      "Epoch 60/500\n",
      "18/18 [==============================] - 1s 78ms/step - loss: 0.8189 - categorical_accuracy: 0.6561\n",
      "Epoch 61/500\n",
      "18/18 [==============================] - 1s 78ms/step - loss: 0.6993 - categorical_accuracy: 0.7246\n",
      "Epoch 62/500\n",
      "18/18 [==============================] - 1s 80ms/step - loss: 0.6082 - categorical_accuracy: 0.7614\n",
      "Epoch 63/500\n",
      "18/18 [==============================] - 1s 79ms/step - loss: 0.6850 - categorical_accuracy: 0.7053\n",
      "Epoch 64/500\n",
      "18/18 [==============================] - 2s 90ms/step - loss: 0.7274 - categorical_accuracy: 0.6965\n",
      "Epoch 65/500\n",
      "18/18 [==============================] - 1s 78ms/step - loss: 0.6420 - categorical_accuracy: 0.7333\n",
      "Epoch 66/500\n",
      "18/18 [==============================] - 1s 79ms/step - loss: 0.6001 - categorical_accuracy: 0.7544\n",
      "Epoch 67/500\n",
      "18/18 [==============================] - 1s 77ms/step - loss: 0.6015 - categorical_accuracy: 0.7737\n",
      "Epoch 68/500\n",
      "18/18 [==============================] - 1s 78ms/step - loss: 0.8272 - categorical_accuracy: 0.6491\n",
      "Epoch 69/500\n",
      "18/18 [==============================] - 1s 81ms/step - loss: 0.6157 - categorical_accuracy: 0.7789\n",
      "Epoch 70/500\n",
      "18/18 [==============================] - 1s 82ms/step - loss: 0.5632 - categorical_accuracy: 0.7825\n",
      "Epoch 71/500\n",
      "18/18 [==============================] - 1s 79ms/step - loss: 0.7934 - categorical_accuracy: 0.6719\n",
      "Epoch 72/500\n",
      "18/18 [==============================] - 1s 80ms/step - loss: 0.6807 - categorical_accuracy: 0.7000\n",
      "Epoch 73/500\n"
     ]
    },
    {
     "name": "stdout",
     "output_type": "stream",
     "text": [
      "18/18 [==============================] - 1s 76ms/step - loss: 0.6131 - categorical_accuracy: 0.7509\n",
      "Epoch 74/500\n",
      "18/18 [==============================] - 1s 77ms/step - loss: 0.5425 - categorical_accuracy: 0.7877\n",
      "Epoch 75/500\n",
      "18/18 [==============================] - 1s 79ms/step - loss: 0.5267 - categorical_accuracy: 0.7982\n",
      "Epoch 76/500\n",
      "18/18 [==============================] - 2s 85ms/step - loss: 0.5244 - categorical_accuracy: 0.7684\n",
      "Epoch 77/500\n",
      "18/18 [==============================] - 1s 82ms/step - loss: 0.5584 - categorical_accuracy: 0.7807\n",
      "Epoch 78/500\n",
      "18/18 [==============================] - 1s 78ms/step - loss: 0.5686 - categorical_accuracy: 0.7702\n",
      "Epoch 79/500\n",
      "18/18 [==============================] - 1s 78ms/step - loss: 0.5074 - categorical_accuracy: 0.8263\n",
      "Epoch 80/500\n",
      "18/18 [==============================] - 1s 76ms/step - loss: 0.4586 - categorical_accuracy: 0.8228\n",
      "Epoch 81/500\n",
      "18/18 [==============================] - 1s 76ms/step - loss: 0.4074 - categorical_accuracy: 0.8719\n",
      "Epoch 82/500\n",
      "18/18 [==============================] - 1s 77ms/step - loss: 0.4112 - categorical_accuracy: 0.8526\n",
      "Epoch 83/500\n",
      "18/18 [==============================] - 1s 78ms/step - loss: 0.4670 - categorical_accuracy: 0.8421\n",
      "Epoch 84/500\n",
      "18/18 [==============================] - 1s 77ms/step - loss: 0.5223 - categorical_accuracy: 0.8053\n",
      "Epoch 85/500\n",
      "18/18 [==============================] - 1s 77ms/step - loss: 0.6287 - categorical_accuracy: 0.7404\n",
      "Epoch 86/500\n",
      "18/18 [==============================] - 1s 76ms/step - loss: 0.5695 - categorical_accuracy: 0.7754\n",
      "Epoch 87/500\n",
      "18/18 [==============================] - 1s 77ms/step - loss: 0.4578 - categorical_accuracy: 0.8316\n",
      "Epoch 88/500\n",
      "18/18 [==============================] - 1s 78ms/step - loss: 0.3712 - categorical_accuracy: 0.8754\n",
      "Epoch 89/500\n",
      "18/18 [==============================] - 1s 78ms/step - loss: 0.6028 - categorical_accuracy: 0.7667\n",
      "Epoch 90/500\n",
      "18/18 [==============================] - 1s 79ms/step - loss: 0.5241 - categorical_accuracy: 0.7930\n",
      "Epoch 91/500\n",
      "18/18 [==============================] - 1s 79ms/step - loss: 0.4767 - categorical_accuracy: 0.8316\n",
      "Epoch 92/500\n",
      "18/18 [==============================] - 1s 79ms/step - loss: 0.4592 - categorical_accuracy: 0.8105\n",
      "Epoch 93/500\n",
      "18/18 [==============================] - 1s 79ms/step - loss: 0.4827 - categorical_accuracy: 0.8333\n",
      "Epoch 94/500\n",
      "18/18 [==============================] - 1s 80ms/step - loss: 0.4398 - categorical_accuracy: 0.8298\n",
      "Epoch 95/500\n",
      "18/18 [==============================] - 1s 81ms/step - loss: 0.3781 - categorical_accuracy: 0.8579\n",
      "Epoch 96/500\n",
      "18/18 [==============================] - 2s 85ms/step - loss: 0.3659 - categorical_accuracy: 0.8737\n",
      "Epoch 97/500\n",
      "18/18 [==============================] - 1s 79ms/step - loss: 0.3294 - categorical_accuracy: 0.8860\n",
      "Epoch 98/500\n",
      "18/18 [==============================] - 1s 78ms/step - loss: 0.4415 - categorical_accuracy: 0.8439\n",
      "Epoch 99/500\n",
      "18/18 [==============================] - 1s 80ms/step - loss: 0.3837 - categorical_accuracy: 0.8614\n",
      "Epoch 100/500\n",
      "18/18 [==============================] - 1s 80ms/step - loss: 0.3748 - categorical_accuracy: 0.8596\n",
      "Epoch 101/500\n",
      "18/18 [==============================] - 1s 79ms/step - loss: 0.3246 - categorical_accuracy: 0.9070\n",
      "Epoch 102/500\n",
      "18/18 [==============================] - 1s 83ms/step - loss: 0.3157 - categorical_accuracy: 0.8930\n",
      "Epoch 103/500\n",
      "18/18 [==============================] - 1s 81ms/step - loss: 0.4385 - categorical_accuracy: 0.8246\n",
      "Epoch 104/500\n",
      "18/18 [==============================] - 1s 80ms/step - loss: 0.4286 - categorical_accuracy: 0.8298\n",
      "Epoch 105/500\n",
      "18/18 [==============================] - 1s 77ms/step - loss: 0.3915 - categorical_accuracy: 0.8579\n",
      "Epoch 106/500\n",
      "18/18 [==============================] - 1s 79ms/step - loss: 0.4059 - categorical_accuracy: 0.8509\n",
      "Epoch 107/500\n",
      "18/18 [==============================] - 1s 84ms/step - loss: 0.3801 - categorical_accuracy: 0.8596\n",
      "Epoch 108/500\n",
      "18/18 [==============================] - 1s 81ms/step - loss: 0.4095 - categorical_accuracy: 0.8439\n",
      "Epoch 109/500\n",
      "18/18 [==============================] - 1s 78ms/step - loss: 0.3069 - categorical_accuracy: 0.8947\n",
      "Epoch 110/500\n",
      "18/18 [==============================] - 1s 78ms/step - loss: 0.2966 - categorical_accuracy: 0.9000\n",
      "Epoch 111/500\n",
      "18/18 [==============================] - 1s 79ms/step - loss: 0.3214 - categorical_accuracy: 0.8789\n",
      "Epoch 112/500\n",
      "18/18 [==============================] - 1s 81ms/step - loss: 0.4265 - categorical_accuracy: 0.8439\n",
      "Epoch 113/500\n",
      "18/18 [==============================] - 1s 81ms/step - loss: 0.3292 - categorical_accuracy: 0.8842\n",
      "Epoch 114/500\n",
      "18/18 [==============================] - 1s 78ms/step - loss: 0.3744 - categorical_accuracy: 0.8526\n",
      "Epoch 115/500\n",
      "18/18 [==============================] - 1s 79ms/step - loss: 0.3473 - categorical_accuracy: 0.8596\n",
      "Epoch 116/500\n",
      "18/18 [==============================] - 1s 81ms/step - loss: 0.2923 - categorical_accuracy: 0.8895\n",
      "Epoch 117/500\n",
      "18/18 [==============================] - 1s 80ms/step - loss: 0.2964 - categorical_accuracy: 0.8930\n",
      "Epoch 118/500\n",
      "18/18 [==============================] - 1s 79ms/step - loss: 0.4279 - categorical_accuracy: 0.8439\n",
      "Epoch 119/500\n",
      "18/18 [==============================] - 1s 81ms/step - loss: 0.4612 - categorical_accuracy: 0.8123\n",
      "Epoch 120/500\n",
      "18/18 [==============================] - 1s 80ms/step - loss: 0.3480 - categorical_accuracy: 0.8702\n",
      "Epoch 121/500\n",
      "18/18 [==============================] - 2s 84ms/step - loss: 0.3824 - categorical_accuracy: 0.8684\n",
      "Epoch 122/500\n",
      "18/18 [==============================] - 1s 81ms/step - loss: 0.4122 - categorical_accuracy: 0.8386\n",
      "Epoch 123/500\n",
      "18/18 [==============================] - 1s 81ms/step - loss: 0.2989 - categorical_accuracy: 0.8895\n",
      "Epoch 124/500\n",
      "18/18 [==============================] - 1s 79ms/step - loss: 0.2932 - categorical_accuracy: 0.9000\n",
      "Epoch 125/500\n",
      "18/18 [==============================] - 1s 82ms/step - loss: 0.3013 - categorical_accuracy: 0.8965\n",
      "Epoch 126/500\n",
      "18/18 [==============================] - 1s 81ms/step - loss: 0.3010 - categorical_accuracy: 0.8825\n",
      "Epoch 127/500\n",
      "18/18 [==============================] - 1s 81ms/step - loss: 0.3600 - categorical_accuracy: 0.8649\n",
      "Epoch 128/500\n",
      "18/18 [==============================] - 1s 84ms/step - loss: 0.4417 - categorical_accuracy: 0.8298\n",
      "Epoch 129/500\n",
      "18/18 [==============================] - 1s 78ms/step - loss: 0.3399 - categorical_accuracy: 0.8789\n",
      "Epoch 130/500\n",
      "18/18 [==============================] - 1s 80ms/step - loss: 0.2616 - categorical_accuracy: 0.9018\n",
      "Epoch 131/500\n",
      "18/18 [==============================] - 1s 79ms/step - loss: 0.2617 - categorical_accuracy: 0.9053\n",
      "Epoch 132/500\n",
      "18/18 [==============================] - 1s 79ms/step - loss: 0.2796 - categorical_accuracy: 0.8965\n",
      "Epoch 133/500\n",
      "18/18 [==============================] - 1s 81ms/step - loss: 0.3452 - categorical_accuracy: 0.8561\n",
      "Epoch 134/500\n",
      "18/18 [==============================] - 1s 80ms/step - loss: 0.2984 - categorical_accuracy: 0.8895\n",
      "Epoch 135/500\n",
      "18/18 [==============================] - 1s 79ms/step - loss: 0.3077 - categorical_accuracy: 0.8930\n",
      "Epoch 136/500\n",
      "18/18 [==============================] - 1s 78ms/step - loss: 0.3639 - categorical_accuracy: 0.8544\n",
      "Epoch 137/500\n",
      "18/18 [==============================] - 1s 81ms/step - loss: 0.2841 - categorical_accuracy: 0.9000\n",
      "Epoch 138/500\n",
      "18/18 [==============================] - 1s 79ms/step - loss: 0.5181 - categorical_accuracy: 0.8123\n",
      "Epoch 139/500\n",
      "18/18 [==============================] - 1s 80ms/step - loss: 0.3680 - categorical_accuracy: 0.8649\n",
      "Epoch 140/500\n",
      "18/18 [==============================] - 2s 85ms/step - loss: 0.3274 - categorical_accuracy: 0.8877\n",
      "Epoch 141/500\n",
      "18/18 [==============================] - 1s 79ms/step - loss: 0.3468 - categorical_accuracy: 0.8719\n",
      "Epoch 142/500\n",
      "18/18 [==============================] - 1s 78ms/step - loss: 0.3339 - categorical_accuracy: 0.8754\n",
      "Epoch 143/500\n",
      "18/18 [==============================] - 1s 79ms/step - loss: 0.2448 - categorical_accuracy: 0.9123\n",
      "Epoch 144/500\n",
      "18/18 [==============================] - 1s 80ms/step - loss: 0.2288 - categorical_accuracy: 0.9246\n",
      "Epoch 145/500\n"
     ]
    },
    {
     "name": "stdout",
     "output_type": "stream",
     "text": [
      "18/18 [==============================] - 1s 78ms/step - loss: 0.3184 - categorical_accuracy: 0.8772\n",
      "Epoch 146/500\n",
      "18/18 [==============================] - 1s 79ms/step - loss: 0.2879 - categorical_accuracy: 0.8965\n",
      "Epoch 147/500\n",
      "18/18 [==============================] - 1s 78ms/step - loss: 0.2480 - categorical_accuracy: 0.9088\n",
      "Epoch 148/500\n",
      "18/18 [==============================] - 1s 77ms/step - loss: 0.2488 - categorical_accuracy: 0.9088\n",
      "Epoch 149/500\n",
      "18/18 [==============================] - 1s 77ms/step - loss: 0.2140 - categorical_accuracy: 0.9140\n",
      "Epoch 150/500\n",
      "18/18 [==============================] - 1s 79ms/step - loss: 0.2616 - categorical_accuracy: 0.9123\n",
      "Epoch 151/500\n",
      "18/18 [==============================] - 1s 79ms/step - loss: 0.4841 - categorical_accuracy: 0.8281\n",
      "Epoch 152/500\n",
      "18/18 [==============================] - 1s 81ms/step - loss: 0.3810 - categorical_accuracy: 0.8561\n",
      "Epoch 153/500\n",
      "18/18 [==============================] - 1s 79ms/step - loss: 0.2102 - categorical_accuracy: 0.9368\n",
      "Epoch 154/500\n",
      "18/18 [==============================] - 1s 80ms/step - loss: 0.2099 - categorical_accuracy: 0.9228\n",
      "Epoch 155/500\n",
      "18/18 [==============================] - 1s 81ms/step - loss: 0.2347 - categorical_accuracy: 0.9140\n",
      "Epoch 156/500\n",
      "18/18 [==============================] - 1s 81ms/step - loss: 0.1858 - categorical_accuracy: 0.9281\n",
      "Epoch 157/500\n",
      "18/18 [==============================] - 2s 83ms/step - loss: 0.1805 - categorical_accuracy: 0.9474\n",
      "Epoch 158/500\n",
      "10/18 [===============>..............] - ETA: 0s - loss: 0.2028 - categorical_accuracy: 0.9219"
     ]
    },
    {
     "ename": "KeyboardInterrupt",
     "evalue": "",
     "output_type": "error",
     "traceback": [
      "\u001b[1;31m---------------------------------------------------------------------------\u001b[0m",
      "\u001b[1;31mKeyboardInterrupt\u001b[0m                         Traceback (most recent call last)",
      "Input \u001b[1;32mIn [14]\u001b[0m, in \u001b[0;36m<cell line: 1>\u001b[1;34m()\u001b[0m\n\u001b[1;32m----> 1\u001b[0m \u001b[43mmodel\u001b[49m\u001b[38;5;241;43m.\u001b[39;49m\u001b[43mfit\u001b[49m\u001b[43m(\u001b[49m\u001b[43mx_train\u001b[49m\u001b[43m,\u001b[49m\u001b[43m \u001b[49m\u001b[43my_train\u001b[49m\u001b[43m,\u001b[49m\u001b[43m \u001b[49m\u001b[43mepochs\u001b[49m\u001b[38;5;241;43m=\u001b[39;49m\u001b[38;5;241;43m500\u001b[39;49m\u001b[43m)\u001b[49m\n",
      "File \u001b[1;32m~\\AppData\\Local\\Programs\\Python\\Python310\\lib\\site-packages\\keras\\utils\\traceback_utils.py:65\u001b[0m, in \u001b[0;36mfilter_traceback.<locals>.error_handler\u001b[1;34m(*args, **kwargs)\u001b[0m\n\u001b[0;32m     63\u001b[0m filtered_tb \u001b[38;5;241m=\u001b[39m \u001b[38;5;28;01mNone\u001b[39;00m\n\u001b[0;32m     64\u001b[0m \u001b[38;5;28;01mtry\u001b[39;00m:\n\u001b[1;32m---> 65\u001b[0m     \u001b[38;5;28;01mreturn\u001b[39;00m fn(\u001b[38;5;241m*\u001b[39margs, \u001b[38;5;241m*\u001b[39m\u001b[38;5;241m*\u001b[39mkwargs)\n\u001b[0;32m     66\u001b[0m \u001b[38;5;28;01mexcept\u001b[39;00m \u001b[38;5;167;01mException\u001b[39;00m \u001b[38;5;28;01mas\u001b[39;00m e:\n\u001b[0;32m     67\u001b[0m     filtered_tb \u001b[38;5;241m=\u001b[39m _process_traceback_frames(e\u001b[38;5;241m.\u001b[39m__traceback__)\n",
      "File \u001b[1;32m~\\AppData\\Local\\Programs\\Python\\Python310\\lib\\site-packages\\keras\\engine\\training.py:1564\u001b[0m, in \u001b[0;36mModel.fit\u001b[1;34m(self, x, y, batch_size, epochs, verbose, callbacks, validation_split, validation_data, shuffle, class_weight, sample_weight, initial_epoch, steps_per_epoch, validation_steps, validation_batch_size, validation_freq, max_queue_size, workers, use_multiprocessing)\u001b[0m\n\u001b[0;32m   1556\u001b[0m \u001b[38;5;28;01mwith\u001b[39;00m tf\u001b[38;5;241m.\u001b[39mprofiler\u001b[38;5;241m.\u001b[39mexperimental\u001b[38;5;241m.\u001b[39mTrace(\n\u001b[0;32m   1557\u001b[0m     \u001b[38;5;124m\"\u001b[39m\u001b[38;5;124mtrain\u001b[39m\u001b[38;5;124m\"\u001b[39m,\n\u001b[0;32m   1558\u001b[0m     epoch_num\u001b[38;5;241m=\u001b[39mepoch,\n\u001b[1;32m   (...)\u001b[0m\n\u001b[0;32m   1561\u001b[0m     _r\u001b[38;5;241m=\u001b[39m\u001b[38;5;241m1\u001b[39m,\n\u001b[0;32m   1562\u001b[0m ):\n\u001b[0;32m   1563\u001b[0m     callbacks\u001b[38;5;241m.\u001b[39mon_train_batch_begin(step)\n\u001b[1;32m-> 1564\u001b[0m     tmp_logs \u001b[38;5;241m=\u001b[39m \u001b[38;5;28;43mself\u001b[39;49m\u001b[38;5;241;43m.\u001b[39;49m\u001b[43mtrain_function\u001b[49m\u001b[43m(\u001b[49m\u001b[43miterator\u001b[49m\u001b[43m)\u001b[49m\n\u001b[0;32m   1565\u001b[0m     \u001b[38;5;28;01mif\u001b[39;00m data_handler\u001b[38;5;241m.\u001b[39mshould_sync:\n\u001b[0;32m   1566\u001b[0m         context\u001b[38;5;241m.\u001b[39masync_wait()\n",
      "File \u001b[1;32m~\\AppData\\Local\\Programs\\Python\\Python310\\lib\\site-packages\\tensorflow\\python\\util\\traceback_utils.py:150\u001b[0m, in \u001b[0;36mfilter_traceback.<locals>.error_handler\u001b[1;34m(*args, **kwargs)\u001b[0m\n\u001b[0;32m    148\u001b[0m filtered_tb \u001b[38;5;241m=\u001b[39m \u001b[38;5;28;01mNone\u001b[39;00m\n\u001b[0;32m    149\u001b[0m \u001b[38;5;28;01mtry\u001b[39;00m:\n\u001b[1;32m--> 150\u001b[0m   \u001b[38;5;28;01mreturn\u001b[39;00m fn(\u001b[38;5;241m*\u001b[39margs, \u001b[38;5;241m*\u001b[39m\u001b[38;5;241m*\u001b[39mkwargs)\n\u001b[0;32m    151\u001b[0m \u001b[38;5;28;01mexcept\u001b[39;00m \u001b[38;5;167;01mException\u001b[39;00m \u001b[38;5;28;01mas\u001b[39;00m e:\n\u001b[0;32m    152\u001b[0m   filtered_tb \u001b[38;5;241m=\u001b[39m _process_traceback_frames(e\u001b[38;5;241m.\u001b[39m__traceback__)\n",
      "File \u001b[1;32m~\\AppData\\Local\\Programs\\Python\\Python310\\lib\\site-packages\\tensorflow\\python\\eager\\def_function.py:915\u001b[0m, in \u001b[0;36mFunction.__call__\u001b[1;34m(self, *args, **kwds)\u001b[0m\n\u001b[0;32m    912\u001b[0m compiler \u001b[38;5;241m=\u001b[39m \u001b[38;5;124m\"\u001b[39m\u001b[38;5;124mxla\u001b[39m\u001b[38;5;124m\"\u001b[39m \u001b[38;5;28;01mif\u001b[39;00m \u001b[38;5;28mself\u001b[39m\u001b[38;5;241m.\u001b[39m_jit_compile \u001b[38;5;28;01melse\u001b[39;00m \u001b[38;5;124m\"\u001b[39m\u001b[38;5;124mnonXla\u001b[39m\u001b[38;5;124m\"\u001b[39m\n\u001b[0;32m    914\u001b[0m \u001b[38;5;28;01mwith\u001b[39;00m OptionalXlaContext(\u001b[38;5;28mself\u001b[39m\u001b[38;5;241m.\u001b[39m_jit_compile):\n\u001b[1;32m--> 915\u001b[0m   result \u001b[38;5;241m=\u001b[39m \u001b[38;5;28mself\u001b[39m\u001b[38;5;241m.\u001b[39m_call(\u001b[38;5;241m*\u001b[39margs, \u001b[38;5;241m*\u001b[39m\u001b[38;5;241m*\u001b[39mkwds)\n\u001b[0;32m    917\u001b[0m new_tracing_count \u001b[38;5;241m=\u001b[39m \u001b[38;5;28mself\u001b[39m\u001b[38;5;241m.\u001b[39mexperimental_get_tracing_count()\n\u001b[0;32m    918\u001b[0m without_tracing \u001b[38;5;241m=\u001b[39m (tracing_count \u001b[38;5;241m==\u001b[39m new_tracing_count)\n",
      "File \u001b[1;32m~\\AppData\\Local\\Programs\\Python\\Python310\\lib\\site-packages\\tensorflow\\python\\eager\\def_function.py:947\u001b[0m, in \u001b[0;36mFunction._call\u001b[1;34m(self, *args, **kwds)\u001b[0m\n\u001b[0;32m    944\u001b[0m   \u001b[38;5;28mself\u001b[39m\u001b[38;5;241m.\u001b[39m_lock\u001b[38;5;241m.\u001b[39mrelease()\n\u001b[0;32m    945\u001b[0m   \u001b[38;5;66;03m# In this case we have created variables on the first call, so we run the\u001b[39;00m\n\u001b[0;32m    946\u001b[0m   \u001b[38;5;66;03m# defunned version which is guaranteed to never create variables.\u001b[39;00m\n\u001b[1;32m--> 947\u001b[0m   \u001b[38;5;28;01mreturn\u001b[39;00m \u001b[38;5;28mself\u001b[39m\u001b[38;5;241m.\u001b[39m_stateless_fn(\u001b[38;5;241m*\u001b[39margs, \u001b[38;5;241m*\u001b[39m\u001b[38;5;241m*\u001b[39mkwds)  \u001b[38;5;66;03m# pylint: disable=not-callable\u001b[39;00m\n\u001b[0;32m    948\u001b[0m \u001b[38;5;28;01melif\u001b[39;00m \u001b[38;5;28mself\u001b[39m\u001b[38;5;241m.\u001b[39m_stateful_fn \u001b[38;5;129;01mis\u001b[39;00m \u001b[38;5;129;01mnot\u001b[39;00m \u001b[38;5;28;01mNone\u001b[39;00m:\n\u001b[0;32m    949\u001b[0m   \u001b[38;5;66;03m# Release the lock early so that multiple threads can perform the call\u001b[39;00m\n\u001b[0;32m    950\u001b[0m   \u001b[38;5;66;03m# in parallel.\u001b[39;00m\n\u001b[0;32m    951\u001b[0m   \u001b[38;5;28mself\u001b[39m\u001b[38;5;241m.\u001b[39m_lock\u001b[38;5;241m.\u001b[39mrelease()\n",
      "File \u001b[1;32m~\\AppData\\Local\\Programs\\Python\\Python310\\lib\\site-packages\\tensorflow\\python\\eager\\function.py:2496\u001b[0m, in \u001b[0;36mFunction.__call__\u001b[1;34m(self, *args, **kwargs)\u001b[0m\n\u001b[0;32m   2493\u001b[0m \u001b[38;5;28;01mwith\u001b[39;00m \u001b[38;5;28mself\u001b[39m\u001b[38;5;241m.\u001b[39m_lock:\n\u001b[0;32m   2494\u001b[0m   (graph_function,\n\u001b[0;32m   2495\u001b[0m    filtered_flat_args) \u001b[38;5;241m=\u001b[39m \u001b[38;5;28mself\u001b[39m\u001b[38;5;241m.\u001b[39m_maybe_define_function(args, kwargs)\n\u001b[1;32m-> 2496\u001b[0m \u001b[38;5;28;01mreturn\u001b[39;00m \u001b[43mgraph_function\u001b[49m\u001b[38;5;241;43m.\u001b[39;49m\u001b[43m_call_flat\u001b[49m\u001b[43m(\u001b[49m\n\u001b[0;32m   2497\u001b[0m \u001b[43m    \u001b[49m\u001b[43mfiltered_flat_args\u001b[49m\u001b[43m,\u001b[49m\u001b[43m \u001b[49m\u001b[43mcaptured_inputs\u001b[49m\u001b[38;5;241;43m=\u001b[39;49m\u001b[43mgraph_function\u001b[49m\u001b[38;5;241;43m.\u001b[39;49m\u001b[43mcaptured_inputs\u001b[49m\u001b[43m)\u001b[49m\n",
      "File \u001b[1;32m~\\AppData\\Local\\Programs\\Python\\Python310\\lib\\site-packages\\tensorflow\\python\\eager\\function.py:1862\u001b[0m, in \u001b[0;36mConcreteFunction._call_flat\u001b[1;34m(self, args, captured_inputs, cancellation_manager)\u001b[0m\n\u001b[0;32m   1858\u001b[0m possible_gradient_type \u001b[38;5;241m=\u001b[39m gradients_util\u001b[38;5;241m.\u001b[39mPossibleTapeGradientTypes(args)\n\u001b[0;32m   1859\u001b[0m \u001b[38;5;28;01mif\u001b[39;00m (possible_gradient_type \u001b[38;5;241m==\u001b[39m gradients_util\u001b[38;5;241m.\u001b[39mPOSSIBLE_GRADIENT_TYPES_NONE\n\u001b[0;32m   1860\u001b[0m     \u001b[38;5;129;01mand\u001b[39;00m executing_eagerly):\n\u001b[0;32m   1861\u001b[0m   \u001b[38;5;66;03m# No tape is watching; skip to running the function.\u001b[39;00m\n\u001b[1;32m-> 1862\u001b[0m   \u001b[38;5;28;01mreturn\u001b[39;00m \u001b[38;5;28mself\u001b[39m\u001b[38;5;241m.\u001b[39m_build_call_outputs(\u001b[38;5;28;43mself\u001b[39;49m\u001b[38;5;241;43m.\u001b[39;49m\u001b[43m_inference_function\u001b[49m\u001b[38;5;241;43m.\u001b[39;49m\u001b[43mcall\u001b[49m\u001b[43m(\u001b[49m\n\u001b[0;32m   1863\u001b[0m \u001b[43m      \u001b[49m\u001b[43mctx\u001b[49m\u001b[43m,\u001b[49m\u001b[43m \u001b[49m\u001b[43margs\u001b[49m\u001b[43m,\u001b[49m\u001b[43m \u001b[49m\u001b[43mcancellation_manager\u001b[49m\u001b[38;5;241;43m=\u001b[39;49m\u001b[43mcancellation_manager\u001b[49m\u001b[43m)\u001b[49m)\n\u001b[0;32m   1864\u001b[0m forward_backward \u001b[38;5;241m=\u001b[39m \u001b[38;5;28mself\u001b[39m\u001b[38;5;241m.\u001b[39m_select_forward_and_backward_functions(\n\u001b[0;32m   1865\u001b[0m     args,\n\u001b[0;32m   1866\u001b[0m     possible_gradient_type,\n\u001b[0;32m   1867\u001b[0m     executing_eagerly)\n\u001b[0;32m   1868\u001b[0m forward_function, args_with_tangents \u001b[38;5;241m=\u001b[39m forward_backward\u001b[38;5;241m.\u001b[39mforward()\n",
      "File \u001b[1;32m~\\AppData\\Local\\Programs\\Python\\Python310\\lib\\site-packages\\tensorflow\\python\\eager\\function.py:499\u001b[0m, in \u001b[0;36m_EagerDefinedFunction.call\u001b[1;34m(self, ctx, args, cancellation_manager)\u001b[0m\n\u001b[0;32m    497\u001b[0m \u001b[38;5;28;01mwith\u001b[39;00m _InterpolateFunctionError(\u001b[38;5;28mself\u001b[39m):\n\u001b[0;32m    498\u001b[0m   \u001b[38;5;28;01mif\u001b[39;00m cancellation_manager \u001b[38;5;129;01mis\u001b[39;00m \u001b[38;5;28;01mNone\u001b[39;00m:\n\u001b[1;32m--> 499\u001b[0m     outputs \u001b[38;5;241m=\u001b[39m \u001b[43mexecute\u001b[49m\u001b[38;5;241;43m.\u001b[39;49m\u001b[43mexecute\u001b[49m\u001b[43m(\u001b[49m\n\u001b[0;32m    500\u001b[0m \u001b[43m        \u001b[49m\u001b[38;5;28;43mstr\u001b[39;49m\u001b[43m(\u001b[49m\u001b[38;5;28;43mself\u001b[39;49m\u001b[38;5;241;43m.\u001b[39;49m\u001b[43msignature\u001b[49m\u001b[38;5;241;43m.\u001b[39;49m\u001b[43mname\u001b[49m\u001b[43m)\u001b[49m\u001b[43m,\u001b[49m\n\u001b[0;32m    501\u001b[0m \u001b[43m        \u001b[49m\u001b[43mnum_outputs\u001b[49m\u001b[38;5;241;43m=\u001b[39;49m\u001b[38;5;28;43mself\u001b[39;49m\u001b[38;5;241;43m.\u001b[39;49m\u001b[43m_num_outputs\u001b[49m\u001b[43m,\u001b[49m\n\u001b[0;32m    502\u001b[0m \u001b[43m        \u001b[49m\u001b[43minputs\u001b[49m\u001b[38;5;241;43m=\u001b[39;49m\u001b[43margs\u001b[49m\u001b[43m,\u001b[49m\n\u001b[0;32m    503\u001b[0m \u001b[43m        \u001b[49m\u001b[43mattrs\u001b[49m\u001b[38;5;241;43m=\u001b[39;49m\u001b[43mattrs\u001b[49m\u001b[43m,\u001b[49m\n\u001b[0;32m    504\u001b[0m \u001b[43m        \u001b[49m\u001b[43mctx\u001b[49m\u001b[38;5;241;43m=\u001b[39;49m\u001b[43mctx\u001b[49m\u001b[43m)\u001b[49m\n\u001b[0;32m    505\u001b[0m   \u001b[38;5;28;01melse\u001b[39;00m:\n\u001b[0;32m    506\u001b[0m     outputs \u001b[38;5;241m=\u001b[39m execute\u001b[38;5;241m.\u001b[39mexecute_with_cancellation(\n\u001b[0;32m    507\u001b[0m         \u001b[38;5;28mstr\u001b[39m(\u001b[38;5;28mself\u001b[39m\u001b[38;5;241m.\u001b[39msignature\u001b[38;5;241m.\u001b[39mname),\n\u001b[0;32m    508\u001b[0m         num_outputs\u001b[38;5;241m=\u001b[39m\u001b[38;5;28mself\u001b[39m\u001b[38;5;241m.\u001b[39m_num_outputs,\n\u001b[1;32m   (...)\u001b[0m\n\u001b[0;32m    511\u001b[0m         ctx\u001b[38;5;241m=\u001b[39mctx,\n\u001b[0;32m    512\u001b[0m         cancellation_manager\u001b[38;5;241m=\u001b[39mcancellation_manager)\n",
      "File \u001b[1;32m~\\AppData\\Local\\Programs\\Python\\Python310\\lib\\site-packages\\tensorflow\\python\\eager\\execute.py:54\u001b[0m, in \u001b[0;36mquick_execute\u001b[1;34m(op_name, num_outputs, inputs, attrs, ctx, name)\u001b[0m\n\u001b[0;32m     52\u001b[0m \u001b[38;5;28;01mtry\u001b[39;00m:\n\u001b[0;32m     53\u001b[0m   ctx\u001b[38;5;241m.\u001b[39mensure_initialized()\n\u001b[1;32m---> 54\u001b[0m   tensors \u001b[38;5;241m=\u001b[39m \u001b[43mpywrap_tfe\u001b[49m\u001b[38;5;241;43m.\u001b[39;49m\u001b[43mTFE_Py_Execute\u001b[49m\u001b[43m(\u001b[49m\u001b[43mctx\u001b[49m\u001b[38;5;241;43m.\u001b[39;49m\u001b[43m_handle\u001b[49m\u001b[43m,\u001b[49m\u001b[43m \u001b[49m\u001b[43mdevice_name\u001b[49m\u001b[43m,\u001b[49m\u001b[43m \u001b[49m\u001b[43mop_name\u001b[49m\u001b[43m,\u001b[49m\n\u001b[0;32m     55\u001b[0m \u001b[43m                                      \u001b[49m\u001b[43minputs\u001b[49m\u001b[43m,\u001b[49m\u001b[43m \u001b[49m\u001b[43mattrs\u001b[49m\u001b[43m,\u001b[49m\u001b[43m \u001b[49m\u001b[43mnum_outputs\u001b[49m\u001b[43m)\u001b[49m\n\u001b[0;32m     56\u001b[0m \u001b[38;5;28;01mexcept\u001b[39;00m core\u001b[38;5;241m.\u001b[39m_NotOkStatusException \u001b[38;5;28;01mas\u001b[39;00m e:\n\u001b[0;32m     57\u001b[0m   \u001b[38;5;28;01mif\u001b[39;00m name \u001b[38;5;129;01mis\u001b[39;00m \u001b[38;5;129;01mnot\u001b[39;00m \u001b[38;5;28;01mNone\u001b[39;00m:\n",
      "\u001b[1;31mKeyboardInterrupt\u001b[0m: "
     ]
    }
   ],
   "source": [
    "model.fit(x_train, y_train, epochs=500) # run this line when data collection is done (this will train the model)\n",
    "# we can start the number of epochs to be equal to 175 to avoid over training and add afterwards if needed"
   ]
  },
  {
   "cell_type": "code",
   "execution_count": 6,
   "id": "98aba25b",
   "metadata": {},
   "outputs": [
    {
     "ename": "NameError",
     "evalue": "name 'model' is not defined",
     "output_type": "error",
     "traceback": [
      "\u001b[1;31m---------------------------------------------------------------------------\u001b[0m",
      "\u001b[1;31mNameError\u001b[0m                                 Traceback (most recent call last)",
      "Input \u001b[1;32mIn [6]\u001b[0m, in \u001b[0;36m<cell line: 1>\u001b[1;34m()\u001b[0m\n\u001b[1;32m----> 1\u001b[0m \u001b[38;5;28;01mdel\u001b[39;00m model\n",
      "\u001b[1;31mNameError\u001b[0m: name 'model' is not defined"
     ]
    }
   ],
   "source": [
    "del model"
   ]
  },
  {
   "cell_type": "code",
   "execution_count": 15,
   "id": "79bcc95d",
   "metadata": {},
   "outputs": [
    {
     "name": "stdout",
     "output_type": "stream",
     "text": [
      "Model: \"sequential\"\n",
      "_________________________________________________________________\n",
      " Layer (type)                Output Shape              Param #   \n",
      "=================================================================\n",
      " lstm (LSTM)                 (None, 30, 64)            408320    \n",
      "                                                                 \n",
      " lstm_1 (LSTM)               (None, 30, 128)           98816     \n",
      "                                                                 \n",
      " lstm_2 (LSTM)               (None, 30, 64)            49408     \n",
      "                                                                 \n",
      " flatten (Flatten)           (None, 1920)              0         \n",
      "                                                                 \n",
      " dense (Dense)               (None, 32)                61472     \n",
      "                                                                 \n",
      " dense_1 (Dense)             (None, 64)                2112      \n",
      "                                                                 \n",
      " dense_2 (Dense)             (None, 12)                780       \n",
      "                                                                 \n",
      "=================================================================\n",
      "Total params: 620,908\n",
      "Trainable params: 620,908\n",
      "Non-trainable params: 0\n",
      "_________________________________________________________________\n"
     ]
    }
   ],
   "source": [
    "model.summary() # summary of our model"
   ]
  },
  {
   "cell_type": "code",
   "execution_count": 9,
   "id": "b47b615f",
   "metadata": {},
   "outputs": [
    {
     "name": "stdout",
     "output_type": "stream",
     "text": [
      "2/2 [==============================] - 1s 583ms/step\n"
     ]
    }
   ],
   "source": [
    "res = model.predict(x_test)"
   ]
  },
  {
   "cell_type": "code",
   "execution_count": 31,
   "id": "d0752724",
   "metadata": {},
   "outputs": [
    {
     "data": {
      "text/plain": [
       "'what is your name'"
      ]
     },
     "execution_count": 31,
     "metadata": {},
     "output_type": "execute_result"
    }
   ],
   "source": [
    "signs[np.argmax(res[10])]"
   ]
  },
  {
   "cell_type": "code",
   "execution_count": 32,
   "id": "306195ee",
   "metadata": {},
   "outputs": [
    {
     "data": {
      "text/plain": [
       "'what is your name'"
      ]
     },
     "execution_count": 32,
     "metadata": {},
     "output_type": "execute_result"
    }
   ],
   "source": [
    "signs[np.argmax(y_test[10])]"
   ]
  },
  {
   "cell_type": "markdown",
   "id": "408b575f",
   "metadata": {},
   "source": [
    "# save weights\n"
   ]
  },
  {
   "cell_type": "code",
   "execution_count": 16,
   "id": "0ce4cb0b",
   "metadata": {},
   "outputs": [],
   "source": [
    "model.save(\"try.h5\") # save model"
   ]
  },
  {
   "cell_type": "code",
   "execution_count": 17,
   "id": "ec652bf7",
   "metadata": {},
   "outputs": [
    {
     "name": "stdout",
     "output_type": "stream",
     "text": [
      "INFO:tensorflow:Assets written to: C:\\Users\\Baron\\AppData\\Local\\Temp\\tmpvxtgdg4q\\assets\n"
     ]
    },
    {
     "data": {
      "text/plain": [
       "652552"
      ]
     },
     "execution_count": 17,
     "metadata": {},
     "output_type": "execute_result"
    }
   ],
   "source": [
    "model = tf.keras.models.load_model(\"./try.h5\")\n",
    "converter = tf.lite.TFLiteConverter.from_keras_model(model)\n",
    "converter.optimizations = [tf.lite.Optimize.DEFAULT]\n",
    "converter.target_spec.supported_ops = [\n",
    "  tf.lite.OpsSet.TFLITE_BUILTINS, # enable TensorFlow Lite ops.\n",
    "  tf.lite.OpsSet.SELECT_TF_OPS # enable TensorFlow ops.\n",
    "]\n",
    "tflite = converter.convert()\n",
    "\n",
    "open(\"./try.tflite\", \"wb\").write(tflite)"
   ]
  },
  {
   "cell_type": "code",
   "execution_count": 38,
   "id": "0d8ff773",
   "metadata": {},
   "outputs": [
    {
     "ename": "ValueError",
     "evalue": "Cannot set tensor: Got value of type FLOAT64 but expected type FLOAT32 for input 0, name: serving_default_lstm_9_input:0 ",
     "output_type": "error",
     "traceback": [
      "\u001b[1;31m---------------------------------------------------------------------------\u001b[0m",
      "\u001b[1;31mValueError\u001b[0m                                Traceback (most recent call last)",
      "Cell \u001b[1;32mIn [38], line 6\u001b[0m\n\u001b[0;32m      3\u001b[0m inp \u001b[38;5;241m=\u001b[39m interpreter\u001b[38;5;241m.\u001b[39mget_input_details()\n\u001b[0;32m      4\u001b[0m out \u001b[38;5;241m=\u001b[39m interpreter\u001b[38;5;241m.\u001b[39mget_output_details()\n\u001b[1;32m----> 6\u001b[0m \u001b[43minterpreter\u001b[49m\u001b[38;5;241;43m.\u001b[39;49m\u001b[43mset_tensor\u001b[49m\u001b[43m(\u001b[49m\u001b[43minp\u001b[49m\u001b[43m[\u001b[49m\u001b[38;5;241;43m0\u001b[39;49m\u001b[43m]\u001b[49m\u001b[43m[\u001b[49m\u001b[38;5;124;43m\"\u001b[39;49m\u001b[38;5;124;43mindex\u001b[39;49m\u001b[38;5;124;43m\"\u001b[39;49m\u001b[43m]\u001b[49m\u001b[43m,\u001b[49m\u001b[43m \u001b[49m\u001b[43mnp\u001b[49m\u001b[38;5;241;43m.\u001b[39;49m\u001b[43mexpand_dims\u001b[49m\u001b[43m(\u001b[49m\u001b[43msequences\u001b[49m\u001b[43m,\u001b[49m\u001b[43maxis\u001b[49m\u001b[38;5;241;43m=\u001b[39;49m\u001b[38;5;241;43m0\u001b[39;49m\u001b[43m)\u001b[49m\u001b[43m)\u001b[49m\n\u001b[0;32m      7\u001b[0m interpreter\u001b[38;5;241m.\u001b[39minvoke()\n\u001b[0;32m      9\u001b[0m                 \u001b[38;5;66;03m#for i in sequence[-30:]:\u001b[39;00m\n",
      "File \u001b[1;32m~\\AppData\\Local\\Programs\\Python\\Python310\\lib\\site-packages\\tensorflow\\lite\\python\\interpreter.py:697\u001b[0m, in \u001b[0;36mInterpreter.set_tensor\u001b[1;34m(self, tensor_index, value)\u001b[0m\n\u001b[0;32m    681\u001b[0m \u001b[38;5;28;01mdef\u001b[39;00m \u001b[38;5;21mset_tensor\u001b[39m(\u001b[38;5;28mself\u001b[39m, tensor_index, value):\n\u001b[0;32m    682\u001b[0m   \u001b[38;5;124;03m\"\"\"Sets the value of the input tensor.\u001b[39;00m\n\u001b[0;32m    683\u001b[0m \n\u001b[0;32m    684\u001b[0m \u001b[38;5;124;03m  Note this copies data in `value`.\u001b[39;00m\n\u001b[1;32m   (...)\u001b[0m\n\u001b[0;32m    695\u001b[0m \u001b[38;5;124;03m    ValueError: If the interpreter could not set the tensor.\u001b[39;00m\n\u001b[0;32m    696\u001b[0m \u001b[38;5;124;03m  \"\"\"\u001b[39;00m\n\u001b[1;32m--> 697\u001b[0m   \u001b[38;5;28;43mself\u001b[39;49m\u001b[38;5;241;43m.\u001b[39;49m\u001b[43m_interpreter\u001b[49m\u001b[38;5;241;43m.\u001b[39;49m\u001b[43mSetTensor\u001b[49m\u001b[43m(\u001b[49m\u001b[43mtensor_index\u001b[49m\u001b[43m,\u001b[49m\u001b[43m \u001b[49m\u001b[43mvalue\u001b[49m\u001b[43m)\u001b[49m\n",
      "\u001b[1;31mValueError\u001b[0m: Cannot set tensor: Got value of type FLOAT64 but expected type FLOAT32 for input 0, name: serving_default_lstm_9_input:0 "
     ]
    }
   ],
   "source": [
    "interpreter = tf.lite.Interpreter(\"LiteML.tflite\")\n",
    "\n",
    "inp = interpreter.get_input_details()\n",
    "out = interpreter.get_output_details()\n",
    "\n",
    "interpreter.set_tensor(inp[0][\"index\"], np.expand_dims(sequences,axis=0))\n",
    "interpreter.invoke()\n",
    "                \n",
    "                #for i in sequence[-30:]:\n",
    "output_data = interpreter.get_tensor(out[0][\"index\"])\n",
    "                \n",
    "highest = np.argmax(output_data)\n",
    "word = VM.get_key(signs, highest)\n",
    "print(output_data.shape)\n",
    "print(word)\n"
   ]
  },
  {
   "cell_type": "code",
   "execution_count": null,
   "id": "539cd0be",
   "metadata": {},
   "outputs": [],
   "source": []
  }
 ],
 "metadata": {
  "kernelspec": {
   "display_name": "Python 3 (ipykernel)",
   "language": "python",
   "name": "python3"
  },
  "language_info": {
   "codemirror_mode": {
    "name": "ipython",
    "version": 3
   },
   "file_extension": ".py",
   "mimetype": "text/x-python",
   "name": "python",
   "nbconvert_exporter": "python",
   "pygments_lexer": "ipython3",
   "version": "3.10.4"
  }
 },
 "nbformat": 4,
 "nbformat_minor": 5
}
