{
 "cells": [
  {
   "cell_type": "code",
   "execution_count": 1,
   "id": "1fb650f8",
   "metadata": {},
   "outputs": [],
   "source": [
    "from sklearn.model_selection import train_test_split\n",
    "import tensorflow as tf\n",
    "from tensorflow.keras.utils import to_categorical\n",
    "from tensorflow.keras.models import Sequential\n",
    "from tensorflow.keras.layers import LSTM, Dense, Flatten\n",
    "from functions import VM\n",
    "import os\n",
    "import numpy as np"
   ]
  },
  {
   "cell_type": "markdown",
   "id": "4835d852",
   "metadata": {},
   "source": [
    "# Take the sign names in our collections data"
   ]
  },
  {
   "cell_type": "code",
   "execution_count": 2,
   "id": "de5110e8",
   "metadata": {},
   "outputs": [],
   "source": [
    "signs = sorted(os.listdir(\"./Keypoint_Data/\")) # take all the signs used in data collection\n",
    "sign_id = {label: num for num, label in enumerate(signs)} # assign a value for each sign (each sign is assign to its index)"
   ]
  },
  {
   "cell_type": "code",
   "execution_count": 3,
   "id": "95ac6ae9",
   "metadata": {},
   "outputs": [
    {
     "data": {
      "text/plain": [
       "'hello'"
      ]
     },
     "execution_count": 3,
     "metadata": {},
     "output_type": "execute_result"
    }
   ],
   "source": [
    "signs[0]"
   ]
  },
  {
   "cell_type": "code",
   "execution_count": 4,
   "id": "ea4b6064",
   "metadata": {},
   "outputs": [
    {
     "data": {
      "text/plain": [
       "0"
      ]
     },
     "execution_count": 4,
     "metadata": {},
     "output_type": "execute_result"
    }
   ],
   "source": [
    "sign_id['hello']"
   ]
  },
  {
   "cell_type": "markdown",
   "id": "0a87222e",
   "metadata": {},
   "source": [
    "# Create the x and y data\n"
   ]
  },
  {
   "cell_type": "code",
   "execution_count": 5,
   "id": "521243ad",
   "metadata": {},
   "outputs": [],
   "source": [
    "sequences, labels = [], [] # sequences represents our x data while labels represents our y data\n",
    "# create a loop that creates our x and y data\n",
    "for sign in signs:\n",
    "    for sequence in range(VM.seq):\n",
    "        window = []\n",
    "        for frames in range(VM.seq_lenght):\n",
    "            res = np.load(os.path.join(VM.DATA_PATH, sign, str(sequence), f\"{frames}.npy\"))\n",
    "            window.append(res)\n",
    "        sequences.append(window)\n",
    "        labels.append(sign_id[sign])\n",
    "        \n",
    "# store our x and y data to a numpy array\n",
    "x_data = np.array(sequences) \n",
    "y_data = to_categorical(labels).astype(int) \n",
    "\n",
    "# setup our training and testing partition\n",
    "x_train, x_test, y_train, y_test = train_test_split(x_data, y_data, test_size=0.05)"
   ]
  },
  {
   "cell_type": "markdown",
   "id": "f34079f0",
   "metadata": {},
   "source": [
    "# Build and train the model\n"
   ]
  },
  {
   "cell_type": "code",
   "execution_count": 24,
   "id": "49fd7182",
   "metadata": {},
   "outputs": [
    {
     "data": {
      "text/plain": [
       "(950, 30, 1662)"
      ]
     },
     "execution_count": 24,
     "metadata": {},
     "output_type": "execute_result"
    }
   ],
   "source": [
    "x_train.shape"
   ]
  },
  {
   "cell_type": "code",
   "execution_count": 25,
   "id": "59013a91",
   "metadata": {},
   "outputs": [],
   "source": [
    "# build the model\n",
    "model = Sequential()\n",
    "model.add(LSTM(64, return_sequences=\"True\", activation=\"relu\", input_shape=(30,1662)))\n",
    "model.add(LSTM(128, return_sequences=\"True\", activation=\"relu\"))\n",
    "model.add(LSTM(64, return_sequences=\"False\", activation=\"relu\"))\n",
    "model.add(Flatten(input_shape=(x_train.shape[1:])))\n",
    "model.add(Dense(64, activation=\"relu\"))\n",
    "model.add(Dense(32, activation=\"relu\"))\n",
    "model.add(Dense(np.array(signs).shape[0], activation=\"softmax\"))"
   ]
  },
  {
   "cell_type": "code",
   "execution_count": 26,
   "id": "88417beb",
   "metadata": {},
   "outputs": [],
   "source": [
    "model.compile(optimizer=\"Adam\", loss=\"categorical_crossentropy\", metrics=[\"categorical_accuracy\"]) # compiler "
   ]
  },
  {
   "cell_type": "code",
   "execution_count": null,
   "id": "2f8c73a0",
   "metadata": {},
   "outputs": [
    {
     "name": "stdout",
     "output_type": "stream",
     "text": [
      "Epoch 1/1000\n",
      "30/30 [==============================] - 4s 48ms/step - loss: 2.1844 - categorical_accuracy: 0.2021\n",
      "Epoch 2/1000\n",
      "30/30 [==============================] - 1s 47ms/step - loss: 1.4624 - categorical_accuracy: 0.3674\n",
      "Epoch 3/1000\n",
      "30/30 [==============================] - 1s 49ms/step - loss: 1.1732 - categorical_accuracy: 0.4979\n",
      "Epoch 4/1000\n",
      "30/30 [==============================] - 1s 47ms/step - loss: 0.7636 - categorical_accuracy: 0.6863\n",
      "Epoch 5/1000\n",
      "30/30 [==============================] - 1s 47ms/step - loss: 0.5567 - categorical_accuracy: 0.7442\n",
      "Epoch 6/1000\n",
      "30/30 [==============================] - 2s 50ms/step - loss: 0.3690 - categorical_accuracy: 0.8116\n",
      "Epoch 7/1000\n",
      "30/30 [==============================] - 1s 48ms/step - loss: 0.2482 - categorical_accuracy: 0.8653\n",
      "Epoch 8/1000\n",
      "30/30 [==============================] - 1s 47ms/step - loss: 0.5520 - categorical_accuracy: 0.7832\n",
      "Epoch 9/1000\n",
      "30/30 [==============================] - 1s 47ms/step - loss: 0.2125 - categorical_accuracy: 0.9095\n",
      "Epoch 10/1000\n",
      "30/30 [==============================] - 1s 48ms/step - loss: 0.1880 - categorical_accuracy: 0.8884\n",
      "Epoch 11/1000\n",
      "30/30 [==============================] - 1s 47ms/step - loss: 0.5423 - categorical_accuracy: 0.8000\n",
      "Epoch 12/1000\n",
      "30/30 [==============================] - 1s 47ms/step - loss: 0.1834 - categorical_accuracy: 0.9263\n",
      "Epoch 13/1000\n",
      "30/30 [==============================] - 2s 52ms/step - loss: 0.2927 - categorical_accuracy: 0.8789\n",
      "Epoch 14/1000\n",
      "30/30 [==============================] - 2s 50ms/step - loss: 0.1730 - categorical_accuracy: 0.9253\n",
      "Epoch 15/1000\n",
      "30/30 [==============================] - 1s 47ms/step - loss: 0.1770 - categorical_accuracy: 0.9368\n",
      "Epoch 16/1000\n",
      "30/30 [==============================] - 1s 48ms/step - loss: 0.1137 - categorical_accuracy: 0.9495\n",
      "Epoch 17/1000\n",
      "30/30 [==============================] - 1s 47ms/step - loss: 0.0694 - categorical_accuracy: 0.9716\n",
      "Epoch 18/1000\n",
      "30/30 [==============================] - 1s 49ms/step - loss: 0.0428 - categorical_accuracy: 0.9895\n",
      "Epoch 19/1000\n",
      " 7/30 [======>.......................] - ETA: 1s - loss: 0.0260 - categorical_accuracy: 0.9955"
     ]
    }
   ],
   "source": [
    "model.fit(x_train, y_train, epochs=1000) # run this line when data collection is done (this will train the model)"
   ]
  },
  {
   "cell_type": "code",
   "execution_count": 23,
   "id": "98aba25b",
   "metadata": {},
   "outputs": [],
   "source": [
    "del model"
   ]
  },
  {
   "cell_type": "code",
   "execution_count": 31,
   "id": "79bcc95d",
   "metadata": {},
   "outputs": [
    {
     "name": "stdout",
     "output_type": "stream",
     "text": [
      "Model: \"sequential_1\"\n",
      "_________________________________________________________________\n",
      " Layer (type)                Output Shape              Param #   \n",
      "=================================================================\n",
      " lstm_3 (LSTM)               (None, 30, 64)            442112    \n",
      "                                                                 \n",
      " lstm_4 (LSTM)               (None, 30, 128)           98816     \n",
      "                                                                 \n",
      " lstm_5 (LSTM)               (None, 30, 64)            49408     \n",
      "                                                                 \n",
      " flatten_1 (Flatten)         (None, 1920)              0         \n",
      "                                                                 \n",
      " dense_3 (Dense)             (None, 64)                122944    \n",
      "                                                                 \n",
      " dense_4 (Dense)             (None, 32)                2080      \n",
      "                                                                 \n",
      " dense_5 (Dense)             (None, 10)                330       \n",
      "                                                                 \n",
      "=================================================================\n",
      "Total params: 715,690\n",
      "Trainable params: 715,690\n",
      "Non-trainable params: 0\n",
      "_________________________________________________________________\n"
     ]
    }
   ],
   "source": [
    "model.summary() # summary of our model"
   ]
  },
  {
   "cell_type": "code",
   "execution_count": 21,
   "id": "b47b615f",
   "metadata": {},
   "outputs": [
    {
     "name": "stdout",
     "output_type": "stream",
     "text": [
      "2/2 [==============================] - 0s 11ms/step\n"
     ]
    }
   ],
   "source": [
    "res = model.predict(x_test)"
   ]
  },
  {
   "cell_type": "code",
   "execution_count": 22,
   "id": "aa8ba65f",
   "metadata": {},
   "outputs": [
    {
     "name": "stdout",
     "output_type": "stream",
     "text": [
      "True\n",
      "True\n",
      "True\n",
      "True\n",
      "True\n",
      "True\n",
      "True\n",
      "True\n",
      "True\n",
      "True\n",
      "True\n",
      "True\n",
      "True\n",
      "True\n",
      "True\n",
      "True\n",
      "True\n",
      "True\n",
      "True\n",
      "True\n",
      "True\n",
      "True\n",
      "True\n",
      "True\n",
      "True\n",
      "True\n",
      "True\n",
      "True\n",
      "True\n",
      "True\n",
      "True\n",
      "True\n",
      "True\n",
      "True\n",
      "True\n",
      "True\n",
      "True\n",
      "False i love you hello\n",
      "False hello i love you\n",
      "True\n",
      "True\n",
      "True\n",
      "True\n",
      "True\n",
      "True\n",
      "True\n",
      "True\n",
      "False wait hi\n",
      "True\n",
      "True\n"
     ]
    }
   ],
   "source": [
    "for x in range(50):\n",
    "    #print(signs[np.argmax(y_test[x])] == signs[np.argmax(res[x])])\n",
    "    if signs[np.argmax(y_test[x])] == signs[np.argmax(res[x])]:\n",
    "        print(signs[np.argmax(y_test[x])] == signs[np.argmax(res[x])])\n",
    "    elif not signs[np.argmax(y_test[x])] == signs[np.argmax(res[x])]:\n",
    "        print(signs[np.argmax(y_test[x])] == signs[np.argmax(res[x])], signs[np.argmax(res[x])], signs[np.argmax(y_test[x])])\n"
   ]
  },
  {
   "cell_type": "code",
   "execution_count": 17,
   "id": "ec45da87",
   "metadata": {},
   "outputs": [
    {
     "name": "stdout",
     "output_type": "stream",
     "text": [
      "96.0\n"
     ]
    }
   ],
   "source": [
    "print(48/50 * 100)"
   ]
  },
  {
   "cell_type": "code",
   "execution_count": 34,
   "id": "d0752724",
   "metadata": {},
   "outputs": [
    {
     "data": {
      "text/plain": [
       "'hello'"
      ]
     },
     "execution_count": 34,
     "metadata": {},
     "output_type": "execute_result"
    }
   ],
   "source": [
    "signs[np.argmax(res[0])]"
   ]
  },
  {
   "cell_type": "code",
   "execution_count": 35,
   "id": "306195ee",
   "metadata": {},
   "outputs": [
    {
     "data": {
      "text/plain": [
       "'hello'"
      ]
     },
     "execution_count": 35,
     "metadata": {},
     "output_type": "execute_result"
    }
   ],
   "source": [
    "signs[np.argmax(y_test[0])]"
   ]
  },
  {
   "cell_type": "markdown",
   "id": "408b575f",
   "metadata": {},
   "source": [
    "# save weights\n"
   ]
  },
  {
   "cell_type": "code",
   "execution_count": 36,
   "id": "0ce4cb0b",
   "metadata": {},
   "outputs": [],
   "source": [
    "model.save(\"model.h5\") # save model"
   ]
  },
  {
   "cell_type": "code",
   "execution_count": 37,
   "id": "ec652bf7",
   "metadata": {},
   "outputs": [
    {
     "name": "stderr",
     "output_type": "stream",
     "text": [
      "WARNING:absl:Found untraced functions such as _update_step_xla while saving (showing 1 of 1). These functions will not be directly callable after loading.\n"
     ]
    },
    {
     "name": "stdout",
     "output_type": "stream",
     "text": [
      "INFO:tensorflow:Assets written to: C:\\Users\\Baron\\AppData\\Local\\Temp\\tmp7e0q3nu9\\assets\n"
     ]
    },
    {
     "name": "stderr",
     "output_type": "stream",
     "text": [
      "INFO:tensorflow:Assets written to: C:\\Users\\Baron\\AppData\\Local\\Temp\\tmp7e0q3nu9\\assets\n"
     ]
    },
    {
     "data": {
      "text/plain": [
       "746976"
      ]
     },
     "execution_count": 37,
     "metadata": {},
     "output_type": "execute_result"
    }
   ],
   "source": [
    "model = tf.keras.models.load_model(\"./model.h5\")\n",
    "converter = tf.lite.TFLiteConverter.from_keras_model(model)\n",
    "converter.optimizations = [tf.lite.Optimize.DEFAULT]\n",
    "converter.target_spec.supported_ops = [\n",
    "  tf.lite.OpsSet.TFLITE_BUILTINS, # enable TensorFlow Lite ops.\n",
    "  tf.lite.OpsSet.SELECT_TF_OPS # enable TensorFlow ops.\n",
    "]\n",
    "tflite = converter.convert()\n",
    "\n",
    "open(\"./model.tflite\", \"wb\").write(tflite)"
   ]
  },
  {
   "cell_type": "code",
   "execution_count": 38,
   "id": "0d8ff773",
   "metadata": {},
   "outputs": [
    {
     "ename": "ValueError",
     "evalue": "Cannot set tensor: Got value of type FLOAT64 but expected type FLOAT32 for input 0, name: serving_default_lstm_9_input:0 ",
     "output_type": "error",
     "traceback": [
      "\u001b[1;31m---------------------------------------------------------------------------\u001b[0m",
      "\u001b[1;31mValueError\u001b[0m                                Traceback (most recent call last)",
      "Cell \u001b[1;32mIn [38], line 6\u001b[0m\n\u001b[0;32m      3\u001b[0m inp \u001b[38;5;241m=\u001b[39m interpreter\u001b[38;5;241m.\u001b[39mget_input_details()\n\u001b[0;32m      4\u001b[0m out \u001b[38;5;241m=\u001b[39m interpreter\u001b[38;5;241m.\u001b[39mget_output_details()\n\u001b[1;32m----> 6\u001b[0m \u001b[43minterpreter\u001b[49m\u001b[38;5;241;43m.\u001b[39;49m\u001b[43mset_tensor\u001b[49m\u001b[43m(\u001b[49m\u001b[43minp\u001b[49m\u001b[43m[\u001b[49m\u001b[38;5;241;43m0\u001b[39;49m\u001b[43m]\u001b[49m\u001b[43m[\u001b[49m\u001b[38;5;124;43m\"\u001b[39;49m\u001b[38;5;124;43mindex\u001b[39;49m\u001b[38;5;124;43m\"\u001b[39;49m\u001b[43m]\u001b[49m\u001b[43m,\u001b[49m\u001b[43m \u001b[49m\u001b[43mnp\u001b[49m\u001b[38;5;241;43m.\u001b[39;49m\u001b[43mexpand_dims\u001b[49m\u001b[43m(\u001b[49m\u001b[43msequences\u001b[49m\u001b[43m,\u001b[49m\u001b[43maxis\u001b[49m\u001b[38;5;241;43m=\u001b[39;49m\u001b[38;5;241;43m0\u001b[39;49m\u001b[43m)\u001b[49m\u001b[43m)\u001b[49m\n\u001b[0;32m      7\u001b[0m interpreter\u001b[38;5;241m.\u001b[39minvoke()\n\u001b[0;32m      9\u001b[0m                 \u001b[38;5;66;03m#for i in sequence[-30:]:\u001b[39;00m\n",
      "File \u001b[1;32m~\\AppData\\Local\\Programs\\Python\\Python310\\lib\\site-packages\\tensorflow\\lite\\python\\interpreter.py:697\u001b[0m, in \u001b[0;36mInterpreter.set_tensor\u001b[1;34m(self, tensor_index, value)\u001b[0m\n\u001b[0;32m    681\u001b[0m \u001b[38;5;28;01mdef\u001b[39;00m \u001b[38;5;21mset_tensor\u001b[39m(\u001b[38;5;28mself\u001b[39m, tensor_index, value):\n\u001b[0;32m    682\u001b[0m   \u001b[38;5;124;03m\"\"\"Sets the value of the input tensor.\u001b[39;00m\n\u001b[0;32m    683\u001b[0m \n\u001b[0;32m    684\u001b[0m \u001b[38;5;124;03m  Note this copies data in `value`.\u001b[39;00m\n\u001b[1;32m   (...)\u001b[0m\n\u001b[0;32m    695\u001b[0m \u001b[38;5;124;03m    ValueError: If the interpreter could not set the tensor.\u001b[39;00m\n\u001b[0;32m    696\u001b[0m \u001b[38;5;124;03m  \"\"\"\u001b[39;00m\n\u001b[1;32m--> 697\u001b[0m   \u001b[38;5;28;43mself\u001b[39;49m\u001b[38;5;241;43m.\u001b[39;49m\u001b[43m_interpreter\u001b[49m\u001b[38;5;241;43m.\u001b[39;49m\u001b[43mSetTensor\u001b[49m\u001b[43m(\u001b[49m\u001b[43mtensor_index\u001b[49m\u001b[43m,\u001b[49m\u001b[43m \u001b[49m\u001b[43mvalue\u001b[49m\u001b[43m)\u001b[49m\n",
      "\u001b[1;31mValueError\u001b[0m: Cannot set tensor: Got value of type FLOAT64 but expected type FLOAT32 for input 0, name: serving_default_lstm_9_input:0 "
     ]
    }
   ],
   "source": [
    "interpreter = tf.lite.Interpreter(\"LiteML.tflite\")\n",
    "\n",
    "inp = interpreter.get_input_details()\n",
    "out = interpreter.get_output_details()\n",
    "\n",
    "interpreter.set_tensor(inp[0][\"index\"], np.expand_dims(sequences,axis=0))\n",
    "interpreter.invoke()\n",
    "                \n",
    "                #for i in sequence[-30:]:\n",
    "output_data = interpreter.get_tensor(out[0][\"index\"])\n",
    "                \n",
    "highest = np.argmax(output_data)\n",
    "word = VM.get_key(signs, highest)\n",
    "print(output_data.shape)\n",
    "print(word)\n"
   ]
  },
  {
   "cell_type": "code",
   "execution_count": null,
   "id": "539cd0be",
   "metadata": {},
   "outputs": [],
   "source": []
  }
 ],
 "metadata": {
  "kernelspec": {
   "display_name": "Python 3 (ipykernel)",
   "language": "python",
   "name": "python3"
  },
  "language_info": {
   "codemirror_mode": {
    "name": "ipython",
    "version": 3
   },
   "file_extension": ".py",
   "mimetype": "text/x-python",
   "name": "python",
   "nbconvert_exporter": "python",
   "pygments_lexer": "ipython3",
   "version": "3.10.9"
  }
 },
 "nbformat": 4,
 "nbformat_minor": 5
}
