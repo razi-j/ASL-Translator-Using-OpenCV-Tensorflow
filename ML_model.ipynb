{
 "cells": [
  {
   "cell_type": "code",
   "execution_count": 1,
   "id": "1fb650f8",
   "metadata": {},
   "outputs": [
    {
     "name": "stderr",
     "output_type": "stream",
     "text": [
      "2022-11-18 22:22:12.860722: I tensorflow/core/platform/cpu_feature_guard.cc:193] This TensorFlow binary is optimized with oneAPI Deep Neural Network Library (oneDNN) to use the following CPU instructions in performance-critical operations:  AVX2 AVX512F AVX512_VNNI FMA\n",
      "To enable them in other operations, rebuild TensorFlow with the appropriate compiler flags.\n",
      "2022-11-18 22:22:12.996558: I tensorflow/core/util/util.cc:169] oneDNN custom operations are on. You may see slightly different numerical results due to floating-point round-off errors from different computation orders. To turn them off, set the environment variable `TF_ENABLE_ONEDNN_OPTS=0`.\n",
      "2022-11-18 22:22:13.027812: E tensorflow/stream_executor/cuda/cuda_blas.cc:2981] Unable to register cuBLAS factory: Attempting to register factory for plugin cuBLAS when one has already been registered\n",
      "2022-11-18 22:22:13.569940: W tensorflow/stream_executor/platform/default/dso_loader.cc:64] Could not load dynamic library 'libnvinfer.so.7'; dlerror: libnvinfer.so.7: cannot open shared object file: No such file or directory\n",
      "2022-11-18 22:22:13.569992: W tensorflow/stream_executor/platform/default/dso_loader.cc:64] Could not load dynamic library 'libnvinfer_plugin.so.7'; dlerror: libnvinfer_plugin.so.7: cannot open shared object file: No such file or directory\n",
      "2022-11-18 22:22:13.569998: W tensorflow/compiler/tf2tensorrt/utils/py_utils.cc:38] TF-TRT Warning: Cannot dlopen some TensorRT libraries. If you would like to use Nvidia GPU with TensorRT, please make sure the missing libraries mentioned above are installed properly.\n"
     ]
    }
   ],
   "source": [
    "from sklearn.model_selection import train_test_split\n",
    "import tensorflow as tf\n",
    "from tensorflow.keras.utils import to_categorical\n",
    "from tensorflow.keras.models import Sequential\n",
    "from tensorflow.keras.layers import LSTM, Dense, Flatten\n",
    "from functions import VM\n",
    "import os\n",
    "import numpy as np"
   ]
  },
  {
   "cell_type": "markdown",
   "id": "4835d852",
   "metadata": {},
   "source": [
    "# Take the sign names in our collections data"
   ]
  },
  {
   "cell_type": "code",
   "execution_count": 2,
   "id": "de5110e8",
   "metadata": {},
   "outputs": [],
   "source": [
    "signs = sorted(os.listdir(\"./try_data/\")) # take all the signs used in data collection\n",
    "sign_id = {label: num for num, label in enumerate(signs)} # assign a value for each sign (each sign is assign to its index)"
   ]
  },
  {
   "cell_type": "code",
   "execution_count": 5,
   "id": "95ac6ae9",
   "metadata": {},
   "outputs": [
    {
     "data": {
      "text/plain": [
       "'hello'"
      ]
     },
     "execution_count": 5,
     "metadata": {},
     "output_type": "execute_result"
    }
   ],
   "source": [
    "signs[0]"
   ]
  },
  {
   "cell_type": "code",
   "execution_count": 6,
   "id": "ea4b6064",
   "metadata": {},
   "outputs": [
    {
     "data": {
      "text/plain": [
       "0"
      ]
     },
     "execution_count": 6,
     "metadata": {},
     "output_type": "execute_result"
    }
   ],
   "source": [
    "sign_id['hello']"
   ]
  },
  {
   "cell_type": "markdown",
   "id": "0a87222e",
   "metadata": {},
   "source": [
    "# Create the our x and y data\n"
   ]
  },
  {
   "cell_type": "code",
   "execution_count": 7,
   "id": "521243ad",
   "metadata": {},
   "outputs": [],
   "source": [
    "sequences, labels = [], [] # sequences represents our x data while labels represents our y data\n",
    "# create a loop that creates our x and y data\n",
    "for sign in signs:\n",
    "    for sequence in range(VM.seq):\n",
    "        window = []\n",
    "        for frames in range(VM.seq_lenght):\n",
    "            res = np.load(os.path.join(VM.DATA_PATH, sign, str(sequence), f\"{frames}.npy\"))\n",
    "            window.append(res)\n",
    "        sequences.append(window)\n",
    "        labels.append(sign_id[sign])\n",
    "        \n",
    "# store our x and y data to a numpy array\n",
    "x_data = np.array(sequences) \n",
    "y_data = to_categorical(labels).astype(int) \n",
    "\n",
    "# setup our training and testing partition\n",
    "x_train, x_test, y_train, y_test = train_test_split(x_data, y_data, test_size=0.05)"
   ]
  },
  {
   "cell_type": "markdown",
   "id": "f34079f0",
   "metadata": {},
   "source": [
    "# Build and train the model\n"
   ]
  },
  {
   "cell_type": "code",
   "execution_count": 13,
   "id": "59013a91",
   "metadata": {},
   "outputs": [
    {
     "name": "stdout",
     "output_type": "stream",
     "text": [
      "WARNING:tensorflow:Layer lstm_6 will not use cuDNN kernels since it doesn't meet the criteria. It will use a generic GPU kernel as fallback when running on GPU.\n",
      "WARNING:tensorflow:Layer lstm_7 will not use cuDNN kernels since it doesn't meet the criteria. It will use a generic GPU kernel as fallback when running on GPU.\n",
      "WARNING:tensorflow:Layer lstm_8 will not use cuDNN kernels since it doesn't meet the criteria. It will use a generic GPU kernel as fallback when running on GPU.\n"
     ]
    }
   ],
   "source": [
    "# build the model\n",
    "model = Sequential()\n",
    "model.add(LSTM(64, return_sequences=\"True\", activation=\"relu\", input_shape=(30,1530)))\n",
    "model.add(LSTM(128, return_sequences=\"True\", activation=\"relu\"))\n",
    "model.add(LSTM(64, return_sequences=\"False\", activation=\"relu\"))\n",
    "model.add(Flatten(input_shape=(x_train.shape[1:])))\n",
    "model.add(Dense(32, activation=\"relu\"))\n",
    "model.add(Dense(64, activation=\"relu\"))\n",
    "model.add(Dense(np.array(signs).shape[0], activation=\"softmax\"))"
   ]
  },
  {
   "cell_type": "code",
   "execution_count": 14,
   "id": "88417beb",
   "metadata": {},
   "outputs": [],
   "source": [
    "model.compile(optimizer=\"Adam\", loss=\"categorical_crossentropy\", metrics=[\"categorical_accuracy\"]) # compiler "
   ]
  },
  {
   "cell_type": "code",
   "execution_count": 15,
   "id": "2f8c73a0",
   "metadata": {},
   "outputs": [
    {
     "name": "stdout",
     "output_type": "stream",
     "text": [
      "Epoch 1/80\n",
      "9/9 [==============================] - 13s 87ms/step - loss: 2.1441 - categorical_accuracy: 0.2175\n",
      "Epoch 2/80\n",
      "9/9 [==============================] - 1s 76ms/step - loss: 1.7825 - categorical_accuracy: 0.2105\n",
      "Epoch 3/80\n",
      "9/9 [==============================] - 1s 79ms/step - loss: 1.8747 - categorical_accuracy: 0.1860\n",
      "Epoch 4/80\n",
      "9/9 [==============================] - 1s 128ms/step - loss: 1.7574 - categorical_accuracy: 0.2316\n",
      "Epoch 5/80\n",
      "9/9 [==============================] - 4s 410ms/step - loss: 1.6385 - categorical_accuracy: 0.2526\n",
      "Epoch 6/80\n",
      "9/9 [==============================] - 4s 413ms/step - loss: 1.5694 - categorical_accuracy: 0.3123\n",
      "Epoch 7/80\n",
      "9/9 [==============================] - 4s 413ms/step - loss: 1.4330 - categorical_accuracy: 0.3860\n",
      "Epoch 8/80\n",
      "9/9 [==============================] - 4s 399ms/step - loss: 1.2802 - categorical_accuracy: 0.3825\n",
      "Epoch 9/80\n",
      "9/9 [==============================] - 4s 398ms/step - loss: 1.5989 - categorical_accuracy: 0.3053\n",
      "Epoch 10/80\n",
      "9/9 [==============================] - 4s 398ms/step - loss: 1.5269 - categorical_accuracy: 0.3123\n",
      "Epoch 11/80\n",
      "9/9 [==============================] - 4s 399ms/step - loss: 1.5008 - categorical_accuracy: 0.3684\n",
      "Epoch 12/80\n",
      "9/9 [==============================] - 4s 400ms/step - loss: 1.3573 - categorical_accuracy: 0.3860\n",
      "Epoch 13/80\n",
      "9/9 [==============================] - 4s 400ms/step - loss: 1.3175 - categorical_accuracy: 0.4140\n",
      "Epoch 14/80\n",
      "9/9 [==============================] - 4s 404ms/step - loss: 1.1824 - categorical_accuracy: 0.4386\n",
      "Epoch 15/80\n",
      "9/9 [==============================] - 4s 412ms/step - loss: 0.9659 - categorical_accuracy: 0.4877\n",
      "Epoch 16/80\n",
      "9/9 [==============================] - 4s 400ms/step - loss: 1.1676 - categorical_accuracy: 0.4351\n",
      "Epoch 17/80\n",
      "9/9 [==============================] - 4s 405ms/step - loss: 1.0010 - categorical_accuracy: 0.5439\n",
      "Epoch 18/80\n",
      "9/9 [==============================] - 4s 405ms/step - loss: 0.9897 - categorical_accuracy: 0.5158\n",
      "Epoch 19/80\n",
      "9/9 [==============================] - 4s 397ms/step - loss: 0.8159 - categorical_accuracy: 0.6246\n",
      "Epoch 20/80\n",
      "9/9 [==============================] - 4s 401ms/step - loss: 0.7735 - categorical_accuracy: 0.6000\n",
      "Epoch 21/80\n",
      "9/9 [==============================] - 4s 406ms/step - loss: 1.0080 - categorical_accuracy: 0.5684\n",
      "Epoch 22/80\n",
      "9/9 [==============================] - 4s 401ms/step - loss: 1.4584 - categorical_accuracy: 0.3579\n",
      "Epoch 23/80\n",
      "9/9 [==============================] - 4s 404ms/step - loss: 1.0606 - categorical_accuracy: 0.5544\n",
      "Epoch 24/80\n",
      "9/9 [==============================] - 4s 404ms/step - loss: 0.9072 - categorical_accuracy: 0.6175\n",
      "Epoch 25/80\n",
      "9/9 [==============================] - 4s 399ms/step - loss: 0.8802 - categorical_accuracy: 0.5614\n",
      "Epoch 26/80\n",
      "9/9 [==============================] - 4s 401ms/step - loss: 0.9266 - categorical_accuracy: 0.5684\n",
      "Epoch 27/80\n",
      "9/9 [==============================] - 4s 404ms/step - loss: 1.0275 - categorical_accuracy: 0.5158\n",
      "Epoch 28/80\n",
      "9/9 [==============================] - 4s 402ms/step - loss: 0.9128 - categorical_accuracy: 0.6000\n",
      "Epoch 29/80\n",
      "9/9 [==============================] - 4s 408ms/step - loss: 0.7695 - categorical_accuracy: 0.6702\n",
      "Epoch 30/80\n",
      "9/9 [==============================] - 4s 419ms/step - loss: 0.6870 - categorical_accuracy: 0.6772\n",
      "Epoch 31/80\n",
      "9/9 [==============================] - 4s 410ms/step - loss: 0.6707 - categorical_accuracy: 0.7018\n",
      "Epoch 32/80\n",
      "9/9 [==============================] - 4s 396ms/step - loss: 0.7226 - categorical_accuracy: 0.7088\n",
      "Epoch 33/80\n",
      "9/9 [==============================] - 4s 398ms/step - loss: 0.7696 - categorical_accuracy: 0.6772\n",
      "Epoch 34/80\n",
      "9/9 [==============================] - 4s 400ms/step - loss: 0.7073 - categorical_accuracy: 0.7053\n",
      "Epoch 35/80\n",
      "9/9 [==============================] - 4s 402ms/step - loss: 0.6796 - categorical_accuracy: 0.6877\n",
      "Epoch 36/80\n",
      "9/9 [==============================] - 4s 432ms/step - loss: 0.9859 - categorical_accuracy: 0.6140\n",
      "Epoch 37/80\n",
      "9/9 [==============================] - 4s 400ms/step - loss: 0.7331 - categorical_accuracy: 0.7158\n",
      "Epoch 38/80\n",
      "9/9 [==============================] - 4s 398ms/step - loss: 0.6166 - categorical_accuracy: 0.7228\n",
      "Epoch 39/80\n",
      "9/9 [==============================] - 4s 405ms/step - loss: 0.6870 - categorical_accuracy: 0.6596\n",
      "Epoch 40/80\n",
      "9/9 [==============================] - 4s 410ms/step - loss: 0.7285 - categorical_accuracy: 0.6596\n",
      "Epoch 41/80\n",
      "9/9 [==============================] - 4s 420ms/step - loss: 0.6810 - categorical_accuracy: 0.6912\n",
      "Epoch 42/80\n",
      "9/9 [==============================] - 4s 413ms/step - loss: 0.6950 - categorical_accuracy: 0.6561\n",
      "Epoch 43/80\n",
      "9/9 [==============================] - 4s 404ms/step - loss: 0.7098 - categorical_accuracy: 0.6526\n",
      "Epoch 44/80\n",
      "9/9 [==============================] - 4s 404ms/step - loss: 0.7509 - categorical_accuracy: 0.6246\n",
      "Epoch 45/80\n",
      "9/9 [==============================] - 4s 408ms/step - loss: 0.5796 - categorical_accuracy: 0.7474\n",
      "Epoch 46/80\n",
      "9/9 [==============================] - 4s 421ms/step - loss: 0.5451 - categorical_accuracy: 0.7474\n",
      "Epoch 47/80\n",
      "9/9 [==============================] - 4s 397ms/step - loss: 0.6037 - categorical_accuracy: 0.7123\n",
      "Epoch 48/80\n",
      "9/9 [==============================] - 4s 392ms/step - loss: 0.4817 - categorical_accuracy: 0.7439\n",
      "Epoch 49/80\n",
      "9/9 [==============================] - 4s 398ms/step - loss: 0.4307 - categorical_accuracy: 0.8000\n",
      "Epoch 50/80\n",
      "9/9 [==============================] - 4s 409ms/step - loss: 0.4081 - categorical_accuracy: 0.7825\n",
      "Epoch 51/80\n",
      "9/9 [==============================] - 4s 411ms/step - loss: 0.5535 - categorical_accuracy: 0.7474\n",
      "Epoch 52/80\n",
      "9/9 [==============================] - 4s 408ms/step - loss: 0.7117 - categorical_accuracy: 0.6807\n",
      "Epoch 53/80\n",
      "9/9 [==============================] - 4s 427ms/step - loss: 0.6174 - categorical_accuracy: 0.7368\n",
      "Epoch 54/80\n",
      "9/9 [==============================] - 4s 437ms/step - loss: 0.5500 - categorical_accuracy: 0.7509\n",
      "Epoch 55/80\n",
      "9/9 [==============================] - 4s 408ms/step - loss: 0.5025 - categorical_accuracy: 0.7754\n",
      "Epoch 56/80\n",
      "9/9 [==============================] - 4s 420ms/step - loss: 0.9483 - categorical_accuracy: 0.6596\n",
      "Epoch 57/80\n",
      "9/9 [==============================] - 4s 418ms/step - loss: 0.9523 - categorical_accuracy: 0.5860\n",
      "Epoch 58/80\n",
      "9/9 [==============================] - 4s 402ms/step - loss: 0.8730 - categorical_accuracy: 0.5754\n",
      "Epoch 59/80\n",
      "9/9 [==============================] - 4s 422ms/step - loss: 0.6312 - categorical_accuracy: 0.7439\n",
      "Epoch 60/80\n",
      "9/9 [==============================] - 4s 432ms/step - loss: 0.5161 - categorical_accuracy: 0.7860\n",
      "Epoch 61/80\n",
      "9/9 [==============================] - 4s 438ms/step - loss: 0.4518 - categorical_accuracy: 0.7895\n",
      "Epoch 62/80\n",
      "9/9 [==============================] - 4s 466ms/step - loss: 0.4087 - categorical_accuracy: 0.7930\n",
      "Epoch 63/80\n",
      "9/9 [==============================] - 4s 420ms/step - loss: 0.4586 - categorical_accuracy: 0.7825\n",
      "Epoch 64/80\n",
      "9/9 [==============================] - 4s 405ms/step - loss: 0.4346 - categorical_accuracy: 0.8000\n",
      "Epoch 65/80\n",
      "9/9 [==============================] - 4s 405ms/step - loss: 0.5045 - categorical_accuracy: 0.7509\n",
      "Epoch 66/80\n",
      "9/9 [==============================] - 4s 403ms/step - loss: 0.4159 - categorical_accuracy: 0.8246\n",
      "Epoch 67/80\n",
      "9/9 [==============================] - 4s 404ms/step - loss: 0.3835 - categorical_accuracy: 0.8140\n",
      "Epoch 68/80\n",
      "9/9 [==============================] - 4s 413ms/step - loss: 0.3539 - categorical_accuracy: 0.8421\n",
      "Epoch 69/80\n",
      "9/9 [==============================] - 4s 403ms/step - loss: 0.3415 - categorical_accuracy: 0.8386\n",
      "Epoch 70/80\n",
      "9/9 [==============================] - 4s 404ms/step - loss: 0.3182 - categorical_accuracy: 0.8386\n",
      "Epoch 71/80\n",
      "9/9 [==============================] - 4s 400ms/step - loss: 0.2990 - categorical_accuracy: 0.8491\n",
      "Epoch 72/80\n",
      "9/9 [==============================] - 4s 433ms/step - loss: 0.2691 - categorical_accuracy: 0.8702\n",
      "Epoch 73/80\n",
      "9/9 [==============================] - 4s 421ms/step - loss: 0.2926 - categorical_accuracy: 0.8807\n",
      "Epoch 74/80\n",
      "9/9 [==============================] - 4s 439ms/step - loss: 0.4045 - categorical_accuracy: 0.8035\n",
      "Epoch 75/80\n",
      "9/9 [==============================] - 4s 410ms/step - loss: 0.6538 - categorical_accuracy: 0.7509\n",
      "Epoch 76/80\n",
      "9/9 [==============================] - 4s 414ms/step - loss: 0.4849 - categorical_accuracy: 0.7930\n",
      "Epoch 77/80\n",
      "9/9 [==============================] - 4s 434ms/step - loss: 0.3508 - categorical_accuracy: 0.8702\n",
      "Epoch 78/80\n",
      "9/9 [==============================] - 4s 427ms/step - loss: 0.3136 - categorical_accuracy: 0.8491\n",
      "Epoch 79/80\n",
      "9/9 [==============================] - 4s 414ms/step - loss: 0.2443 - categorical_accuracy: 0.9158\n",
      "Epoch 80/80\n",
      "9/9 [==============================] - 4s 425ms/step - loss: 0.2848 - categorical_accuracy: 0.8807\n"
     ]
    },
    {
     "data": {
      "text/plain": [
       "<keras.callbacks.History at 0x7f23300b1d80>"
      ]
     },
     "execution_count": 15,
     "metadata": {},
     "output_type": "execute_result"
    }
   ],
   "source": [
    "model.fit(x_train, y_train, epochs=80) # run this line when data collection is done (this will train the model)\n",
    "# we can start the number of epochs to be equal to 175 to avoid over training and add afterwards if needed"
   ]
  },
  {
   "cell_type": "code",
   "execution_count": 9,
   "id": "98aba25b",
   "metadata": {},
   "outputs": [],
   "source": [
    "del model"
   ]
  },
  {
   "cell_type": "code",
   "execution_count": 30,
   "id": "79bcc95d",
   "metadata": {},
   "outputs": [
    {
     "name": "stdout",
     "output_type": "stream",
     "text": [
      "Model: \"sequential_3\"\n",
      "_________________________________________________________________\n",
      " Layer (type)                Output Shape              Param #   \n",
      "=================================================================\n",
      " lstm_9 (LSTM)               (None, 30, 64)            442112    \n",
      "                                                                 \n",
      " lstm_10 (LSTM)              (None, 30, 128)           98816     \n",
      "                                                                 \n",
      " lstm_11 (LSTM)              (None, 30, 64)            49408     \n",
      "                                                                 \n",
      " flatten_3 (Flatten)         (None, 1920)              0         \n",
      "                                                                 \n",
      " dense_9 (Dense)             (None, 32)                61472     \n",
      "                                                                 \n",
      " dense_10 (Dense)            (None, 64)                2112      \n",
      "                                                                 \n",
      " dense_11 (Dense)            (None, 13)                845       \n",
      "                                                                 \n",
      "=================================================================\n",
      "Total params: 654,765\n",
      "Trainable params: 654,765\n",
      "Non-trainable params: 0\n",
      "_________________________________________________________________\n"
     ]
    }
   ],
   "source": [
    "model.summary() # summary of our model"
   ]
  },
  {
   "cell_type": "code",
   "execution_count": 58,
   "id": "b47b615f",
   "metadata": {},
   "outputs": [
    {
     "name": "stdout",
     "output_type": "stream",
     "text": [
      "1/1 [==============================] - 1s 593ms/step\n"
     ]
    }
   ],
   "source": [
    "res = model.predict(x_test)"
   ]
  },
  {
   "cell_type": "code",
   "execution_count": 59,
   "id": "d0752724",
   "metadata": {},
   "outputs": [
    {
     "data": {
      "text/plain": [
       "'thank you'"
      ]
     },
     "execution_count": 59,
     "metadata": {},
     "output_type": "execute_result"
    }
   ],
   "source": [
    "signs[np.argmax(res[5])]"
   ]
  },
  {
   "cell_type": "code",
   "execution_count": 60,
   "id": "306195ee",
   "metadata": {},
   "outputs": [
    {
     "data": {
      "text/plain": [
       "'thank you'"
      ]
     },
     "execution_count": 60,
     "metadata": {},
     "output_type": "execute_result"
    }
   ],
   "source": [
    "signs[np.argmax(y_test[5])]"
   ]
  },
  {
   "cell_type": "markdown",
   "id": "408b575f",
   "metadata": {},
   "source": [
    "# save weights\n"
   ]
  },
  {
   "cell_type": "code",
   "execution_count": 16,
   "id": "0ce4cb0b",
   "metadata": {},
   "outputs": [],
   "source": [
    "model.save(\"VertoMotus_MLmodel4.h5\") # save model"
   ]
  },
  {
   "cell_type": "code",
   "execution_count": 89,
   "id": "d6ce1cde",
   "metadata": {},
   "outputs": [
    {
     "name": "stdout",
     "output_type": "stream",
     "text": [
      "INFO:tensorflow:Assets written to: VertoMotus_MLmodel(2.0- 97).model\\assets\n"
     ]
    }
   ],
   "source": [
    "model.save('VertoMotus_MLmodel(2.0- 97).model')"
   ]
  },
  {
   "cell_type": "code",
   "execution_count": 17,
   "id": "ec652bf7",
   "metadata": {},
   "outputs": [
    {
     "name": "stdout",
     "output_type": "stream",
     "text": [
      "WARNING:tensorflow:Layer lstm_6 will not use cuDNN kernels since it doesn't meet the criteria. It will use a generic GPU kernel as fallback when running on GPU.\n",
      "WARNING:tensorflow:Layer lstm_7 will not use cuDNN kernels since it doesn't meet the criteria. It will use a generic GPU kernel as fallback when running on GPU.\n",
      "WARNING:tensorflow:Layer lstm_8 will not use cuDNN kernels since it doesn't meet the criteria. It will use a generic GPU kernel as fallback when running on GPU.\n",
      "INFO:tensorflow:Assets written to: /tmp/tmp_zvojqrl/assets\n"
     ]
    },
    {
     "name": "stderr",
     "output_type": "stream",
     "text": [
      "2022-11-18 22:31:39.550677: W tensorflow/compiler/mlir/lite/python/tf_tfl_flatbuffer_helpers.cc:362] Ignored output_format.\n",
      "2022-11-18 22:31:39.551810: W tensorflow/compiler/mlir/lite/python/tf_tfl_flatbuffer_helpers.cc:365] Ignored drop_control_dependency.\n",
      "2022-11-18 22:31:39.586191: I tensorflow/cc/saved_model/reader.cc:45] Reading SavedModel from: /tmp/tmp_zvojqrl\n",
      "2022-11-18 22:31:39.634664: I tensorflow/cc/saved_model/reader.cc:89] Reading meta graph with tags { serve }\n",
      "2022-11-18 22:31:39.659592: I tensorflow/cc/saved_model/reader.cc:130] Reading SavedModel debug info (if present) from: /tmp/tmp_zvojqrl\n",
      "2022-11-18 22:31:39.856277: I tensorflow/compiler/mlir/mlir_graph_optimization_pass.cc:354] MLIR V1 optimization pass is not enabled\n",
      "2022-11-18 22:31:39.886296: I tensorflow/cc/saved_model/loader.cc:229] Restoring SavedModel bundle.\n",
      "2022-11-18 22:31:40.677595: I tensorflow/cc/saved_model/loader.cc:213] Running initialization op on SavedModel bundle at path: /tmp/tmp_zvojqrl\n",
      "2022-11-18 22:31:40.927841: I tensorflow/cc/saved_model/loader.cc:305] SavedModel load for tags { serve }; Status: success: OK. Took 1364279 microseconds.\n",
      "2022-11-18 22:31:41.998519: I tensorflow/compiler/mlir/tensorflow/utils/dump_mlir_util.cc:268] disabling MLIR crash reproducer, set env var `MLIR_CRASH_REPRODUCER_DIRECTORY` to enable.\n",
      "2022-11-18 22:31:43.575224: W tensorflow/compiler/mlir/lite/flatbuffer_export.cc:1918] TFLite interpreter needs to link Flex delegate in order to run the model since it contains the following Select TFop(s):\n",
      "Flex ops: FlexTensorListReserve, FlexTensorListSetItem, FlexTensorListStack\n",
      "Details:\n",
      "\ttf.TensorListReserve(tensor<2xi32>, tensor<i32>) -> (tensor<!tf_type.variant<tensor<?x128xf32>>>) : {device = \"\"}\n",
      "\ttf.TensorListReserve(tensor<2xi32>, tensor<i32>) -> (tensor<!tf_type.variant<tensor<?x64xf32>>>) : {device = \"\"}\n",
      "\ttf.TensorListSetItem(tensor<!tf_type.variant<tensor<?x128xf32>>>, tensor<i32>, tensor<?x128xf32>) -> (tensor<!tf_type.variant<tensor<?x128xf32>>>) : {device = \"\"}\n",
      "\ttf.TensorListSetItem(tensor<!tf_type.variant<tensor<?x64xf32>>>, tensor<i32>, tensor<?x64xf32>) -> (tensor<!tf_type.variant<tensor<?x64xf32>>>) : {device = \"\"}\n",
      "\ttf.TensorListStack(tensor<!tf_type.variant<tensor<?x128xf32>>>, tensor<2xi32>) -> (tensor<?x?x128xf32>) : {device = \"\", num_elements = -1 : i64}\n",
      "\ttf.TensorListStack(tensor<!tf_type.variant<tensor<?x64xf32>>>, tensor<2xi32>) -> (tensor<?x?x64xf32>) : {device = \"\", num_elements = -1 : i64}\n",
      "See instructions: https://www.tensorflow.org/lite/guide/ops_select\n"
     ]
    },
    {
     "data": {
      "text/plain": [
       "651464"
      ]
     },
     "execution_count": 17,
     "metadata": {},
     "output_type": "execute_result"
    }
   ],
   "source": [
    "model = tf.keras.models.load_model(\"./VertoMotus_MLmodel4.h5\")\n",
    "converter = tf.lite.TFLiteConverter.from_keras_model(model)\n",
    "converter.optimizations = [tf.lite.Optimize.DEFAULT]\n",
    "converter.target_spec.supported_ops = [\n",
    "  tf.lite.OpsSet.TFLITE_BUILTINS, # enable TensorFlow Lite ops.\n",
    "  tf.lite.OpsSet.SELECT_TF_OPS # enable TensorFlow ops.\n",
    "]\n",
    "tflite = converter.convert()\n",
    "\n",
    "open(\"./normalized_data.tflite\", \"wb\").write(tflite)"
   ]
  },
  {
   "cell_type": "code",
   "execution_count": 38,
   "id": "0d8ff773",
   "metadata": {},
   "outputs": [
    {
     "ename": "ValueError",
     "evalue": "Cannot set tensor: Got value of type FLOAT64 but expected type FLOAT32 for input 0, name: serving_default_lstm_9_input:0 ",
     "output_type": "error",
     "traceback": [
      "\u001b[1;31m---------------------------------------------------------------------------\u001b[0m",
      "\u001b[1;31mValueError\u001b[0m                                Traceback (most recent call last)",
      "Cell \u001b[1;32mIn [38], line 6\u001b[0m\n\u001b[0;32m      3\u001b[0m inp \u001b[38;5;241m=\u001b[39m interpreter\u001b[38;5;241m.\u001b[39mget_input_details()\n\u001b[0;32m      4\u001b[0m out \u001b[38;5;241m=\u001b[39m interpreter\u001b[38;5;241m.\u001b[39mget_output_details()\n\u001b[1;32m----> 6\u001b[0m \u001b[43minterpreter\u001b[49m\u001b[38;5;241;43m.\u001b[39;49m\u001b[43mset_tensor\u001b[49m\u001b[43m(\u001b[49m\u001b[43minp\u001b[49m\u001b[43m[\u001b[49m\u001b[38;5;241;43m0\u001b[39;49m\u001b[43m]\u001b[49m\u001b[43m[\u001b[49m\u001b[38;5;124;43m\"\u001b[39;49m\u001b[38;5;124;43mindex\u001b[39;49m\u001b[38;5;124;43m\"\u001b[39;49m\u001b[43m]\u001b[49m\u001b[43m,\u001b[49m\u001b[43m \u001b[49m\u001b[43mnp\u001b[49m\u001b[38;5;241;43m.\u001b[39;49m\u001b[43mexpand_dims\u001b[49m\u001b[43m(\u001b[49m\u001b[43msequences\u001b[49m\u001b[43m,\u001b[49m\u001b[43maxis\u001b[49m\u001b[38;5;241;43m=\u001b[39;49m\u001b[38;5;241;43m0\u001b[39;49m\u001b[43m)\u001b[49m\u001b[43m)\u001b[49m\n\u001b[0;32m      7\u001b[0m interpreter\u001b[38;5;241m.\u001b[39minvoke()\n\u001b[0;32m      9\u001b[0m                 \u001b[38;5;66;03m#for i in sequence[-30:]:\u001b[39;00m\n",
      "File \u001b[1;32m~\\AppData\\Local\\Programs\\Python\\Python310\\lib\\site-packages\\tensorflow\\lite\\python\\interpreter.py:697\u001b[0m, in \u001b[0;36mInterpreter.set_tensor\u001b[1;34m(self, tensor_index, value)\u001b[0m\n\u001b[0;32m    681\u001b[0m \u001b[38;5;28;01mdef\u001b[39;00m \u001b[38;5;21mset_tensor\u001b[39m(\u001b[38;5;28mself\u001b[39m, tensor_index, value):\n\u001b[0;32m    682\u001b[0m   \u001b[38;5;124;03m\"\"\"Sets the value of the input tensor.\u001b[39;00m\n\u001b[0;32m    683\u001b[0m \n\u001b[0;32m    684\u001b[0m \u001b[38;5;124;03m  Note this copies data in `value`.\u001b[39;00m\n\u001b[1;32m   (...)\u001b[0m\n\u001b[0;32m    695\u001b[0m \u001b[38;5;124;03m    ValueError: If the interpreter could not set the tensor.\u001b[39;00m\n\u001b[0;32m    696\u001b[0m \u001b[38;5;124;03m  \"\"\"\u001b[39;00m\n\u001b[1;32m--> 697\u001b[0m   \u001b[38;5;28;43mself\u001b[39;49m\u001b[38;5;241;43m.\u001b[39;49m\u001b[43m_interpreter\u001b[49m\u001b[38;5;241;43m.\u001b[39;49m\u001b[43mSetTensor\u001b[49m\u001b[43m(\u001b[49m\u001b[43mtensor_index\u001b[49m\u001b[43m,\u001b[49m\u001b[43m \u001b[49m\u001b[43mvalue\u001b[49m\u001b[43m)\u001b[49m\n",
      "\u001b[1;31mValueError\u001b[0m: Cannot set tensor: Got value of type FLOAT64 but expected type FLOAT32 for input 0, name: serving_default_lstm_9_input:0 "
     ]
    }
   ],
   "source": [
    "interpreter = tf.lite.Interpreter(\"LiteML.tflite\")\n",
    "\n",
    "inp = interpreter.get_input_details()\n",
    "out = interpreter.get_output_details()\n",
    "\n",
    "interpreter.set_tensor(inp[0][\"index\"], np.expand_dims(sequences,axis=0))\n",
    "interpreter.invoke()\n",
    "                \n",
    "                #for i in sequence[-30:]:\n",
    "output_data = interpreter.get_tensor(out[0][\"index\"])\n",
    "                \n",
    "highest = np.argmax(output_data)\n",
    "word = VM.get_key(signs, highest)\n",
    "print(output_data.shape)\n",
    "print(word)\n"
   ]
  },
  {
   "cell_type": "code",
   "execution_count": null,
   "id": "539cd0be",
   "metadata": {},
   "outputs": [],
   "source": []
  }
 ],
 "metadata": {
  "kernelspec": {
   "display_name": "Python 3 (ipykernel)",
   "language": "python",
   "name": "python3"
  },
  "language_info": {
   "codemirror_mode": {
    "name": "ipython",
    "version": 3
   },
   "file_extension": ".py",
   "mimetype": "text/x-python",
   "name": "python",
   "nbconvert_exporter": "python",
   "pygments_lexer": "ipython3",
   "version": "3.10.4"
  }
 },
 "nbformat": 4,
 "nbformat_minor": 5
}
