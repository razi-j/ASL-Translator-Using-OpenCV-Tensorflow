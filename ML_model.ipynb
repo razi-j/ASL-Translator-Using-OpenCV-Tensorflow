{
 "cells": [
  {
   "cell_type": "code",
   "execution_count": 1,
   "id": "1fb650f8",
   "metadata": {},
   "outputs": [],
   "source": [
    "from sklearn.model_selection import train_test_split\n",
    "import tensorflow as tf\n",
    "from tensorflow.keras.utils import to_categorical\n",
    "from tensorflow.keras.models import Sequential\n",
    "from tensorflow.keras.layers import LSTM, Dense, Flatten\n",
    "from functions import VM\n",
    "import os\n",
    "import numpy as np"
   ]
  },
  {
   "cell_type": "markdown",
   "id": "4835d852",
   "metadata": {},
   "source": [
    "# Take the sign names in our collections data"
   ]
  },
  {
   "cell_type": "code",
   "execution_count": 2,
   "id": "de5110e8",
   "metadata": {},
   "outputs": [],
   "source": [
    "signs = sorted(os.listdir(\"./Keypoint_Data/\")) # take all the signs used in data collection\n",
    "sign_id = {label: num for num, label in enumerate(signs)} # assign a value for each sign (each sign is assign to its index)"
   ]
  },
  {
   "cell_type": "code",
   "execution_count": 3,
   "id": "95ac6ae9",
   "metadata": {},
   "outputs": [
    {
     "data": {
      "text/plain": [
       "'hello'"
      ]
     },
     "execution_count": 3,
     "metadata": {},
     "output_type": "execute_result"
    }
   ],
   "source": [
    "signs[0]"
   ]
  },
  {
   "cell_type": "code",
   "execution_count": 4,
   "id": "ea4b6064",
   "metadata": {},
   "outputs": [
    {
     "data": {
      "text/plain": [
       "0"
      ]
     },
     "execution_count": 4,
     "metadata": {},
     "output_type": "execute_result"
    }
   ],
   "source": [
    "sign_id['hello']"
   ]
  },
  {
   "cell_type": "markdown",
   "id": "0a87222e",
   "metadata": {},
   "source": [
    "# Create the x and y data\n"
   ]
  },
  {
   "cell_type": "code",
   "execution_count": 5,
   "id": "521243ad",
   "metadata": {},
   "outputs": [],
   "source": [
    "sequences, labels = [], [] # sequences represents our x data while labels represents our y data\n",
    "# create a loop that creates our x and y data\n",
    "for sign in signs:\n",
    "    for sequence in range(VM.seq):\n",
    "        window = []\n",
    "        for frames in range(VM.seq_lenght):\n",
    "            res = np.load(os.path.join(VM.DATA_PATH, sign, str(sequence), f\"{frames}.npy\"))\n",
    "            window.append(res)\n",
    "        sequences.append(window)\n",
    "        labels.append(sign_id[sign])\n",
    "        \n",
    "# store our x and y data to a numpy array\n",
    "x_data = np.array(sequences) \n",
    "y_data = to_categorical(labels).astype(int) \n",
    "\n",
    "# setup our training and testing partition\n",
    "x_train, x_test, y_train, y_test = train_test_split(x_data, y_data, test_size=0.05)"
   ]
  },
  {
   "cell_type": "markdown",
   "id": "f34079f0",
   "metadata": {},
   "source": [
    "# Build and train the model\n"
   ]
  },
  {
   "cell_type": "code",
   "execution_count": 6,
   "id": "49fd7182",
   "metadata": {},
   "outputs": [
    {
     "data": {
      "text/plain": [
       "(950, 30, 1662)"
      ]
     },
     "execution_count": 6,
     "metadata": {},
     "output_type": "execute_result"
    }
   ],
   "source": [
    "x_train.shape"
   ]
  },
  {
   "cell_type": "code",
   "execution_count": 7,
   "id": "59013a91",
   "metadata": {},
   "outputs": [],
   "source": [
    "# build the model\n",
    "model = Sequential()\n",
    "model.add(LSTM(64, return_sequences=\"True\", activation=\"relu\", input_shape=(30,1662)))\n",
    "model.add(LSTM(128, return_sequences=\"True\", activation=\"relu\"))\n",
    "model.add(LSTM(64, return_sequences=\"False\", activation=\"relu\"))\n",
    "model.add(Flatten(input_shape=(x_train.shape[1:])))\n",
    "model.add(Dense(64, activation=\"relu\"))\n",
    "model.add(Dense(32, activation=\"relu\"))\n",
    "model.add(Dense(np.array(signs).shape[0], activation=\"softmax\"))"
   ]
  },
  {
   "cell_type": "code",
   "execution_count": 8,
   "id": "88417beb",
   "metadata": {},
   "outputs": [],
   "source": [
    "model.compile(optimizer=\"Adam\", loss=\"categorical_crossentropy\", metrics=[\"categorical_accuracy\"]) # compiler "
   ]
  },
  {
   "cell_type": "code",
   "execution_count": 9,
   "id": "2f8c73a0",
   "metadata": {},
   "outputs": [
    {
     "name": "stdout",
     "output_type": "stream",
     "text": [
      "Epoch 1/1000\n",
      "30/30 [==============================] - 5s 55ms/step - loss: 2.3341 - categorical_accuracy: 0.1200\n",
      "Epoch 2/1000\n",
      "30/30 [==============================] - 2s 55ms/step - loss: 2.2677 - categorical_accuracy: 0.2558\n",
      "Epoch 3/1000\n",
      "30/30 [==============================] - 2s 55ms/step - loss: 1.9747 - categorical_accuracy: 0.2674\n",
      "Epoch 4/1000\n",
      "30/30 [==============================] - 2s 55ms/step - loss: 2.1290 - categorical_accuracy: 0.1747\n",
      "Epoch 5/1000\n",
      "30/30 [==============================] - 2s 55ms/step - loss: 1.8091 - categorical_accuracy: 0.2811\n",
      "Epoch 6/1000\n",
      "30/30 [==============================] - 2s 55ms/step - loss: 1.3994 - categorical_accuracy: 0.4053\n",
      "Epoch 7/1000\n",
      "30/30 [==============================] - 2s 55ms/step - loss: 1.1752 - categorical_accuracy: 0.5063\n",
      "Epoch 8/1000\n",
      "30/30 [==============================] - 2s 55ms/step - loss: 0.9279 - categorical_accuracy: 0.5958\n",
      "Epoch 9/1000\n",
      "30/30 [==============================] - 2s 55ms/step - loss: 0.7853 - categorical_accuracy: 0.6611\n",
      "Epoch 10/1000\n",
      "30/30 [==============================] - 2s 55ms/step - loss: 0.7424 - categorical_accuracy: 0.6758\n",
      "Epoch 11/1000\n",
      "30/30 [==============================] - 2s 55ms/step - loss: 0.6256 - categorical_accuracy: 0.7432\n",
      "Epoch 12/1000\n",
      "30/30 [==============================] - 2s 56ms/step - loss: 0.6706 - categorical_accuracy: 0.6874\n",
      "Epoch 13/1000\n",
      "30/30 [==============================] - 2s 56ms/step - loss: 0.6023 - categorical_accuracy: 0.7505\n",
      "Epoch 14/1000\n",
      "30/30 [==============================] - 2s 55ms/step - loss: 1.1900 - categorical_accuracy: 0.6221\n",
      "Epoch 15/1000\n",
      "30/30 [==============================] - 2s 54ms/step - loss: 0.9671 - categorical_accuracy: 0.6358\n",
      "Epoch 16/1000\n",
      "30/30 [==============================] - 2s 54ms/step - loss: 0.6616 - categorical_accuracy: 0.7316\n",
      "Epoch 17/1000\n",
      "30/30 [==============================] - 2s 56ms/step - loss: 0.5398 - categorical_accuracy: 0.7821\n",
      "Epoch 18/1000\n",
      "30/30 [==============================] - 2s 55ms/step - loss: 0.5637 - categorical_accuracy: 0.7758\n",
      "Epoch 19/1000\n",
      "30/30 [==============================] - 2s 55ms/step - loss: 0.4527 - categorical_accuracy: 0.8253\n",
      "Epoch 20/1000\n",
      "30/30 [==============================] - 2s 54ms/step - loss: 0.5217 - categorical_accuracy: 0.7905\n",
      "Epoch 21/1000\n",
      "30/30 [==============================] - 2s 53ms/step - loss: 0.4171 - categorical_accuracy: 0.8453\n",
      "Epoch 22/1000\n",
      "30/30 [==============================] - 2s 53ms/step - loss: 0.5788 - categorical_accuracy: 0.7726\n",
      "Epoch 23/1000\n",
      "30/30 [==============================] - 2s 55ms/step - loss: 0.4203 - categorical_accuracy: 0.8495\n",
      "Epoch 24/1000\n",
      "30/30 [==============================] - 2s 56ms/step - loss: 0.4695 - categorical_accuracy: 0.8137\n",
      "Epoch 25/1000\n",
      "30/30 [==============================] - 2s 56ms/step - loss: 0.3974 - categorical_accuracy: 0.8463\n",
      "Epoch 26/1000\n",
      "30/30 [==============================] - 2s 55ms/step - loss: 0.3577 - categorical_accuracy: 0.8726\n",
      "Epoch 27/1000\n",
      "30/30 [==============================] - 2s 55ms/step - loss: 0.4942 - categorical_accuracy: 0.7947\n",
      "Epoch 28/1000\n",
      "30/30 [==============================] - 2s 55ms/step - loss: 0.4511 - categorical_accuracy: 0.8105\n",
      "Epoch 29/1000\n",
      "30/30 [==============================] - 2s 55ms/step - loss: 0.3944 - categorical_accuracy: 0.8526\n",
      "Epoch 30/1000\n",
      "30/30 [==============================] - 2s 55ms/step - loss: 0.2918 - categorical_accuracy: 0.8895\n",
      "Epoch 31/1000\n",
      "30/30 [==============================] - 2s 57ms/step - loss: 0.3332 - categorical_accuracy: 0.8768\n",
      "Epoch 32/1000\n",
      "30/30 [==============================] - 2s 56ms/step - loss: 0.3631 - categorical_accuracy: 0.8558\n",
      "Epoch 33/1000\n",
      "30/30 [==============================] - 2s 56ms/step - loss: 0.3505 - categorical_accuracy: 0.8684\n",
      "Epoch 34/1000\n",
      "30/30 [==============================] - 2s 57ms/step - loss: 0.2307 - categorical_accuracy: 0.9284\n",
      "Epoch 35/1000\n",
      "30/30 [==============================] - 2s 54ms/step - loss: 0.3042 - categorical_accuracy: 0.8747\n",
      "Epoch 36/1000\n",
      "30/30 [==============================] - 2s 54ms/step - loss: 0.2355 - categorical_accuracy: 0.9221\n",
      "Epoch 37/1000\n",
      "30/30 [==============================] - 2s 55ms/step - loss: 0.2105 - categorical_accuracy: 0.9242\n",
      "Epoch 38/1000\n",
      "30/30 [==============================] - 2s 56ms/step - loss: 0.2376 - categorical_accuracy: 0.9242\n",
      "Epoch 39/1000\n",
      "30/30 [==============================] - 2s 55ms/step - loss: 0.2259 - categorical_accuracy: 0.9126\n",
      "Epoch 40/1000\n",
      "30/30 [==============================] - 2s 54ms/step - loss: 0.2999 - categorical_accuracy: 0.8811\n",
      "Epoch 41/1000\n",
      "30/30 [==============================] - 2s 54ms/step - loss: 0.2112 - categorical_accuracy: 0.9221\n",
      "Epoch 42/1000\n",
      "30/30 [==============================] - 2s 56ms/step - loss: 0.4640 - categorical_accuracy: 0.8126\n",
      "Epoch 43/1000\n",
      "30/30 [==============================] - 2s 59ms/step - loss: 0.2319 - categorical_accuracy: 0.9232\n",
      "Epoch 44/1000\n",
      "30/30 [==============================] - 2s 58ms/step - loss: 0.2601 - categorical_accuracy: 0.9042\n",
      "Epoch 45/1000\n",
      "30/30 [==============================] - 2s 55ms/step - loss: 0.2035 - categorical_accuracy: 0.9232\n",
      "Epoch 46/1000\n",
      "30/30 [==============================] - 2s 55ms/step - loss: 0.2133 - categorical_accuracy: 0.9147\n",
      "Epoch 47/1000\n",
      "30/30 [==============================] - 2s 56ms/step - loss: 0.2101 - categorical_accuracy: 0.9242\n",
      "Epoch 48/1000\n",
      "30/30 [==============================] - 2s 55ms/step - loss: 0.2816 - categorical_accuracy: 0.8800\n",
      "Epoch 49/1000\n",
      "30/30 [==============================] - 2s 57ms/step - loss: 0.1839 - categorical_accuracy: 0.9316\n",
      "Epoch 50/1000\n",
      "30/30 [==============================] - 2s 55ms/step - loss: 0.2388 - categorical_accuracy: 0.9074\n",
      "Epoch 51/1000\n",
      "30/30 [==============================] - 2s 58ms/step - loss: 0.1472 - categorical_accuracy: 0.9505\n",
      "Epoch 52/1000\n",
      "30/30 [==============================] - 2s 56ms/step - loss: 0.2706 - categorical_accuracy: 0.8968\n",
      "Epoch 53/1000\n",
      "30/30 [==============================] - 2s 58ms/step - loss: 0.1738 - categorical_accuracy: 0.9411\n",
      "Epoch 54/1000\n",
      "30/30 [==============================] - 2s 60ms/step - loss: 0.1618 - categorical_accuracy: 0.9368\n",
      "Epoch 55/1000\n",
      "30/30 [==============================] - 2s 62ms/step - loss: 0.1192 - categorical_accuracy: 0.9611\n",
      "Epoch 56/1000\n",
      "30/30 [==============================] - 2s 59ms/step - loss: 0.1284 - categorical_accuracy: 0.9474\n",
      "Epoch 57/1000\n",
      "30/30 [==============================] - 2s 58ms/step - loss: 0.3033 - categorical_accuracy: 0.8789\n",
      "Epoch 58/1000\n",
      "30/30 [==============================] - 2s 57ms/step - loss: 0.6850 - categorical_accuracy: 0.7495\n",
      "Epoch 59/1000\n",
      "30/30 [==============================] - 2s 55ms/step - loss: 0.2429 - categorical_accuracy: 0.9263\n",
      "Epoch 60/1000\n",
      "30/30 [==============================] - 2s 57ms/step - loss: 0.2089 - categorical_accuracy: 0.9242\n",
      "Epoch 61/1000\n",
      "30/30 [==============================] - 2s 57ms/step - loss: 0.1650 - categorical_accuracy: 0.9442\n",
      "Epoch 62/1000\n",
      "30/30 [==============================] - 2s 58ms/step - loss: 0.2537 - categorical_accuracy: 0.9074\n",
      "Epoch 63/1000\n",
      "30/30 [==============================] - 2s 55ms/step - loss: 0.2099 - categorical_accuracy: 0.9242\n",
      "Epoch 64/1000\n",
      "30/30 [==============================] - 2s 55ms/step - loss: 0.2131 - categorical_accuracy: 0.9295\n",
      "Epoch 65/1000\n",
      "30/30 [==============================] - 2s 55ms/step - loss: 0.1157 - categorical_accuracy: 0.9663\n",
      "Epoch 66/1000\n",
      "30/30 [==============================] - 2s 57ms/step - loss: 0.1268 - categorical_accuracy: 0.9537\n",
      "Epoch 67/1000\n",
      "30/30 [==============================] - 2s 59ms/step - loss: 0.1070 - categorical_accuracy: 0.9621\n",
      "Epoch 68/1000\n",
      "30/30 [==============================] - 2s 55ms/step - loss: 0.1358 - categorical_accuracy: 0.9516\n",
      "Epoch 69/1000\n",
      "30/30 [==============================] - 2s 56ms/step - loss: 0.1248 - categorical_accuracy: 0.9558\n",
      "Epoch 70/1000\n",
      "30/30 [==============================] - 2s 56ms/step - loss: 0.2745 - categorical_accuracy: 0.8947\n",
      "Epoch 71/1000\n",
      "30/30 [==============================] - 2s 56ms/step - loss: 0.3019 - categorical_accuracy: 0.8737\n",
      "Epoch 72/1000\n"
     ]
    },
    {
     "name": "stdout",
     "output_type": "stream",
     "text": [
      "30/30 [==============================] - 2s 55ms/step - loss: 0.1140 - categorical_accuracy: 0.9705\n",
      "Epoch 73/1000\n",
      "30/30 [==============================] - 2s 57ms/step - loss: 0.0953 - categorical_accuracy: 0.9684\n",
      "Epoch 74/1000\n",
      "30/30 [==============================] - 2s 58ms/step - loss: 0.1020 - categorical_accuracy: 0.9653\n",
      "Epoch 75/1000\n",
      "30/30 [==============================] - 2s 56ms/step - loss: 0.1214 - categorical_accuracy: 0.9611\n",
      "Epoch 76/1000\n",
      "30/30 [==============================] - 2s 56ms/step - loss: 0.1173 - categorical_accuracy: 0.9547\n",
      "Epoch 77/1000\n",
      "30/30 [==============================] - 2s 57ms/step - loss: 0.0826 - categorical_accuracy: 0.9705\n",
      "Epoch 78/1000\n",
      "30/30 [==============================] - 2s 56ms/step - loss: 0.0763 - categorical_accuracy: 0.9768\n",
      "Epoch 79/1000\n",
      "30/30 [==============================] - 2s 57ms/step - loss: 0.1813 - categorical_accuracy: 0.9326\n",
      "Epoch 80/1000\n",
      "30/30 [==============================] - 2s 56ms/step - loss: 0.1232 - categorical_accuracy: 0.9568\n",
      "Epoch 81/1000\n",
      "30/30 [==============================] - 2s 55ms/step - loss: 0.1039 - categorical_accuracy: 0.9684\n",
      "Epoch 82/1000\n",
      "30/30 [==============================] - 2s 57ms/step - loss: 0.0783 - categorical_accuracy: 0.9716\n",
      "Epoch 83/1000\n",
      "30/30 [==============================] - 2s 56ms/step - loss: 0.0972 - categorical_accuracy: 0.9684\n",
      "Epoch 84/1000\n",
      "30/30 [==============================] - 2s 56ms/step - loss: 0.1119 - categorical_accuracy: 0.9547\n",
      "Epoch 85/1000\n",
      "30/30 [==============================] - 2s 56ms/step - loss: 0.0751 - categorical_accuracy: 0.9716\n",
      "Epoch 86/1000\n",
      "30/30 [==============================] - 2s 56ms/step - loss: 0.1546 - categorical_accuracy: 0.9411\n",
      "Epoch 87/1000\n",
      "30/30 [==============================] - 2s 59ms/step - loss: 0.1261 - categorical_accuracy: 0.9568\n",
      "Epoch 88/1000\n",
      "26/30 [=========================>....] - ETA: 0s - loss: 0.1462 - categorical_accuracy: 0.9483"
     ]
    },
    {
     "ename": "KeyboardInterrupt",
     "evalue": "",
     "output_type": "error",
     "traceback": [
      "\u001b[1;31m---------------------------------------------------------------------------\u001b[0m",
      "\u001b[1;31mKeyboardInterrupt\u001b[0m                         Traceback (most recent call last)",
      "Cell \u001b[1;32mIn[9], line 1\u001b[0m\n\u001b[1;32m----> 1\u001b[0m \u001b[43mmodel\u001b[49m\u001b[38;5;241;43m.\u001b[39;49m\u001b[43mfit\u001b[49m\u001b[43m(\u001b[49m\u001b[43mx_train\u001b[49m\u001b[43m,\u001b[49m\u001b[43m \u001b[49m\u001b[43my_train\u001b[49m\u001b[43m,\u001b[49m\u001b[43m \u001b[49m\u001b[43mepochs\u001b[49m\u001b[38;5;241;43m=\u001b[39;49m\u001b[38;5;241;43m1000\u001b[39;49m\u001b[43m)\u001b[49m \u001b[38;5;66;03m# run this line when data collection is done (this will train the model)\u001b[39;00m\n",
      "File \u001b[1;32m~\\AppData\\Roaming\\Python\\Python310\\site-packages\\keras\\utils\\traceback_utils.py:65\u001b[0m, in \u001b[0;36mfilter_traceback.<locals>.error_handler\u001b[1;34m(*args, **kwargs)\u001b[0m\n\u001b[0;32m     63\u001b[0m filtered_tb \u001b[38;5;241m=\u001b[39m \u001b[38;5;28;01mNone\u001b[39;00m\n\u001b[0;32m     64\u001b[0m \u001b[38;5;28;01mtry\u001b[39;00m:\n\u001b[1;32m---> 65\u001b[0m     \u001b[38;5;28;01mreturn\u001b[39;00m fn(\u001b[38;5;241m*\u001b[39margs, \u001b[38;5;241m*\u001b[39m\u001b[38;5;241m*\u001b[39mkwargs)\n\u001b[0;32m     66\u001b[0m \u001b[38;5;28;01mexcept\u001b[39;00m \u001b[38;5;167;01mException\u001b[39;00m \u001b[38;5;28;01mas\u001b[39;00m e:\n\u001b[0;32m     67\u001b[0m     filtered_tb \u001b[38;5;241m=\u001b[39m _process_traceback_frames(e\u001b[38;5;241m.\u001b[39m__traceback__)\n",
      "File \u001b[1;32m~\\AppData\\Roaming\\Python\\Python310\\site-packages\\keras\\engine\\training.py:1650\u001b[0m, in \u001b[0;36mModel.fit\u001b[1;34m(self, x, y, batch_size, epochs, verbose, callbacks, validation_split, validation_data, shuffle, class_weight, sample_weight, initial_epoch, steps_per_epoch, validation_steps, validation_batch_size, validation_freq, max_queue_size, workers, use_multiprocessing)\u001b[0m\n\u001b[0;32m   1642\u001b[0m \u001b[38;5;28;01mwith\u001b[39;00m tf\u001b[38;5;241m.\u001b[39mprofiler\u001b[38;5;241m.\u001b[39mexperimental\u001b[38;5;241m.\u001b[39mTrace(\n\u001b[0;32m   1643\u001b[0m     \u001b[38;5;124m\"\u001b[39m\u001b[38;5;124mtrain\u001b[39m\u001b[38;5;124m\"\u001b[39m,\n\u001b[0;32m   1644\u001b[0m     epoch_num\u001b[38;5;241m=\u001b[39mepoch,\n\u001b[1;32m   (...)\u001b[0m\n\u001b[0;32m   1647\u001b[0m     _r\u001b[38;5;241m=\u001b[39m\u001b[38;5;241m1\u001b[39m,\n\u001b[0;32m   1648\u001b[0m ):\n\u001b[0;32m   1649\u001b[0m     callbacks\u001b[38;5;241m.\u001b[39mon_train_batch_begin(step)\n\u001b[1;32m-> 1650\u001b[0m     tmp_logs \u001b[38;5;241m=\u001b[39m \u001b[38;5;28;43mself\u001b[39;49m\u001b[38;5;241;43m.\u001b[39;49m\u001b[43mtrain_function\u001b[49m\u001b[43m(\u001b[49m\u001b[43miterator\u001b[49m\u001b[43m)\u001b[49m\n\u001b[0;32m   1651\u001b[0m     \u001b[38;5;28;01mif\u001b[39;00m data_handler\u001b[38;5;241m.\u001b[39mshould_sync:\n\u001b[0;32m   1652\u001b[0m         context\u001b[38;5;241m.\u001b[39masync_wait()\n",
      "File \u001b[1;32m~\\AppData\\Roaming\\Python\\Python310\\site-packages\\tensorflow\\python\\util\\traceback_utils.py:150\u001b[0m, in \u001b[0;36mfilter_traceback.<locals>.error_handler\u001b[1;34m(*args, **kwargs)\u001b[0m\n\u001b[0;32m    148\u001b[0m filtered_tb \u001b[38;5;241m=\u001b[39m \u001b[38;5;28;01mNone\u001b[39;00m\n\u001b[0;32m    149\u001b[0m \u001b[38;5;28;01mtry\u001b[39;00m:\n\u001b[1;32m--> 150\u001b[0m   \u001b[38;5;28;01mreturn\u001b[39;00m fn(\u001b[38;5;241m*\u001b[39margs, \u001b[38;5;241m*\u001b[39m\u001b[38;5;241m*\u001b[39mkwargs)\n\u001b[0;32m    151\u001b[0m \u001b[38;5;28;01mexcept\u001b[39;00m \u001b[38;5;167;01mException\u001b[39;00m \u001b[38;5;28;01mas\u001b[39;00m e:\n\u001b[0;32m    152\u001b[0m   filtered_tb \u001b[38;5;241m=\u001b[39m _process_traceback_frames(e\u001b[38;5;241m.\u001b[39m__traceback__)\n",
      "File \u001b[1;32m~\\AppData\\Roaming\\Python\\Python310\\site-packages\\tensorflow\\python\\eager\\polymorphic_function\\polymorphic_function.py:880\u001b[0m, in \u001b[0;36mFunction.__call__\u001b[1;34m(self, *args, **kwds)\u001b[0m\n\u001b[0;32m    877\u001b[0m compiler \u001b[38;5;241m=\u001b[39m \u001b[38;5;124m\"\u001b[39m\u001b[38;5;124mxla\u001b[39m\u001b[38;5;124m\"\u001b[39m \u001b[38;5;28;01mif\u001b[39;00m \u001b[38;5;28mself\u001b[39m\u001b[38;5;241m.\u001b[39m_jit_compile \u001b[38;5;28;01melse\u001b[39;00m \u001b[38;5;124m\"\u001b[39m\u001b[38;5;124mnonXla\u001b[39m\u001b[38;5;124m\"\u001b[39m\n\u001b[0;32m    879\u001b[0m \u001b[38;5;28;01mwith\u001b[39;00m OptionalXlaContext(\u001b[38;5;28mself\u001b[39m\u001b[38;5;241m.\u001b[39m_jit_compile):\n\u001b[1;32m--> 880\u001b[0m   result \u001b[38;5;241m=\u001b[39m \u001b[38;5;28mself\u001b[39m\u001b[38;5;241m.\u001b[39m_call(\u001b[38;5;241m*\u001b[39margs, \u001b[38;5;241m*\u001b[39m\u001b[38;5;241m*\u001b[39mkwds)\n\u001b[0;32m    882\u001b[0m new_tracing_count \u001b[38;5;241m=\u001b[39m \u001b[38;5;28mself\u001b[39m\u001b[38;5;241m.\u001b[39mexperimental_get_tracing_count()\n\u001b[0;32m    883\u001b[0m without_tracing \u001b[38;5;241m=\u001b[39m (tracing_count \u001b[38;5;241m==\u001b[39m new_tracing_count)\n",
      "File \u001b[1;32m~\\AppData\\Roaming\\Python\\Python310\\site-packages\\tensorflow\\python\\eager\\polymorphic_function\\polymorphic_function.py:912\u001b[0m, in \u001b[0;36mFunction._call\u001b[1;34m(self, *args, **kwds)\u001b[0m\n\u001b[0;32m    909\u001b[0m   \u001b[38;5;28mself\u001b[39m\u001b[38;5;241m.\u001b[39m_lock\u001b[38;5;241m.\u001b[39mrelease()\n\u001b[0;32m    910\u001b[0m   \u001b[38;5;66;03m# In this case we have created variables on the first call, so we run the\u001b[39;00m\n\u001b[0;32m    911\u001b[0m   \u001b[38;5;66;03m# defunned version which is guaranteed to never create variables.\u001b[39;00m\n\u001b[1;32m--> 912\u001b[0m   \u001b[38;5;28;01mreturn\u001b[39;00m \u001b[38;5;28mself\u001b[39m\u001b[38;5;241m.\u001b[39m_no_variable_creation_fn(\u001b[38;5;241m*\u001b[39margs, \u001b[38;5;241m*\u001b[39m\u001b[38;5;241m*\u001b[39mkwds)  \u001b[38;5;66;03m# pylint: disable=not-callable\u001b[39;00m\n\u001b[0;32m    913\u001b[0m \u001b[38;5;28;01melif\u001b[39;00m \u001b[38;5;28mself\u001b[39m\u001b[38;5;241m.\u001b[39m_variable_creation_fn \u001b[38;5;129;01mis\u001b[39;00m \u001b[38;5;129;01mnot\u001b[39;00m \u001b[38;5;28;01mNone\u001b[39;00m:\n\u001b[0;32m    914\u001b[0m   \u001b[38;5;66;03m# Release the lock early so that multiple threads can perform the call\u001b[39;00m\n\u001b[0;32m    915\u001b[0m   \u001b[38;5;66;03m# in parallel.\u001b[39;00m\n\u001b[0;32m    916\u001b[0m   \u001b[38;5;28mself\u001b[39m\u001b[38;5;241m.\u001b[39m_lock\u001b[38;5;241m.\u001b[39mrelease()\n",
      "File \u001b[1;32m~\\AppData\\Roaming\\Python\\Python310\\site-packages\\tensorflow\\python\\eager\\polymorphic_function\\tracing_compiler.py:134\u001b[0m, in \u001b[0;36mTracingCompiler.__call__\u001b[1;34m(self, *args, **kwargs)\u001b[0m\n\u001b[0;32m    131\u001b[0m \u001b[38;5;28;01mwith\u001b[39;00m \u001b[38;5;28mself\u001b[39m\u001b[38;5;241m.\u001b[39m_lock:\n\u001b[0;32m    132\u001b[0m   (concrete_function,\n\u001b[0;32m    133\u001b[0m    filtered_flat_args) \u001b[38;5;241m=\u001b[39m \u001b[38;5;28mself\u001b[39m\u001b[38;5;241m.\u001b[39m_maybe_define_function(args, kwargs)\n\u001b[1;32m--> 134\u001b[0m \u001b[38;5;28;01mreturn\u001b[39;00m \u001b[43mconcrete_function\u001b[49m\u001b[38;5;241;43m.\u001b[39;49m\u001b[43m_call_flat\u001b[49m\u001b[43m(\u001b[49m\n\u001b[0;32m    135\u001b[0m \u001b[43m    \u001b[49m\u001b[43mfiltered_flat_args\u001b[49m\u001b[43m,\u001b[49m\u001b[43m \u001b[49m\u001b[43mcaptured_inputs\u001b[49m\u001b[38;5;241;43m=\u001b[39;49m\u001b[43mconcrete_function\u001b[49m\u001b[38;5;241;43m.\u001b[39;49m\u001b[43mcaptured_inputs\u001b[49m\u001b[43m)\u001b[49m\n",
      "File \u001b[1;32m~\\AppData\\Roaming\\Python\\Python310\\site-packages\\tensorflow\\python\\eager\\polymorphic_function\\monomorphic_function.py:1745\u001b[0m, in \u001b[0;36mConcreteFunction._call_flat\u001b[1;34m(self, args, captured_inputs, cancellation_manager)\u001b[0m\n\u001b[0;32m   1741\u001b[0m possible_gradient_type \u001b[38;5;241m=\u001b[39m gradients_util\u001b[38;5;241m.\u001b[39mPossibleTapeGradientTypes(args)\n\u001b[0;32m   1742\u001b[0m \u001b[38;5;28;01mif\u001b[39;00m (possible_gradient_type \u001b[38;5;241m==\u001b[39m gradients_util\u001b[38;5;241m.\u001b[39mPOSSIBLE_GRADIENT_TYPES_NONE\n\u001b[0;32m   1743\u001b[0m     \u001b[38;5;129;01mand\u001b[39;00m executing_eagerly):\n\u001b[0;32m   1744\u001b[0m   \u001b[38;5;66;03m# No tape is watching; skip to running the function.\u001b[39;00m\n\u001b[1;32m-> 1745\u001b[0m   \u001b[38;5;28;01mreturn\u001b[39;00m \u001b[38;5;28mself\u001b[39m\u001b[38;5;241m.\u001b[39m_build_call_outputs(\u001b[38;5;28;43mself\u001b[39;49m\u001b[38;5;241;43m.\u001b[39;49m\u001b[43m_inference_function\u001b[49m\u001b[38;5;241;43m.\u001b[39;49m\u001b[43mcall\u001b[49m\u001b[43m(\u001b[49m\n\u001b[0;32m   1746\u001b[0m \u001b[43m      \u001b[49m\u001b[43mctx\u001b[49m\u001b[43m,\u001b[49m\u001b[43m \u001b[49m\u001b[43margs\u001b[49m\u001b[43m,\u001b[49m\u001b[43m \u001b[49m\u001b[43mcancellation_manager\u001b[49m\u001b[38;5;241;43m=\u001b[39;49m\u001b[43mcancellation_manager\u001b[49m\u001b[43m)\u001b[49m)\n\u001b[0;32m   1747\u001b[0m forward_backward \u001b[38;5;241m=\u001b[39m \u001b[38;5;28mself\u001b[39m\u001b[38;5;241m.\u001b[39m_select_forward_and_backward_functions(\n\u001b[0;32m   1748\u001b[0m     args,\n\u001b[0;32m   1749\u001b[0m     possible_gradient_type,\n\u001b[0;32m   1750\u001b[0m     executing_eagerly)\n\u001b[0;32m   1751\u001b[0m forward_function, args_with_tangents \u001b[38;5;241m=\u001b[39m forward_backward\u001b[38;5;241m.\u001b[39mforward()\n",
      "File \u001b[1;32m~\\AppData\\Roaming\\Python\\Python310\\site-packages\\tensorflow\\python\\eager\\polymorphic_function\\monomorphic_function.py:378\u001b[0m, in \u001b[0;36m_EagerDefinedFunction.call\u001b[1;34m(self, ctx, args, cancellation_manager)\u001b[0m\n\u001b[0;32m    376\u001b[0m \u001b[38;5;28;01mwith\u001b[39;00m _InterpolateFunctionError(\u001b[38;5;28mself\u001b[39m):\n\u001b[0;32m    377\u001b[0m   \u001b[38;5;28;01mif\u001b[39;00m cancellation_manager \u001b[38;5;129;01mis\u001b[39;00m \u001b[38;5;28;01mNone\u001b[39;00m:\n\u001b[1;32m--> 378\u001b[0m     outputs \u001b[38;5;241m=\u001b[39m \u001b[43mexecute\u001b[49m\u001b[38;5;241;43m.\u001b[39;49m\u001b[43mexecute\u001b[49m\u001b[43m(\u001b[49m\n\u001b[0;32m    379\u001b[0m \u001b[43m        \u001b[49m\u001b[38;5;28;43mstr\u001b[39;49m\u001b[43m(\u001b[49m\u001b[38;5;28;43mself\u001b[39;49m\u001b[38;5;241;43m.\u001b[39;49m\u001b[43msignature\u001b[49m\u001b[38;5;241;43m.\u001b[39;49m\u001b[43mname\u001b[49m\u001b[43m)\u001b[49m\u001b[43m,\u001b[49m\n\u001b[0;32m    380\u001b[0m \u001b[43m        \u001b[49m\u001b[43mnum_outputs\u001b[49m\u001b[38;5;241;43m=\u001b[39;49m\u001b[38;5;28;43mself\u001b[39;49m\u001b[38;5;241;43m.\u001b[39;49m\u001b[43m_num_outputs\u001b[49m\u001b[43m,\u001b[49m\n\u001b[0;32m    381\u001b[0m \u001b[43m        \u001b[49m\u001b[43minputs\u001b[49m\u001b[38;5;241;43m=\u001b[39;49m\u001b[43margs\u001b[49m\u001b[43m,\u001b[49m\n\u001b[0;32m    382\u001b[0m \u001b[43m        \u001b[49m\u001b[43mattrs\u001b[49m\u001b[38;5;241;43m=\u001b[39;49m\u001b[43mattrs\u001b[49m\u001b[43m,\u001b[49m\n\u001b[0;32m    383\u001b[0m \u001b[43m        \u001b[49m\u001b[43mctx\u001b[49m\u001b[38;5;241;43m=\u001b[39;49m\u001b[43mctx\u001b[49m\u001b[43m)\u001b[49m\n\u001b[0;32m    384\u001b[0m   \u001b[38;5;28;01melse\u001b[39;00m:\n\u001b[0;32m    385\u001b[0m     outputs \u001b[38;5;241m=\u001b[39m execute\u001b[38;5;241m.\u001b[39mexecute_with_cancellation(\n\u001b[0;32m    386\u001b[0m         \u001b[38;5;28mstr\u001b[39m(\u001b[38;5;28mself\u001b[39m\u001b[38;5;241m.\u001b[39msignature\u001b[38;5;241m.\u001b[39mname),\n\u001b[0;32m    387\u001b[0m         num_outputs\u001b[38;5;241m=\u001b[39m\u001b[38;5;28mself\u001b[39m\u001b[38;5;241m.\u001b[39m_num_outputs,\n\u001b[1;32m   (...)\u001b[0m\n\u001b[0;32m    390\u001b[0m         ctx\u001b[38;5;241m=\u001b[39mctx,\n\u001b[0;32m    391\u001b[0m         cancellation_manager\u001b[38;5;241m=\u001b[39mcancellation_manager)\n",
      "File \u001b[1;32m~\\AppData\\Roaming\\Python\\Python310\\site-packages\\tensorflow\\python\\eager\\execute.py:52\u001b[0m, in \u001b[0;36mquick_execute\u001b[1;34m(op_name, num_outputs, inputs, attrs, ctx, name)\u001b[0m\n\u001b[0;32m     50\u001b[0m \u001b[38;5;28;01mtry\u001b[39;00m:\n\u001b[0;32m     51\u001b[0m   ctx\u001b[38;5;241m.\u001b[39mensure_initialized()\n\u001b[1;32m---> 52\u001b[0m   tensors \u001b[38;5;241m=\u001b[39m \u001b[43mpywrap_tfe\u001b[49m\u001b[38;5;241;43m.\u001b[39;49m\u001b[43mTFE_Py_Execute\u001b[49m\u001b[43m(\u001b[49m\u001b[43mctx\u001b[49m\u001b[38;5;241;43m.\u001b[39;49m\u001b[43m_handle\u001b[49m\u001b[43m,\u001b[49m\u001b[43m \u001b[49m\u001b[43mdevice_name\u001b[49m\u001b[43m,\u001b[49m\u001b[43m \u001b[49m\u001b[43mop_name\u001b[49m\u001b[43m,\u001b[49m\n\u001b[0;32m     53\u001b[0m \u001b[43m                                      \u001b[49m\u001b[43minputs\u001b[49m\u001b[43m,\u001b[49m\u001b[43m \u001b[49m\u001b[43mattrs\u001b[49m\u001b[43m,\u001b[49m\u001b[43m \u001b[49m\u001b[43mnum_outputs\u001b[49m\u001b[43m)\u001b[49m\n\u001b[0;32m     54\u001b[0m \u001b[38;5;28;01mexcept\u001b[39;00m core\u001b[38;5;241m.\u001b[39m_NotOkStatusException \u001b[38;5;28;01mas\u001b[39;00m e:\n\u001b[0;32m     55\u001b[0m   \u001b[38;5;28;01mif\u001b[39;00m name \u001b[38;5;129;01mis\u001b[39;00m \u001b[38;5;129;01mnot\u001b[39;00m \u001b[38;5;28;01mNone\u001b[39;00m:\n",
      "\u001b[1;31mKeyboardInterrupt\u001b[0m: "
     ]
    }
   ],
   "source": [
    "model.fit(x_train, y_train, epochs=1000) # run this line when data collection is done (this will train the model)"
   ]
  },
  {
   "cell_type": "code",
   "execution_count": 6,
   "id": "98aba25b",
   "metadata": {},
   "outputs": [
    {
     "ename": "NameError",
     "evalue": "name 'model' is not defined",
     "output_type": "error",
     "traceback": [
      "\u001b[1;31m---------------------------------------------------------------------------\u001b[0m",
      "\u001b[1;31mNameError\u001b[0m                                 Traceback (most recent call last)",
      "Input \u001b[1;32mIn [6]\u001b[0m, in \u001b[0;36m<cell line: 1>\u001b[1;34m()\u001b[0m\n\u001b[1;32m----> 1\u001b[0m \u001b[38;5;28;01mdel\u001b[39;00m model\n",
      "\u001b[1;31mNameError\u001b[0m: name 'model' is not defined"
     ]
    }
   ],
   "source": [
    "del model"
   ]
  },
  {
   "cell_type": "code",
   "execution_count": 15,
   "id": "79bcc95d",
   "metadata": {},
   "outputs": [
    {
     "name": "stdout",
     "output_type": "stream",
     "text": [
      "Model: \"sequential\"\n",
      "_________________________________________________________________\n",
      " Layer (type)                Output Shape              Param #   \n",
      "=================================================================\n",
      " lstm (LSTM)                 (None, 30, 64)            408320    \n",
      "                                                                 \n",
      " lstm_1 (LSTM)               (None, 30, 128)           98816     \n",
      "                                                                 \n",
      " lstm_2 (LSTM)               (None, 30, 64)            49408     \n",
      "                                                                 \n",
      " flatten (Flatten)           (None, 1920)              0         \n",
      "                                                                 \n",
      " dense (Dense)               (None, 32)                61472     \n",
      "                                                                 \n",
      " dense_1 (Dense)             (None, 64)                2112      \n",
      "                                                                 \n",
      " dense_2 (Dense)             (None, 12)                780       \n",
      "                                                                 \n",
      "=================================================================\n",
      "Total params: 620,908\n",
      "Trainable params: 620,908\n",
      "Non-trainable params: 0\n",
      "_________________________________________________________________\n"
     ]
    }
   ],
   "source": [
    "model.summary() # summary of our model"
   ]
  },
  {
   "cell_type": "code",
   "execution_count": 10,
   "id": "b47b615f",
   "metadata": {},
   "outputs": [
    {
     "name": "stdout",
     "output_type": "stream",
     "text": [
      "2/2 [==============================] - 0s 12ms/step\n"
     ]
    }
   ],
   "source": [
    "res = model.predict(x_test)"
   ]
  },
  {
   "cell_type": "code",
   "execution_count": 12,
   "id": "aa8ba65f",
   "metadata": {},
   "outputs": [
    {
     "name": "stdout",
     "output_type": "stream",
     "text": [
      "True\n",
      "True\n",
      "True\n",
      "True\n",
      "True\n",
      "True\n",
      "True\n",
      "True\n",
      "True\n",
      "True\n",
      "True\n",
      "True\n",
      "True\n",
      "True\n",
      "True\n",
      "True\n",
      "True\n",
      "True\n",
      "True\n",
      "True\n",
      "True\n",
      "True\n",
      "True\n",
      "True\n",
      "True\n",
      "True\n",
      "True\n",
      "True\n",
      "True\n",
      "True\n",
      "True\n",
      "True\n",
      "True\n",
      "True\n",
      "True\n",
      "True\n",
      "True\n",
      "True\n",
      "True\n",
      "True\n",
      "True\n",
      "True\n",
      "True\n",
      "True\n",
      "True\n",
      "True\n",
      "True\n",
      "True\n",
      "True\n",
      "False\n"
     ]
    }
   ],
   "source": [
    "for x in range(50):\n",
    "    print(signs[np.argmax(y_test[x])] == signs[np.argmax(res[x])])"
   ]
  },
  {
   "cell_type": "code",
   "execution_count": 13,
   "id": "ec45da87",
   "metadata": {},
   "outputs": [
    {
     "name": "stdout",
     "output_type": "stream",
     "text": [
      "98.0\n"
     ]
    }
   ],
   "source": [
    "print(49/50 * 100)"
   ]
  },
  {
   "cell_type": "code",
   "execution_count": 14,
   "id": "d0752724",
   "metadata": {},
   "outputs": [
    {
     "data": {
      "text/plain": [
       "'wait'"
      ]
     },
     "execution_count": 14,
     "metadata": {},
     "output_type": "execute_result"
    }
   ],
   "source": [
    "signs[np.argmax(res[0])]"
   ]
  },
  {
   "cell_type": "code",
   "execution_count": 15,
   "id": "306195ee",
   "metadata": {},
   "outputs": [
    {
     "data": {
      "text/plain": [
       "'wait'"
      ]
     },
     "execution_count": 15,
     "metadata": {},
     "output_type": "execute_result"
    }
   ],
   "source": [
    "signs[np.argmax(y_test[0])]"
   ]
  },
  {
   "cell_type": "markdown",
   "id": "408b575f",
   "metadata": {},
   "source": [
    "# save weights\n"
   ]
  },
  {
   "cell_type": "code",
   "execution_count": 16,
   "id": "0ce4cb0b",
   "metadata": {},
   "outputs": [],
   "source": [
    "model.save(\"Model.h5\") # save model"
   ]
  },
  {
   "cell_type": "code",
   "execution_count": 17,
   "id": "ec652bf7",
   "metadata": {},
   "outputs": [
    {
     "name": "stderr",
     "output_type": "stream",
     "text": [
      "WARNING:absl:Found untraced functions such as _update_step_xla while saving (showing 1 of 1). These functions will not be directly callable after loading.\n"
     ]
    },
    {
     "name": "stdout",
     "output_type": "stream",
     "text": [
      "INFO:tensorflow:Assets written to: C:\\Users\\Baron\\AppData\\Local\\Temp\\tmpqpwt_rbw\\assets\n"
     ]
    },
    {
     "name": "stderr",
     "output_type": "stream",
     "text": [
      "INFO:tensorflow:Assets written to: C:\\Users\\Baron\\AppData\\Local\\Temp\\tmpqpwt_rbw\\assets\n"
     ]
    },
    {
     "data": {
      "text/plain": [
       "746504"
      ]
     },
     "execution_count": 17,
     "metadata": {},
     "output_type": "execute_result"
    }
   ],
   "source": [
    "model = tf.keras.models.load_model(\"./Model.h5\")\n",
    "converter = tf.lite.TFLiteConverter.from_keras_model(model)\n",
    "converter.optimizations = [tf.lite.Optimize.DEFAULT]\n",
    "converter.target_spec.supported_ops = [\n",
    "  tf.lite.OpsSet.TFLITE_BUILTINS, # enable TensorFlow Lite ops.\n",
    "  tf.lite.OpsSet.SELECT_TF_OPS # enable TensorFlow ops.\n",
    "]\n",
    "tflite = converter.convert()\n",
    "\n",
    "open(\"./Model.tflite\", \"wb\").write(tflite)"
   ]
  },
  {
   "cell_type": "code",
   "execution_count": 38,
   "id": "0d8ff773",
   "metadata": {},
   "outputs": [
    {
     "ename": "ValueError",
     "evalue": "Cannot set tensor: Got value of type FLOAT64 but expected type FLOAT32 for input 0, name: serving_default_lstm_9_input:0 ",
     "output_type": "error",
     "traceback": [
      "\u001b[1;31m---------------------------------------------------------------------------\u001b[0m",
      "\u001b[1;31mValueError\u001b[0m                                Traceback (most recent call last)",
      "Cell \u001b[1;32mIn [38], line 6\u001b[0m\n\u001b[0;32m      3\u001b[0m inp \u001b[38;5;241m=\u001b[39m interpreter\u001b[38;5;241m.\u001b[39mget_input_details()\n\u001b[0;32m      4\u001b[0m out \u001b[38;5;241m=\u001b[39m interpreter\u001b[38;5;241m.\u001b[39mget_output_details()\n\u001b[1;32m----> 6\u001b[0m \u001b[43minterpreter\u001b[49m\u001b[38;5;241;43m.\u001b[39;49m\u001b[43mset_tensor\u001b[49m\u001b[43m(\u001b[49m\u001b[43minp\u001b[49m\u001b[43m[\u001b[49m\u001b[38;5;241;43m0\u001b[39;49m\u001b[43m]\u001b[49m\u001b[43m[\u001b[49m\u001b[38;5;124;43m\"\u001b[39;49m\u001b[38;5;124;43mindex\u001b[39;49m\u001b[38;5;124;43m\"\u001b[39;49m\u001b[43m]\u001b[49m\u001b[43m,\u001b[49m\u001b[43m \u001b[49m\u001b[43mnp\u001b[49m\u001b[38;5;241;43m.\u001b[39;49m\u001b[43mexpand_dims\u001b[49m\u001b[43m(\u001b[49m\u001b[43msequences\u001b[49m\u001b[43m,\u001b[49m\u001b[43maxis\u001b[49m\u001b[38;5;241;43m=\u001b[39;49m\u001b[38;5;241;43m0\u001b[39;49m\u001b[43m)\u001b[49m\u001b[43m)\u001b[49m\n\u001b[0;32m      7\u001b[0m interpreter\u001b[38;5;241m.\u001b[39minvoke()\n\u001b[0;32m      9\u001b[0m                 \u001b[38;5;66;03m#for i in sequence[-30:]:\u001b[39;00m\n",
      "File \u001b[1;32m~\\AppData\\Local\\Programs\\Python\\Python310\\lib\\site-packages\\tensorflow\\lite\\python\\interpreter.py:697\u001b[0m, in \u001b[0;36mInterpreter.set_tensor\u001b[1;34m(self, tensor_index, value)\u001b[0m\n\u001b[0;32m    681\u001b[0m \u001b[38;5;28;01mdef\u001b[39;00m \u001b[38;5;21mset_tensor\u001b[39m(\u001b[38;5;28mself\u001b[39m, tensor_index, value):\n\u001b[0;32m    682\u001b[0m   \u001b[38;5;124;03m\"\"\"Sets the value of the input tensor.\u001b[39;00m\n\u001b[0;32m    683\u001b[0m \n\u001b[0;32m    684\u001b[0m \u001b[38;5;124;03m  Note this copies data in `value`.\u001b[39;00m\n\u001b[1;32m   (...)\u001b[0m\n\u001b[0;32m    695\u001b[0m \u001b[38;5;124;03m    ValueError: If the interpreter could not set the tensor.\u001b[39;00m\n\u001b[0;32m    696\u001b[0m \u001b[38;5;124;03m  \"\"\"\u001b[39;00m\n\u001b[1;32m--> 697\u001b[0m   \u001b[38;5;28;43mself\u001b[39;49m\u001b[38;5;241;43m.\u001b[39;49m\u001b[43m_interpreter\u001b[49m\u001b[38;5;241;43m.\u001b[39;49m\u001b[43mSetTensor\u001b[49m\u001b[43m(\u001b[49m\u001b[43mtensor_index\u001b[49m\u001b[43m,\u001b[49m\u001b[43m \u001b[49m\u001b[43mvalue\u001b[49m\u001b[43m)\u001b[49m\n",
      "\u001b[1;31mValueError\u001b[0m: Cannot set tensor: Got value of type FLOAT64 but expected type FLOAT32 for input 0, name: serving_default_lstm_9_input:0 "
     ]
    }
   ],
   "source": [
    "interpreter = tf.lite.Interpreter(\"LiteML.tflite\")\n",
    "\n",
    "inp = interpreter.get_input_details()\n",
    "out = interpreter.get_output_details()\n",
    "\n",
    "interpreter.set_tensor(inp[0][\"index\"], np.expand_dims(sequences,axis=0))\n",
    "interpreter.invoke()\n",
    "                \n",
    "                #for i in sequence[-30:]:\n",
    "output_data = interpreter.get_tensor(out[0][\"index\"])\n",
    "                \n",
    "highest = np.argmax(output_data)\n",
    "word = VM.get_key(signs, highest)\n",
    "print(output_data.shape)\n",
    "print(word)\n"
   ]
  },
  {
   "cell_type": "code",
   "execution_count": null,
   "id": "539cd0be",
   "metadata": {},
   "outputs": [],
   "source": []
  }
 ],
 "metadata": {
  "kernelspec": {
   "display_name": "Python 3 (ipykernel)",
   "language": "python",
   "name": "python3"
  },
  "language_info": {
   "codemirror_mode": {
    "name": "ipython",
    "version": 3
   },
   "file_extension": ".py",
   "mimetype": "text/x-python",
   "name": "python",
   "nbconvert_exporter": "python",
   "pygments_lexer": "ipython3",
   "version": "3.10.9"
  }
 },
 "nbformat": 4,
 "nbformat_minor": 5
}
