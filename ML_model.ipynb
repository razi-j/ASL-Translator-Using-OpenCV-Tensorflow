{
 "cells": [
  {
   "cell_type": "code",
   "execution_count": 5,
   "id": "1fb650f8",
   "metadata": {},
   "outputs": [],
   "source": [
    "from sklearn.model_selection import train_test_split\n",
    "import tensorflow as tf\n",
    "from tensorflow.keras.utils import to_categorical\n",
    "from tensorflow.keras.models import Sequential\n",
    "from tensorflow.keras.layers import LSTM, Dense, Flatten\n",
    "from functions import VM\n",
    "import os\n",
    "import numpy as np"
   ]
  },
  {
   "cell_type": "markdown",
   "id": "4835d852",
   "metadata": {},
   "source": [
    "# Take the sign names in our collections data"
   ]
  },
  {
   "cell_type": "code",
   "execution_count": 11,
   "id": "de5110e8",
   "metadata": {},
   "outputs": [],
   "source": [
    "signs = sorted(os.listdir(\"./Data/\")) # take all the signs used in data collection\n",
    "sign_id = {label: num for num, label in enumerate(signs)} # assign a value for each sign (each sign is assign to its index)"
   ]
  },
  {
   "cell_type": "code",
   "execution_count": 12,
   "id": "95ac6ae9",
   "metadata": {},
   "outputs": [
    {
     "data": {
      "text/plain": [
       "'hi'"
      ]
     },
     "execution_count": 12,
     "metadata": {},
     "output_type": "execute_result"
    }
   ],
   "source": [
    "signs[2]"
   ]
  },
  {
   "cell_type": "code",
   "execution_count": 13,
   "id": "ea4b6064",
   "metadata": {},
   "outputs": [
    {
     "data": {
      "text/plain": [
       "1"
      ]
     },
     "execution_count": 13,
     "metadata": {},
     "output_type": "execute_result"
    }
   ],
   "source": [
    "sign_id['hello']"
   ]
  },
  {
   "cell_type": "markdown",
   "id": "0a87222e",
   "metadata": {},
   "source": [
    "# Create the our x and y data\n"
   ]
  },
  {
   "cell_type": "code",
   "execution_count": 14,
   "id": "521243ad",
   "metadata": {},
   "outputs": [],
   "source": [
    "sequences, labels = [], [] # sequences represents our x data while labels represents our y data\n",
    "# create a loop that creates our x and y data\n",
    "for sign in signs:\n",
    "    for sequence in range(VM.seq):\n",
    "        window = []\n",
    "        for frames in range(VM.seq_lenght):\n",
    "            res = np.load(os.path.join(VM.DATA_PATH, sign, str(sequence), f\"{frames}.npy\"))\n",
    "            window.append(res)\n",
    "        sequences.append(window)\n",
    "        labels.append(sign_id[sign])\n",
    "        \n",
    "# store our x and y data to a numpy array\n",
    "x_data = np.array(sequences) \n",
    "y_data = to_categorical(labels).astype(int) \n",
    "\n",
    "# setup our training and testing partition\n",
    "x_train, x_test, y_train, y_test = train_test_split(x_data, y_data, test_size=0.05)"
   ]
  },
  {
   "cell_type": "markdown",
   "id": "f34079f0",
   "metadata": {},
   "source": [
    "# Build and train the model\n"
   ]
  },
  {
   "cell_type": "code",
   "execution_count": 20,
   "id": "59013a91",
   "metadata": {},
   "outputs": [],
   "source": [
    "# build the model\n",
    "model = Sequential()\n",
    "model.add(LSTM(64, return_sequences=\"True\", activation=\"relu\", input_shape=(30,1662)))\n",
    "model.add(LSTM(128, return_sequences=\"True\", activation=\"relu\"))\n",
    "model.add(LSTM(64, return_sequences=\"False\", activation=\"relu\"))\n",
    "model.add(Flatten(input_shape=(x_train.shape[1:])))\n",
    "model.add(Dense(32, activation=\"relu\"))\n",
    "model.add(Dense(64, activation=\"relu\"))\n",
    "model.add(Dense(np.array(signs).shape[0], activation=\"softmax\"))"
   ]
  },
  {
   "cell_type": "code",
   "execution_count": 21,
   "id": "88417beb",
   "metadata": {},
   "outputs": [],
   "source": [
    "model.compile(optimizer=\"Adam\", loss=\"categorical_crossentropy\", metrics=[\"categorical_accuracy\"]) # compiler "
   ]
  },
  {
   "cell_type": "code",
   "execution_count": 22,
   "id": "2f8c73a0",
   "metadata": {},
   "outputs": [
    {
     "name": "stdout",
     "output_type": "stream",
     "text": [
      "Epoch 1/80\n",
      "9/9 [==============================] - 3s 50ms/step - loss: 2.1557 - categorical_accuracy: 0.1789\n",
      "Epoch 2/80\n",
      "9/9 [==============================] - 0s 52ms/step - loss: 1.9500 - categorical_accuracy: 0.1649\n",
      "Epoch 3/80\n",
      "9/9 [==============================] - 0s 51ms/step - loss: 1.9187 - categorical_accuracy: 0.1193\n",
      "Epoch 4/80\n",
      "9/9 [==============================] - 0s 52ms/step - loss: 1.7630 - categorical_accuracy: 0.1860\n",
      "Epoch 5/80\n",
      "9/9 [==============================] - 0s 52ms/step - loss: 1.7430 - categorical_accuracy: 0.1895\n",
      "Epoch 6/80\n",
      "9/9 [==============================] - 0s 55ms/step - loss: 1.7967 - categorical_accuracy: 0.1614\n",
      "Epoch 7/80\n",
      "9/9 [==============================] - 1s 56ms/step - loss: 1.7911 - categorical_accuracy: 0.2667\n",
      "Epoch 8/80\n",
      "9/9 [==============================] - 0s 53ms/step - loss: 1.7884 - categorical_accuracy: 0.1895\n",
      "Epoch 9/80\n",
      "9/9 [==============================] - 0s 53ms/step - loss: 1.7835 - categorical_accuracy: 0.2526\n",
      "Epoch 10/80\n",
      "9/9 [==============================] - 1s 56ms/step - loss: 1.7759 - categorical_accuracy: 0.2842\n",
      "Epoch 11/80\n",
      "9/9 [==============================] - 0s 54ms/step - loss: 1.7547 - categorical_accuracy: 0.3509\n",
      "Epoch 12/80\n",
      "9/9 [==============================] - 0s 54ms/step - loss: 1.7765 - categorical_accuracy: 0.3018\n",
      "Epoch 13/80\n",
      "9/9 [==============================] - 0s 52ms/step - loss: 1.8982 - categorical_accuracy: 0.1719\n",
      "Epoch 14/80\n",
      "9/9 [==============================] - 0s 53ms/step - loss: 1.6684 - categorical_accuracy: 0.1789\n",
      "Epoch 15/80\n",
      "9/9 [==============================] - 0s 51ms/step - loss: 1.5726 - categorical_accuracy: 0.3193\n",
      "Epoch 16/80\n",
      "9/9 [==============================] - 0s 51ms/step - loss: 1.4974 - categorical_accuracy: 0.3088\n",
      "Epoch 17/80\n",
      "9/9 [==============================] - 0s 51ms/step - loss: 1.5380 - categorical_accuracy: 0.2877\n",
      "Epoch 18/80\n",
      "9/9 [==============================] - 0s 52ms/step - loss: 1.3675 - categorical_accuracy: 0.3018\n",
      "Epoch 19/80\n",
      "9/9 [==============================] - 0s 51ms/step - loss: 1.2349 - categorical_accuracy: 0.3333\n",
      "Epoch 20/80\n",
      "9/9 [==============================] - 0s 52ms/step - loss: 1.1196 - categorical_accuracy: 0.4877\n",
      "Epoch 21/80\n",
      "9/9 [==============================] - 0s 52ms/step - loss: 1.0942 - categorical_accuracy: 0.4982\n",
      "Epoch 22/80\n",
      "9/9 [==============================] - 0s 52ms/step - loss: 1.1322 - categorical_accuracy: 0.4772\n",
      "Epoch 23/80\n",
      "9/9 [==============================] - 0s 53ms/step - loss: 1.0968 - categorical_accuracy: 0.4632\n",
      "Epoch 24/80\n",
      "9/9 [==============================] - 0s 54ms/step - loss: 1.2931 - categorical_accuracy: 0.4070\n",
      "Epoch 25/80\n",
      "9/9 [==============================] - 0s 55ms/step - loss: 1.1518 - categorical_accuracy: 0.3930\n",
      "Epoch 26/80\n",
      "9/9 [==============================] - 0s 53ms/step - loss: 1.0650 - categorical_accuracy: 0.5965\n",
      "Epoch 27/80\n",
      "9/9 [==============================] - 0s 52ms/step - loss: 0.9342 - categorical_accuracy: 0.6456\n",
      "Epoch 28/80\n",
      "9/9 [==============================] - 0s 53ms/step - loss: 1.0641 - categorical_accuracy: 0.5123\n",
      "Epoch 29/80\n",
      "9/9 [==============================] - 0s 54ms/step - loss: 0.9170 - categorical_accuracy: 0.6000\n",
      "Epoch 30/80\n",
      "9/9 [==============================] - 0s 53ms/step - loss: 0.7664 - categorical_accuracy: 0.6632\n",
      "Epoch 31/80\n",
      "9/9 [==============================] - 0s 53ms/step - loss: 0.9499 - categorical_accuracy: 0.5544\n",
      "Epoch 32/80\n",
      "9/9 [==============================] - 0s 53ms/step - loss: 0.8089 - categorical_accuracy: 0.6281\n",
      "Epoch 33/80\n",
      "9/9 [==============================] - 0s 53ms/step - loss: 0.6934 - categorical_accuracy: 0.7754\n",
      "Epoch 34/80\n",
      "9/9 [==============================] - 0s 52ms/step - loss: 0.6136 - categorical_accuracy: 0.7263\n",
      "Epoch 35/80\n",
      "9/9 [==============================] - 0s 53ms/step - loss: 0.6698 - categorical_accuracy: 0.7333\n",
      "Epoch 36/80\n",
      "9/9 [==============================] - 0s 51ms/step - loss: 0.8477 - categorical_accuracy: 0.6105\n",
      "Epoch 37/80\n",
      "9/9 [==============================] - 0s 52ms/step - loss: 0.7820 - categorical_accuracy: 0.6982\n",
      "Epoch 38/80\n",
      "9/9 [==============================] - 0s 54ms/step - loss: 0.6287 - categorical_accuracy: 0.7333\n",
      "Epoch 39/80\n",
      "9/9 [==============================] - 0s 52ms/step - loss: 0.5227 - categorical_accuracy: 0.7825\n",
      "Epoch 40/80\n",
      "9/9 [==============================] - 0s 52ms/step - loss: 0.4919 - categorical_accuracy: 0.8070\n",
      "Epoch 41/80\n",
      "9/9 [==============================] - 0s 52ms/step - loss: 0.4889 - categorical_accuracy: 0.7930\n",
      "Epoch 42/80\n",
      "9/9 [==============================] - 0s 53ms/step - loss: 0.4380 - categorical_accuracy: 0.8175\n",
      "Epoch 43/80\n",
      "9/9 [==============================] - 0s 52ms/step - loss: 0.4945 - categorical_accuracy: 0.7895\n",
      "Epoch 44/80\n",
      "9/9 [==============================] - 0s 53ms/step - loss: 0.5802 - categorical_accuracy: 0.7404\n",
      "Epoch 45/80\n",
      "9/9 [==============================] - 0s 54ms/step - loss: 0.6431 - categorical_accuracy: 0.7333\n",
      "Epoch 46/80\n",
      "9/9 [==============================] - 1s 56ms/step - loss: 0.6045 - categorical_accuracy: 0.7439\n",
      "Epoch 47/80\n",
      "9/9 [==============================] - 0s 53ms/step - loss: 0.5032 - categorical_accuracy: 0.8070\n",
      "Epoch 48/80\n",
      "9/9 [==============================] - 0s 53ms/step - loss: 0.4645 - categorical_accuracy: 0.7930\n",
      "Epoch 49/80\n",
      "9/9 [==============================] - 0s 54ms/step - loss: 0.5081 - categorical_accuracy: 0.7895\n",
      "Epoch 50/80\n",
      "9/9 [==============================] - 0s 53ms/step - loss: 0.6409 - categorical_accuracy: 0.7614\n",
      "Epoch 51/80\n",
      "9/9 [==============================] - 0s 53ms/step - loss: 0.4438 - categorical_accuracy: 0.7930\n",
      "Epoch 52/80\n",
      "9/9 [==============================] - 0s 53ms/step - loss: 0.4593 - categorical_accuracy: 0.8140\n",
      "Epoch 53/80\n",
      "9/9 [==============================] - 0s 52ms/step - loss: 0.6312 - categorical_accuracy: 0.7263\n",
      "Epoch 54/80\n",
      "9/9 [==============================] - 0s 53ms/step - loss: 0.5683 - categorical_accuracy: 0.7474\n",
      "Epoch 55/80\n",
      "9/9 [==============================] - 0s 53ms/step - loss: 0.5243 - categorical_accuracy: 0.7474\n",
      "Epoch 56/80\n",
      "9/9 [==============================] - 0s 56ms/step - loss: 0.4201 - categorical_accuracy: 0.8070\n",
      "Epoch 57/80\n",
      "9/9 [==============================] - 0s 55ms/step - loss: 0.4002 - categorical_accuracy: 0.8070\n",
      "Epoch 58/80\n",
      "9/9 [==============================] - 0s 55ms/step - loss: 0.3402 - categorical_accuracy: 0.8632\n",
      "Epoch 59/80\n",
      "9/9 [==============================] - 0s 54ms/step - loss: 0.4117 - categorical_accuracy: 0.8140\n",
      "Epoch 60/80\n",
      "9/9 [==============================] - 1s 57ms/step - loss: 0.5519 - categorical_accuracy: 0.7719\n",
      "Epoch 61/80\n",
      "9/9 [==============================] - 0s 55ms/step - loss: 0.5341 - categorical_accuracy: 0.7719\n",
      "Epoch 62/80\n",
      "9/9 [==============================] - 0s 54ms/step - loss: 0.4111 - categorical_accuracy: 0.8351\n",
      "Epoch 63/80\n",
      "9/9 [==============================] - 0s 52ms/step - loss: 0.4381 - categorical_accuracy: 0.7965\n",
      "Epoch 64/80\n",
      "9/9 [==============================] - 0s 53ms/step - loss: 0.3690 - categorical_accuracy: 0.8246\n",
      "Epoch 65/80\n",
      "9/9 [==============================] - 0s 52ms/step - loss: 0.3470 - categorical_accuracy: 0.8211\n",
      "Epoch 66/80\n",
      "9/9 [==============================] - 1s 56ms/step - loss: 0.3120 - categorical_accuracy: 0.8667\n",
      "Epoch 67/80\n",
      "9/9 [==============================] - 1s 55ms/step - loss: 0.3019 - categorical_accuracy: 0.8561\n",
      "Epoch 68/80\n",
      "9/9 [==============================] - 0s 54ms/step - loss: 0.3109 - categorical_accuracy: 0.8632\n",
      "Epoch 69/80\n",
      "9/9 [==============================] - 0s 52ms/step - loss: 0.2866 - categorical_accuracy: 0.8667\n",
      "Epoch 70/80\n",
      "9/9 [==============================] - 0s 54ms/step - loss: 0.4869 - categorical_accuracy: 0.7965\n",
      "Epoch 71/80\n",
      "9/9 [==============================] - 0s 53ms/step - loss: 0.4161 - categorical_accuracy: 0.8316\n",
      "Epoch 72/80\n",
      "9/9 [==============================] - 0s 53ms/step - loss: 0.4479 - categorical_accuracy: 0.8175\n",
      "Epoch 73/80\n",
      "9/9 [==============================] - 0s 52ms/step - loss: 0.3460 - categorical_accuracy: 0.8561\n",
      "Epoch 74/80\n",
      "9/9 [==============================] - 0s 52ms/step - loss: 0.3041 - categorical_accuracy: 0.8772\n",
      "Epoch 75/80\n"
     ]
    },
    {
     "name": "stdout",
     "output_type": "stream",
     "text": [
      "9/9 [==============================] - 0s 52ms/step - loss: 0.2709 - categorical_accuracy: 0.8737\n",
      "Epoch 76/80\n",
      "9/9 [==============================] - 0s 53ms/step - loss: 0.2810 - categorical_accuracy: 0.8737\n",
      "Epoch 77/80\n",
      "9/9 [==============================] - 0s 54ms/step - loss: 0.2442 - categorical_accuracy: 0.8912\n",
      "Epoch 78/80\n",
      "9/9 [==============================] - 0s 53ms/step - loss: 0.2785 - categorical_accuracy: 0.8737\n",
      "Epoch 79/80\n",
      "9/9 [==============================] - 0s 52ms/step - loss: 0.2885 - categorical_accuracy: 0.8702\n",
      "Epoch 80/80\n",
      "9/9 [==============================] - 0s 51ms/step - loss: 0.2407 - categorical_accuracy: 0.9018\n"
     ]
    },
    {
     "data": {
      "text/plain": [
       "<keras.callbacks.History at 0x18e64f610f0>"
      ]
     },
     "execution_count": 22,
     "metadata": {},
     "output_type": "execute_result"
    }
   ],
   "source": [
    "model.fit(x_train, y_train, epochs=80) # run this line when data collection is done (this will train the model)\n",
    "# we can start the number of epochs to be equal to 175 to avoid over training and add afterwards if needed"
   ]
  },
  {
   "cell_type": "code",
   "execution_count": 19,
   "id": "98aba25b",
   "metadata": {},
   "outputs": [],
   "source": [
    "del model"
   ]
  },
  {
   "cell_type": "code",
   "execution_count": 30,
   "id": "79bcc95d",
   "metadata": {},
   "outputs": [
    {
     "name": "stdout",
     "output_type": "stream",
     "text": [
      "Model: \"sequential_3\"\n",
      "_________________________________________________________________\n",
      " Layer (type)                Output Shape              Param #   \n",
      "=================================================================\n",
      " lstm_9 (LSTM)               (None, 30, 64)            442112    \n",
      "                                                                 \n",
      " lstm_10 (LSTM)              (None, 30, 128)           98816     \n",
      "                                                                 \n",
      " lstm_11 (LSTM)              (None, 30, 64)            49408     \n",
      "                                                                 \n",
      " flatten_3 (Flatten)         (None, 1920)              0         \n",
      "                                                                 \n",
      " dense_9 (Dense)             (None, 32)                61472     \n",
      "                                                                 \n",
      " dense_10 (Dense)            (None, 64)                2112      \n",
      "                                                                 \n",
      " dense_11 (Dense)            (None, 13)                845       \n",
      "                                                                 \n",
      "=================================================================\n",
      "Total params: 654,765\n",
      "Trainable params: 654,765\n",
      "Non-trainable params: 0\n",
      "_________________________________________________________________\n"
     ]
    }
   ],
   "source": [
    "model.summary() # summary of our model"
   ]
  },
  {
   "cell_type": "code",
   "execution_count": 23,
   "id": "b47b615f",
   "metadata": {},
   "outputs": [
    {
     "name": "stdout",
     "output_type": "stream",
     "text": [
      "1/1 [==============================] - 0s 400ms/step\n"
     ]
    }
   ],
   "source": [
    "res = model.predict(x_test)"
   ]
  },
  {
   "cell_type": "code",
   "execution_count": 36,
   "id": "d0752724",
   "metadata": {},
   "outputs": [
    {
     "data": {
      "text/plain": [
       "'hi'"
      ]
     },
     "execution_count": 36,
     "metadata": {},
     "output_type": "execute_result"
    }
   ],
   "source": [
    "signs[np.argmax(res[5])]"
   ]
  },
  {
   "cell_type": "code",
   "execution_count": 35,
   "id": "306195ee",
   "metadata": {},
   "outputs": [
    {
     "data": {
      "text/plain": [
       "'hi'"
      ]
     },
     "execution_count": 35,
     "metadata": {},
     "output_type": "execute_result"
    }
   ],
   "source": [
    "signs[np.argmax(y_test[5])]"
   ]
  },
  {
   "cell_type": "markdown",
   "id": "408b575f",
   "metadata": {},
   "source": [
    "# save weights\n"
   ]
  },
  {
   "cell_type": "code",
   "execution_count": 26,
   "id": "0ce4cb0b",
   "metadata": {},
   "outputs": [],
   "source": [
    "model.save(\"VertoMotus_MLmodel4.h5\") # save model"
   ]
  },
  {
   "cell_type": "code",
   "execution_count": 89,
   "id": "d6ce1cde",
   "metadata": {},
   "outputs": [
    {
     "name": "stdout",
     "output_type": "stream",
     "text": [
      "INFO:tensorflow:Assets written to: VertoMotus_MLmodel(2.0- 97).model\\assets\n"
     ]
    }
   ],
   "source": [
    "model.save('VertoMotus_MLmodel(2.0- 97).model')"
   ]
  },
  {
   "cell_type": "code",
   "execution_count": 39,
   "id": "ec652bf7",
   "metadata": {},
   "outputs": [
    {
     "name": "stdout",
     "output_type": "stream",
     "text": [
      "INFO:tensorflow:Assets written to: C:\\Users\\Baron\\AppData\\Local\\Temp\\tmp5yvfyjt3\\assets\n"
     ]
    },
    {
     "name": "stderr",
     "output_type": "stream",
     "text": [
      "INFO:tensorflow:Assets written to: C:\\Users\\Baron\\AppData\\Local\\Temp\\tmp5yvfyjt3\\assets\n"
     ]
    },
    {
     "data": {
      "text/plain": [
       "685288"
      ]
     },
     "execution_count": 39,
     "metadata": {},
     "output_type": "execute_result"
    }
   ],
   "source": [
    "model = tf.keras.models.load_model(\"./VertoMotus_MLmodel4.h5\")\n",
    "converter = tf.lite.TFLiteConverter.from_keras_model(model)\n",
    "converter.optimizations = [tf.lite.Optimize.DEFAULT]\n",
    "converter.target_spec.supported_ops = [\n",
    "  tf.lite.OpsSet.TFLITE_BUILTINS, # enable TensorFlow Lite ops.\n",
    "  tf.lite.OpsSet.SELECT_TF_OPS # enable TensorFlow ops.\n",
    "]\n",
    "tflite = converter.convert()\n",
    "\n",
    "open(\"./LiteML3.tflite\", \"wb\").write(tflite)"
   ]
  },
  {
   "cell_type": "code",
   "execution_count": 38,
   "id": "0d8ff773",
   "metadata": {},
   "outputs": [
    {
     "ename": "ValueError",
     "evalue": "Cannot set tensor: Got value of type FLOAT64 but expected type FLOAT32 for input 0, name: serving_default_lstm_9_input:0 ",
     "output_type": "error",
     "traceback": [
      "\u001b[1;31m---------------------------------------------------------------------------\u001b[0m",
      "\u001b[1;31mValueError\u001b[0m                                Traceback (most recent call last)",
      "Cell \u001b[1;32mIn [38], line 6\u001b[0m\n\u001b[0;32m      3\u001b[0m inp \u001b[38;5;241m=\u001b[39m interpreter\u001b[38;5;241m.\u001b[39mget_input_details()\n\u001b[0;32m      4\u001b[0m out \u001b[38;5;241m=\u001b[39m interpreter\u001b[38;5;241m.\u001b[39mget_output_details()\n\u001b[1;32m----> 6\u001b[0m \u001b[43minterpreter\u001b[49m\u001b[38;5;241;43m.\u001b[39;49m\u001b[43mset_tensor\u001b[49m\u001b[43m(\u001b[49m\u001b[43minp\u001b[49m\u001b[43m[\u001b[49m\u001b[38;5;241;43m0\u001b[39;49m\u001b[43m]\u001b[49m\u001b[43m[\u001b[49m\u001b[38;5;124;43m\"\u001b[39;49m\u001b[38;5;124;43mindex\u001b[39;49m\u001b[38;5;124;43m\"\u001b[39;49m\u001b[43m]\u001b[49m\u001b[43m,\u001b[49m\u001b[43m \u001b[49m\u001b[43mnp\u001b[49m\u001b[38;5;241;43m.\u001b[39;49m\u001b[43mexpand_dims\u001b[49m\u001b[43m(\u001b[49m\u001b[43msequences\u001b[49m\u001b[43m,\u001b[49m\u001b[43maxis\u001b[49m\u001b[38;5;241;43m=\u001b[39;49m\u001b[38;5;241;43m0\u001b[39;49m\u001b[43m)\u001b[49m\u001b[43m)\u001b[49m\n\u001b[0;32m      7\u001b[0m interpreter\u001b[38;5;241m.\u001b[39minvoke()\n\u001b[0;32m      9\u001b[0m                 \u001b[38;5;66;03m#for i in sequence[-30:]:\u001b[39;00m\n",
      "File \u001b[1;32m~\\AppData\\Local\\Programs\\Python\\Python310\\lib\\site-packages\\tensorflow\\lite\\python\\interpreter.py:697\u001b[0m, in \u001b[0;36mInterpreter.set_tensor\u001b[1;34m(self, tensor_index, value)\u001b[0m\n\u001b[0;32m    681\u001b[0m \u001b[38;5;28;01mdef\u001b[39;00m \u001b[38;5;21mset_tensor\u001b[39m(\u001b[38;5;28mself\u001b[39m, tensor_index, value):\n\u001b[0;32m    682\u001b[0m   \u001b[38;5;124;03m\"\"\"Sets the value of the input tensor.\u001b[39;00m\n\u001b[0;32m    683\u001b[0m \n\u001b[0;32m    684\u001b[0m \u001b[38;5;124;03m  Note this copies data in `value`.\u001b[39;00m\n\u001b[1;32m   (...)\u001b[0m\n\u001b[0;32m    695\u001b[0m \u001b[38;5;124;03m    ValueError: If the interpreter could not set the tensor.\u001b[39;00m\n\u001b[0;32m    696\u001b[0m \u001b[38;5;124;03m  \"\"\"\u001b[39;00m\n\u001b[1;32m--> 697\u001b[0m   \u001b[38;5;28;43mself\u001b[39;49m\u001b[38;5;241;43m.\u001b[39;49m\u001b[43m_interpreter\u001b[49m\u001b[38;5;241;43m.\u001b[39;49m\u001b[43mSetTensor\u001b[49m\u001b[43m(\u001b[49m\u001b[43mtensor_index\u001b[49m\u001b[43m,\u001b[49m\u001b[43m \u001b[49m\u001b[43mvalue\u001b[49m\u001b[43m)\u001b[49m\n",
      "\u001b[1;31mValueError\u001b[0m: Cannot set tensor: Got value of type FLOAT64 but expected type FLOAT32 for input 0, name: serving_default_lstm_9_input:0 "
     ]
    }
   ],
   "source": [
    "interpreter = tf.lite.Interpreter(\"LiteML.tflite\")\n",
    "\n",
    "inp = interpreter.get_input_details()\n",
    "out = interpreter.get_output_details()\n",
    "\n",
    "interpreter.set_tensor(inp[0][\"index\"], np.expand_dims(sequences,axis=0))\n",
    "interpreter.invoke()\n",
    "                \n",
    "                #for i in sequence[-30:]:\n",
    "output_data = interpreter.get_tensor(out[0][\"index\"])\n",
    "                \n",
    "highest = np.argmax(output_data)\n",
    "word = VM.get_key(signs, highest)\n",
    "print(output_data.shape)\n",
    "print(word)\n"
   ]
  },
  {
   "cell_type": "code",
   "execution_count": null,
   "id": "539cd0be",
   "metadata": {},
   "outputs": [],
   "source": []
  }
 ],
 "metadata": {
  "kernelspec": {
   "display_name": "Python 3 (ipykernel)",
   "language": "python",
   "name": "python3"
  },
  "language_info": {
   "codemirror_mode": {
    "name": "ipython",
    "version": 3
   },
   "file_extension": ".py",
   "mimetype": "text/x-python",
   "name": "python",
   "nbconvert_exporter": "python",
   "pygments_lexer": "ipython3",
   "version": "3.10.7"
  }
 },
 "nbformat": 4,
 "nbformat_minor": 5
}
