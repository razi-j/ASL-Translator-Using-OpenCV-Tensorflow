{
 "cells": [
  {
   "cell_type": "code",
   "execution_count": 3,
   "id": "1fb650f8",
   "metadata": {},
   "outputs": [],
   "source": [
    "from sklearn.model_selection import train_test_split\n",
    "from tensorflow.keras.utils import to_categorical\n",
    "from tensorflow.keras.models import Sequential\n",
    "from tensorflow.keras.layers import LSTM, Dense\n",
    "from functions import VM\n",
    "import os\n",
    "import numpy as np"
   ]
  },
  {
   "cell_type": "markdown",
   "id": "4835d852",
   "metadata": {},
   "source": [
    "# Take the sign names in our collections data"
   ]
  },
  {
   "cell_type": "code",
   "execution_count": 4,
   "id": "de5110e8",
   "metadata": {},
   "outputs": [],
   "source": [
    "signs = os.listdir(\"Model_data\") # take all the signs used in data collection\n",
    "sign_id = {label: num for num, label in enumerate(signs)} # assign a value for each sign (each sign is assign to its index)"
   ]
  },
  {
   "cell_type": "markdown",
   "id": "0a87222e",
   "metadata": {},
   "source": [
    "# Create the our x and y data\n"
   ]
  },
  {
   "cell_type": "code",
   "execution_count": 5,
   "id": "521243ad",
   "metadata": {},
   "outputs": [],
   "source": [
    "sequences, labels = [], [] # sequences represents our x data while labels represents our y data\n",
    "# create a loop that creates our x and y data\n",
    "for sign in signs:\n",
    "    for sequence in range(VM.seq):\n",
    "        window = []\n",
    "        for frames in range(VM.seq_lenght):\n",
    "            res = np.load(os.path.join(VM.DATA_PATH, sign, str(sequence), f\"{frames}.npy\"))\n",
    "            window.append(res)\n",
    "        sequences.append(window)\n",
    "        labels.append(sign_id[sign])\n",
    "        \n",
    "# store our x and y data to a numpy array\n",
    "x_data = np.array(sequences) \n",
    "y_data = to_categorical(labels).astype(int) \n",
    "\n",
    "# setup our training and testing partition\n",
    "x_train, x_test, y_train, y_test = train_test_split(x_data, y_data, test_size=0.05)"
   ]
  },
  {
   "cell_type": "markdown",
   "id": "f34079f0",
   "metadata": {},
   "source": [
    "# Build and train the model\n"
   ]
  },
  {
   "cell_type": "code",
   "execution_count": 6,
   "id": "59013a91",
   "metadata": {},
   "outputs": [],
   "source": [
    "# build the model\n",
    "model = Sequential()\n",
    "model.add(LSTM(64, return_sequences=\"True\", activation=\"relu\", input_shape=(30,1662)))\n",
    "model.add(LSTM(128, return_sequences=\"True\", activation=\"relu\"))\n",
    "model.add(LSTM(64, return_sequences=\"False\", activation=\"relu\"))\n",
    "model.add(Dense(32, activation=\"relu\"))\n",
    "model.add(Dense(64, activation=\"relu\"))\n",
    "model.add(Dense(np.array(signs).shape[0], activation=\"softmax\"))"
   ]
  },
  {
   "cell_type": "code",
   "execution_count": 7,
   "id": "88417beb",
   "metadata": {},
   "outputs": [],
   "source": [
    "model.compile(optimizer=\"Adam\", loss=\"categorical_crossentropy\", metrics=[\"categorical_accuracy\"]) # compiler "
   ]
  },
  {
   "cell_type": "code",
   "execution_count": null,
   "id": "2f8c73a0",
   "metadata": {},
   "outputs": [],
   "source": [
    "model.fit(x_train, y_train, epochs=175) # run this line when data collection is done (this will train the model)\n",
    "# we can start the number of epochs to be equal to 175 to avoid over training and add afterwards if needed"
   ]
  },
  {
   "cell_type": "code",
   "execution_count": null,
   "id": "0ce4cb0b",
   "metadata": {},
   "outputs": [],
   "source": [
    "model.save(\"VertoMotus_MLmodel\") # save model"
   ]
  }
 ],
 "metadata": {
  "kernelspec": {
   "display_name": "Python 3 (ipykernel)",
   "language": "python",
   "name": "python3"
  },
  "language_info": {
   "codemirror_mode": {
    "name": "ipython",
    "version": 3
   },
   "file_extension": ".py",
   "mimetype": "text/x-python",
   "name": "python",
   "nbconvert_exporter": "python",
   "pygments_lexer": "ipython3",
   "version": "3.10.4"
  }
 },
 "nbformat": 4,
 "nbformat_minor": 5
}
