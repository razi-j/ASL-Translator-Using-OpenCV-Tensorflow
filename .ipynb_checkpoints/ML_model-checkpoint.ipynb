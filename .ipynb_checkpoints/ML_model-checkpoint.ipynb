{
 "cells": [
  {
   "cell_type": "code",
   "execution_count": 2,
   "id": "1fb650f8",
   "metadata": {},
   "outputs": [
    {
     "name": "stderr",
     "output_type": "stream",
     "text": [
      "2022-10-23 21:58:53.788865: I tensorflow/core/platform/cpu_feature_guard.cc:193] This TensorFlow binary is optimized with oneAPI Deep Neural Network Library (oneDNN) to use the following CPU instructions in performance-critical operations:  AVX2 AVX512F AVX512_VNNI FMA\n",
      "To enable them in other operations, rebuild TensorFlow with the appropriate compiler flags.\n",
      "2022-10-23 21:58:54.110317: I tensorflow/core/util/util.cc:169] oneDNN custom operations are on. You may see slightly different numerical results due to floating-point round-off errors from different computation orders. To turn them off, set the environment variable `TF_ENABLE_ONEDNN_OPTS=0`.\n",
      "2022-10-23 21:58:54.117651: W tensorflow/stream_executor/platform/default/dso_loader.cc:64] Could not load dynamic library 'libcudart.so.11.0'; dlerror: libcudart.so.11.0: cannot open shared object file: No such file or directory\n",
      "2022-10-23 21:58:54.117673: I tensorflow/stream_executor/cuda/cudart_stub.cc:29] Ignore above cudart dlerror if you do not have a GPU set up on your machine.\n",
      "2022-10-23 21:58:54.158504: E tensorflow/stream_executor/cuda/cuda_blas.cc:2981] Unable to register cuBLAS factory: Attempting to register factory for plugin cuBLAS when one has already been registered\n",
      "2022-10-23 21:58:55.599528: W tensorflow/stream_executor/platform/default/dso_loader.cc:64] Could not load dynamic library 'libnvinfer.so.7'; dlerror: libnvinfer.so.7: cannot open shared object file: No such file or directory\n",
      "2022-10-23 21:58:55.599621: W tensorflow/stream_executor/platform/default/dso_loader.cc:64] Could not load dynamic library 'libnvinfer_plugin.so.7'; dlerror: libnvinfer_plugin.so.7: cannot open shared object file: No such file or directory\n",
      "2022-10-23 21:58:55.599630: W tensorflow/compiler/tf2tensorrt/utils/py_utils.cc:38] TF-TRT Warning: Cannot dlopen some TensorRT libraries. If you would like to use Nvidia GPU with TensorRT, please make sure the missing libraries mentioned above are installed properly.\n"
     ]
    }
   ],
   "source": [
    "from sklearn.model_selection import train_test_split\n",
    "from tensorflow.keras.utils import to_categorical\n",
    "from tensorflow.keras.models import Sequential\n",
    "from tensorflow.keras.layers import LSTM, Dense, Flatten\n",
    "from functions import VM\n",
    "import os\n",
    "import numpy as np"
   ]
  },
  {
   "cell_type": "markdown",
   "id": "4835d852",
   "metadata": {},
   "source": [
    "# Take the sign names in our collections data"
   ]
  },
  {
   "cell_type": "code",
   "execution_count": 3,
   "id": "de5110e8",
   "metadata": {},
   "outputs": [],
   "source": [
    "signs = os.listdir(\"./Model_Data/\") # take all the signs used in data collection\n",
    "sign_id = {label: num for num, label in enumerate(signs)} # assign a value for each sign (each sign is assign to its index)"
   ]
  },
  {
   "cell_type": "markdown",
   "id": "0a87222e",
   "metadata": {},
   "source": [
    "# Create the our x and y data\n"
   ]
  },
  {
   "cell_type": "code",
   "execution_count": 4,
   "id": "521243ad",
   "metadata": {},
   "outputs": [],
   "source": [
    "sequences, labels = [], [] # sequences represents our x data while labels represents our y data\n",
    "# create a loop that creates our x and y data\n",
    "for sign in signs:\n",
    "    for sequence in range(VM.seq):\n",
    "        window = []\n",
    "        for frames in range(VM.seq_lenght):\n",
    "            res = np.load(os.path.join(VM.DATA_PATH, sign, str(sequence), f\"{frames}.npy\"))\n",
    "            window.append(res)\n",
    "        sequences.append(window)\n",
    "        labels.append(sign_id[sign])\n",
    "        \n",
    "# store our x and y data to a numpy array\n",
    "x_data = np.array(sequences) \n",
    "y_data = to_categorical(labels).astype(int) \n",
    "\n",
    "# setup our training and testing partition\n",
    "x_train, x_test, y_train, y_test = train_test_split(x_data, y_data, test_size=0.05)"
   ]
  },
  {
   "cell_type": "markdown",
   "id": "f34079f0",
   "metadata": {},
   "source": [
    "# Build and train the model\n"
   ]
  },
  {
   "cell_type": "code",
   "execution_count": null,
   "id": "59013a91",
   "metadata": {},
   "outputs": [],
   "source": [
    "# build the model\n",
    "model = Sequential()\n",
    "model.add(LSTM(64, return_sequences=\"True\", activation=\"relu\", input_shape=(30,1662)))\n",
    "model.add(LSTM(128, return_sequences=\"True\", activation=\"relu\"))\n",
    "model.add(LSTM(64, return_sequences=\"False\", activation=\"relu\"))\n",
    "model.add(Flatten(input_shape=(x_train.shape[1:])))\n",
    "model.add(Dense(32, activation=\"relu\"))\n",
    "model.add(Dense(64, activation=\"relu\"))\n",
    "model.add(Dense(np.array(signs).shape[0], activation=\"softmax\"))"
   ]
  },
  {
   "cell_type": "code",
   "execution_count": null,
   "id": "88417beb",
   "metadata": {},
   "outputs": [],
   "source": [
    "model.compile(optimizer=\"Adam\", loss=\"categorical_crossentropy\", metrics=[\"categorical_accuracy\"]) # compiler "
   ]
  },
  {
   "cell_type": "code",
   "execution_count": 55,
   "id": "2f8c73a0",
   "metadata": {},
   "outputs": [
    {
     "name": "stdout",
     "output_type": "stream",
     "text": [
      "Epoch 1/95\n",
      "12/12 [==============================] - 3s 50ms/step - loss: 2.5917 - categorical_accuracy: 0.0703\n",
      "Epoch 2/95\n",
      "12/12 [==============================] - 1s 46ms/step - loss: 2.6422 - categorical_accuracy: 0.0649\n",
      "Epoch 3/95\n",
      "12/12 [==============================] - 1s 47ms/step - loss: 2.5565 - categorical_accuracy: 0.1351\n",
      "Epoch 4/95\n",
      "12/12 [==============================] - 1s 46ms/step - loss: 2.5056 - categorical_accuracy: 0.1162\n",
      "Epoch 5/95\n",
      "12/12 [==============================] - 1s 46ms/step - loss: 2.3433 - categorical_accuracy: 0.1541\n",
      "Epoch 6/95\n",
      "12/12 [==============================] - 1s 47ms/step - loss: 2.1971 - categorical_accuracy: 0.1865\n",
      "Epoch 7/95\n",
      "12/12 [==============================] - 1s 47ms/step - loss: 2.0218 - categorical_accuracy: 0.2189\n",
      "Epoch 8/95\n",
      "12/12 [==============================] - 1s 47ms/step - loss: 1.9687 - categorical_accuracy: 0.2811\n",
      "Epoch 9/95\n",
      "12/12 [==============================] - 1s 46ms/step - loss: 1.7905 - categorical_accuracy: 0.3405\n",
      "Epoch 10/95\n",
      "12/12 [==============================] - 1s 46ms/step - loss: 1.6490 - categorical_accuracy: 0.3595\n",
      "Epoch 11/95\n",
      "12/12 [==============================] - 1s 46ms/step - loss: 2.0290 - categorical_accuracy: 0.3162\n",
      "Epoch 12/95\n",
      "12/12 [==============================] - 1s 45ms/step - loss: 1.9747 - categorical_accuracy: 0.2865\n",
      "Epoch 13/95\n",
      "12/12 [==============================] - 1s 46ms/step - loss: 1.5205 - categorical_accuracy: 0.4216\n",
      "Epoch 14/95\n",
      "12/12 [==============================] - 1s 45ms/step - loss: 1.3017 - categorical_accuracy: 0.5216\n",
      "Epoch 15/95\n",
      "12/12 [==============================] - 1s 46ms/step - loss: 1.3070 - categorical_accuracy: 0.5595\n",
      "Epoch 16/95\n",
      "12/12 [==============================] - 1s 46ms/step - loss: 2.8027 - categorical_accuracy: 0.4243\n",
      "Epoch 17/95\n",
      "12/12 [==============================] - 1s 47ms/step - loss: 2.4058 - categorical_accuracy: 0.2081\n",
      "Epoch 18/95\n",
      "12/12 [==============================] - 1s 47ms/step - loss: 2.5485 - categorical_accuracy: 0.1324\n",
      "Epoch 19/95\n",
      "12/12 [==============================] - 1s 47ms/step - loss: 2.6741 - categorical_accuracy: 0.1405\n",
      "Epoch 20/95\n",
      "12/12 [==============================] - 1s 47ms/step - loss: 2.5037 - categorical_accuracy: 0.1108\n",
      "Epoch 21/95\n",
      "12/12 [==============================] - 1s 46ms/step - loss: 2.3613 - categorical_accuracy: 0.1243\n",
      "Epoch 22/95\n",
      "12/12 [==============================] - 1s 46ms/step - loss: 2.1660 - categorical_accuracy: 0.1946\n",
      "Epoch 23/95\n",
      "12/12 [==============================] - 1s 46ms/step - loss: 2.4058 - categorical_accuracy: 0.1459\n",
      "Epoch 24/95\n",
      "12/12 [==============================] - 1s 46ms/step - loss: 2.1535 - categorical_accuracy: 0.2324\n",
      "Epoch 25/95\n",
      "12/12 [==============================] - 1s 46ms/step - loss: 2.0409 - categorical_accuracy: 0.2757\n",
      "Epoch 26/95\n",
      "12/12 [==============================] - 1s 47ms/step - loss: 1.8321 - categorical_accuracy: 0.3378\n",
      "Epoch 27/95\n",
      "12/12 [==============================] - 1s 46ms/step - loss: 1.5097 - categorical_accuracy: 0.4405\n",
      "Epoch 28/95\n",
      "12/12 [==============================] - 1s 46ms/step - loss: 1.4428 - categorical_accuracy: 0.4784\n",
      "Epoch 29/95\n",
      "12/12 [==============================] - 1s 46ms/step - loss: 1.3629 - categorical_accuracy: 0.4946\n",
      "Epoch 30/95\n",
      "12/12 [==============================] - 1s 46ms/step - loss: 1.5770 - categorical_accuracy: 0.4027\n",
      "Epoch 31/95\n",
      "12/12 [==============================] - 1s 46ms/step - loss: 1.4326 - categorical_accuracy: 0.4432\n",
      "Epoch 32/95\n",
      "12/12 [==============================] - 1s 46ms/step - loss: 1.1500 - categorical_accuracy: 0.5649\n",
      "Epoch 33/95\n",
      "12/12 [==============================] - 1s 49ms/step - loss: 1.0076 - categorical_accuracy: 0.6351\n",
      "Epoch 34/95\n",
      "12/12 [==============================] - 1s 47ms/step - loss: 0.8818 - categorical_accuracy: 0.6838\n",
      "Epoch 35/95\n",
      "12/12 [==============================] - 1s 46ms/step - loss: 0.9669 - categorical_accuracy: 0.6486\n",
      "Epoch 36/95\n",
      "12/12 [==============================] - 1s 47ms/step - loss: 0.9285 - categorical_accuracy: 0.6432\n",
      "Epoch 37/95\n",
      "12/12 [==============================] - 1s 46ms/step - loss: 0.7337 - categorical_accuracy: 0.7270\n",
      "Epoch 38/95\n",
      "12/12 [==============================] - 1s 47ms/step - loss: 0.6587 - categorical_accuracy: 0.7622\n",
      "Epoch 39/95\n",
      "12/12 [==============================] - 1s 46ms/step - loss: 0.8162 - categorical_accuracy: 0.7189\n",
      "Epoch 40/95\n",
      "12/12 [==============================] - 1s 47ms/step - loss: 0.6695 - categorical_accuracy: 0.7730\n",
      "Epoch 41/95\n",
      "12/12 [==============================] - 1s 46ms/step - loss: 0.5874 - categorical_accuracy: 0.7811\n",
      "Epoch 42/95\n",
      "12/12 [==============================] - 1s 46ms/step - loss: 0.6177 - categorical_accuracy: 0.7486\n",
      "Epoch 43/95\n",
      "12/12 [==============================] - 1s 46ms/step - loss: 0.4677 - categorical_accuracy: 0.8378\n",
      "Epoch 44/95\n",
      "12/12 [==============================] - 1s 46ms/step - loss: 0.4570 - categorical_accuracy: 0.8568\n",
      "Epoch 45/95\n",
      "12/12 [==============================] - 1s 46ms/step - loss: 0.3563 - categorical_accuracy: 0.8730\n",
      "Epoch 46/95\n",
      "12/12 [==============================] - 1s 47ms/step - loss: 0.4822 - categorical_accuracy: 0.8162\n",
      "Epoch 47/95\n",
      "12/12 [==============================] - 1s 47ms/step - loss: 0.5706 - categorical_accuracy: 0.8000\n",
      "Epoch 48/95\n",
      "12/12 [==============================] - 1s 46ms/step - loss: 0.4060 - categorical_accuracy: 0.8568\n",
      "Epoch 49/95\n",
      "12/12 [==============================] - 1s 46ms/step - loss: 0.3731 - categorical_accuracy: 0.8757\n",
      "Epoch 50/95\n",
      "12/12 [==============================] - 1s 46ms/step - loss: 0.3722 - categorical_accuracy: 0.8703\n",
      "Epoch 51/95\n",
      "12/12 [==============================] - 1s 47ms/step - loss: 0.4072 - categorical_accuracy: 0.8297\n",
      "Epoch 52/95\n",
      "12/12 [==============================] - 1s 46ms/step - loss: 0.3986 - categorical_accuracy: 0.8216\n",
      "Epoch 53/95\n",
      "12/12 [==============================] - 1s 49ms/step - loss: 0.2795 - categorical_accuracy: 0.9081\n",
      "Epoch 54/95\n",
      "12/12 [==============================] - 1s 47ms/step - loss: 0.2531 - categorical_accuracy: 0.9135\n",
      "Epoch 55/95\n",
      "12/12 [==============================] - 1s 46ms/step - loss: 0.2507 - categorical_accuracy: 0.9081\n",
      "Epoch 56/95\n",
      "12/12 [==============================] - 1s 48ms/step - loss: 0.1735 - categorical_accuracy: 0.9459\n",
      "Epoch 57/95\n",
      "12/12 [==============================] - 1s 48ms/step - loss: 0.1731 - categorical_accuracy: 0.9405\n",
      "Epoch 58/95\n",
      "12/12 [==============================] - 1s 47ms/step - loss: 0.4597 - categorical_accuracy: 0.8568\n",
      "Epoch 59/95\n",
      "12/12 [==============================] - 1s 46ms/step - loss: 0.3437 - categorical_accuracy: 0.8784\n",
      "Epoch 60/95\n",
      "12/12 [==============================] - 1s 46ms/step - loss: 0.2396 - categorical_accuracy: 0.9081\n",
      "Epoch 61/95\n",
      "12/12 [==============================] - 1s 47ms/step - loss: 0.2056 - categorical_accuracy: 0.9378\n",
      "Epoch 62/95\n",
      "12/12 [==============================] - 1s 47ms/step - loss: 0.3186 - categorical_accuracy: 0.8946\n",
      "Epoch 63/95\n",
      "12/12 [==============================] - 1s 46ms/step - loss: 0.2367 - categorical_accuracy: 0.9297\n",
      "Epoch 64/95\n",
      "12/12 [==============================] - 1s 46ms/step - loss: 0.2379 - categorical_accuracy: 0.9027\n",
      "Epoch 65/95\n",
      "12/12 [==============================] - 1s 47ms/step - loss: 0.2885 - categorical_accuracy: 0.8946\n",
      "Epoch 66/95\n",
      "12/12 [==============================] - 1s 46ms/step - loss: 0.4328 - categorical_accuracy: 0.8622\n",
      "Epoch 67/95\n",
      "12/12 [==============================] - 1s 47ms/step - loss: 0.3637 - categorical_accuracy: 0.8703\n",
      "Epoch 68/95\n",
      "12/12 [==============================] - 1s 46ms/step - loss: 0.2445 - categorical_accuracy: 0.9135\n",
      "Epoch 69/95\n",
      "12/12 [==============================] - 1s 46ms/step - loss: 0.1671 - categorical_accuracy: 0.9514\n",
      "Epoch 70/95\n",
      "12/12 [==============================] - 1s 47ms/step - loss: 0.1153 - categorical_accuracy: 0.9595\n",
      "Epoch 71/95\n",
      "12/12 [==============================] - 1s 46ms/step - loss: 0.1110 - categorical_accuracy: 0.9541\n",
      "Epoch 72/95\n",
      "12/12 [==============================] - 1s 47ms/step - loss: 0.1092 - categorical_accuracy: 0.9514\n",
      "Epoch 73/95\n",
      "12/12 [==============================] - 1s 46ms/step - loss: 0.0953 - categorical_accuracy: 0.9649\n",
      "Epoch 74/95\n",
      "12/12 [==============================] - 1s 46ms/step - loss: 0.1219 - categorical_accuracy: 0.9541\n",
      "Epoch 75/95\n",
      "12/12 [==============================] - 1s 46ms/step - loss: 0.1706 - categorical_accuracy: 0.9405\n",
      "Epoch 76/95\n",
      "12/12 [==============================] - 1s 47ms/step - loss: 0.1257 - categorical_accuracy: 0.9595\n",
      "Epoch 77/95\n",
      "12/12 [==============================] - 1s 46ms/step - loss: 0.0967 - categorical_accuracy: 0.9649\n",
      "Epoch 78/95\n",
      "12/12 [==============================] - 1s 46ms/step - loss: 0.1110 - categorical_accuracy: 0.9541\n",
      "Epoch 79/95\n",
      "12/12 [==============================] - 1s 47ms/step - loss: 0.1469 - categorical_accuracy: 0.9486\n",
      "Epoch 80/95\n",
      "12/12 [==============================] - 1s 46ms/step - loss: 0.1160 - categorical_accuracy: 0.9459\n",
      "Epoch 81/95\n",
      "12/12 [==============================] - 1s 46ms/step - loss: 0.1482 - categorical_accuracy: 0.9459\n",
      "Epoch 82/95\n",
      "12/12 [==============================] - 1s 47ms/step - loss: 0.1329 - categorical_accuracy: 0.9459\n",
      "Epoch 83/95\n",
      "12/12 [==============================] - 1s 47ms/step - loss: 0.1397 - categorical_accuracy: 0.9595\n",
      "Epoch 84/95\n",
      "12/12 [==============================] - 1s 46ms/step - loss: 0.1185 - categorical_accuracy: 0.9595\n",
      "Epoch 85/95\n",
      "12/12 [==============================] - 1s 47ms/step - loss: 0.1127 - categorical_accuracy: 0.9486\n",
      "Epoch 86/95\n",
      "12/12 [==============================] - 1s 47ms/step - loss: 0.1305 - categorical_accuracy: 0.9568\n",
      "Epoch 87/95\n",
      "12/12 [==============================] - 1s 46ms/step - loss: 0.3079 - categorical_accuracy: 0.9027\n",
      "Epoch 88/95\n",
      "12/12 [==============================] - 1s 47ms/step - loss: 0.1692 - categorical_accuracy: 0.9351\n",
      "Epoch 89/95\n",
      "12/12 [==============================] - 1s 46ms/step - loss: 0.0929 - categorical_accuracy: 0.9784\n",
      "Epoch 90/95\n",
      "12/12 [==============================] - 1s 47ms/step - loss: 0.1229 - categorical_accuracy: 0.9568\n",
      "Epoch 91/95\n",
      "12/12 [==============================] - 1s 47ms/step - loss: 0.0940 - categorical_accuracy: 0.9595\n",
      "Epoch 92/95\n",
      "12/12 [==============================] - 1s 47ms/step - loss: 0.0824 - categorical_accuracy: 0.9622\n",
      "Epoch 93/95\n",
      "12/12 [==============================] - 1s 47ms/step - loss: 0.2993 - categorical_accuracy: 0.9595\n",
      "Epoch 94/95\n",
      "12/12 [==============================] - 1s 46ms/step - loss: 1.2156 - categorical_accuracy: 0.8973\n",
      "Epoch 95/95\n",
      "12/12 [==============================] - 1s 47ms/step - loss: 0.9537 - categorical_accuracy: 0.7081\n"
     ]
    },
    {
     "data": {
      "text/plain": [
       "<keras.callbacks.History at 0x1c8fb022560>"
      ]
     },
     "execution_count": 55,
     "metadata": {},
     "output_type": "execute_result"
    }
   ],
   "source": [
    "model.fit(x_train, y_train, epochs=93) # run this line when data collection is done (this will train the model)\n",
    "# we can start the number of epochs to be equal to 175 to avoid over training and add afterwards if needed"
   ]
  },
  {
   "cell_type": "code",
   "execution_count": 56,
   "id": "79bcc95d",
   "metadata": {},
   "outputs": [
    {
     "name": "stdout",
     "output_type": "stream",
     "text": [
      "Model: \"sequential_3\"\n",
      "_________________________________________________________________\n",
      " Layer (type)                Output Shape              Param #   \n",
      "=================================================================\n",
      " lstm_9 (LSTM)               (None, 30, 64)            442112    \n",
      "                                                                 \n",
      " lstm_10 (LSTM)              (None, 30, 128)           98816     \n",
      "                                                                 \n",
      " lstm_11 (LSTM)              (None, 30, 64)            49408     \n",
      "                                                                 \n",
      " flatten_3 (Flatten)         (None, 1920)              0         \n",
      "                                                                 \n",
      " dense_9 (Dense)             (None, 32)                61472     \n",
      "                                                                 \n",
      " dense_10 (Dense)            (None, 64)                2112      \n",
      "                                                                 \n",
      " dense_11 (Dense)            (None, 13)                845       \n",
      "                                                                 \n",
      "=================================================================\n",
      "Total params: 654,765\n",
      "Trainable params: 654,765\n",
      "Non-trainable params: 0\n",
      "_________________________________________________________________\n"
     ]
    }
   ],
   "source": [
    "model.summary() # summary of our model"
   ]
  },
  {
   "cell_type": "code",
   "execution_count": 57,
   "id": "b47b615f",
   "metadata": {},
   "outputs": [
    {
     "name": "stdout",
     "output_type": "stream",
     "text": [
      "1/1 [==============================] - 0s 353ms/step\n"
     ]
    }
   ],
   "source": [
    "res = model.predict(x_test)"
   ]
  },
  {
   "cell_type": "code",
   "execution_count": 76,
   "id": "d0752724",
   "metadata": {},
   "outputs": [
    {
     "data": {
      "text/plain": [
       "'how are you'"
      ]
     },
     "execution_count": 76,
     "metadata": {},
     "output_type": "execute_result"
    }
   ],
   "source": [
    "signs[np.argmax(res[10])]"
   ]
  },
  {
   "cell_type": "code",
   "execution_count": 75,
   "id": "306195ee",
   "metadata": {},
   "outputs": [
    {
     "data": {
      "text/plain": [
       "'how are you'"
      ]
     },
     "execution_count": 75,
     "metadata": {},
     "output_type": "execute_result"
    }
   ],
   "source": [
    "signs[np.argmax(y_test[10])]"
   ]
  },
  {
   "cell_type": "markdown",
   "id": "408b575f",
   "metadata": {},
   "source": [
    "# save weights\n"
   ]
  },
  {
   "cell_type": "code",
   "execution_count": 77,
   "id": "0ce4cb0b",
   "metadata": {},
   "outputs": [],
   "source": [
    "model.save(\"VertoMotus_MLmodel.h5\") # save model"
   ]
  }
 ],
 "metadata": {
  "kernelspec": {
   "display_name": "Python 3 (ipykernel)",
   "language": "python",
   "name": "python3"
  },
  "language_info": {
   "codemirror_mode": {
    "name": "ipython",
    "version": 3
   },
   "file_extension": ".py",
   "mimetype": "text/x-python",
   "name": "python",
   "nbconvert_exporter": "python",
   "pygments_lexer": "ipython3",
   "version": "3.10.8"
  }
 },
 "nbformat": 4,
 "nbformat_minor": 5
}
