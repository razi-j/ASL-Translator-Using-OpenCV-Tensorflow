{
 "cells": [
  {
   "cell_type": "code",
   "execution_count": 24,
   "id": "1fb650f8",
   "metadata": {},
   "outputs": [],
   "source": [
    "from sklearn.model_selection import train_test_split\n",
    "from tensorflow.keras.utils import to_categorical\n",
    "from tensorflow.keras.models import Sequential\n",
    "from tensorflow.keras.layers import LSTM, Dense, Flatten\n",
    "from functions import VM\n",
    "import os\n",
    "import numpy as np"
   ]
  },
  {
   "cell_type": "markdown",
   "id": "4835d852",
   "metadata": {},
   "source": [
    "# Take the sign names in our collections data"
   ]
  },
  {
   "cell_type": "code",
   "execution_count": 25,
   "id": "de5110e8",
   "metadata": {},
   "outputs": [],
   "source": [
    "signs = os.listdir(\"./Model_Data/\") # take all the signs used in data collection\n",
    "sign_id = {label: num for num, label in enumerate(signs)} # assign a value for each sign (each sign is assign to its index)"
   ]
  },
  {
   "cell_type": "markdown",
   "id": "0a87222e",
   "metadata": {},
   "source": [
    "# Create the our x and y data\n"
   ]
  },
  {
   "cell_type": "code",
   "execution_count": 26,
   "id": "521243ad",
   "metadata": {},
   "outputs": [],
   "source": [
    "sequences, labels = [], [] # sequences represents our x data while labels represents our y data\n",
    "# create a loop that creates our x and y data\n",
    "for sign in signs:\n",
    "    for sequence in range(VM.seq):\n",
    "        window = []\n",
    "        for frames in range(VM.seq_lenght):\n",
    "            res = np.load(os.path.join(VM.DATA_PATH, sign, str(sequence), f\"{frames}.npy\"))\n",
    "            window.append(res)\n",
    "        sequences.append(window)\n",
    "        labels.append(sign_id[sign])\n",
    "        \n",
    "# store our x and y data to a numpy array\n",
    "x_data = np.array(sequences) \n",
    "y_data = to_categorical(labels).astype(int) \n",
    "\n",
    "# setup our training and testing partition\n",
    "x_train, x_test, y_train, y_test = train_test_split(x_data, y_data, test_size=0.05)"
   ]
  },
  {
   "cell_type": "markdown",
   "id": "f34079f0",
   "metadata": {},
   "source": [
    "# Build and train the model\n"
   ]
  },
  {
   "cell_type": "code",
   "execution_count": 27,
   "id": "59013a91",
   "metadata": {},
   "outputs": [],
   "source": [
    "# build the model\n",
    "model = Sequential()\n",
    "model.add(LSTM(64, return_sequences=\"True\", activation=\"relu\", input_shape=(30,1662)))\n",
    "model.add(LSTM(128, return_sequences=\"True\", activation=\"relu\"))\n",
    "model.add(LSTM(64, return_sequences=\"False\", activation=\"relu\"))\n",
    "model.add(Flatten(input_shape=(x_train.shape[1:])))\n",
    "model.add(Dense(32, activation=\"relu\"))\n",
    "model.add(Dense(64, activation=\"relu\"))\n",
    "model.add(Dense(np.array(signs).shape[0], activation=\"softmax\"))"
   ]
  },
  {
   "cell_type": "code",
   "execution_count": 28,
   "id": "88417beb",
   "metadata": {},
   "outputs": [],
   "source": [
    "model.compile(optimizer=\"Adam\", loss=\"categorical_crossentropy\", metrics=[\"categorical_accuracy\"]) # compiler "
   ]
  },
  {
   "cell_type": "code",
   "execution_count": 29,
   "id": "2f8c73a0",
   "metadata": {},
   "outputs": [
    {
     "name": "stdout",
     "output_type": "stream",
     "text": [
      "Epoch 1/500\n",
      "12/12 [==============================] - 3s 43ms/step - loss: 2.8079 - categorical_accuracy: 0.0838\n",
      "Epoch 2/500\n",
      "12/12 [==============================] - 1s 43ms/step - loss: 2.6091 - categorical_accuracy: 0.0973\n",
      "Epoch 3/500\n",
      "12/12 [==============================] - 1s 43ms/step - loss: 2.5426 - categorical_accuracy: 0.0865\n",
      "Epoch 4/500\n",
      "12/12 [==============================] - 1s 45ms/step - loss: 2.4760 - categorical_accuracy: 0.1027\n",
      "Epoch 5/500\n",
      "12/12 [==============================] - 1s 45ms/step - loss: 2.4028 - categorical_accuracy: 0.1459\n",
      "Epoch 6/500\n",
      "12/12 [==============================] - 1s 43ms/step - loss: 2.2629 - categorical_accuracy: 0.1946\n",
      "Epoch 7/500\n",
      "12/12 [==============================] - 1s 44ms/step - loss: 2.0927 - categorical_accuracy: 0.2703\n",
      "Epoch 8/500\n",
      "12/12 [==============================] - 1s 45ms/step - loss: 2.4298 - categorical_accuracy: 0.1514\n",
      "Epoch 9/500\n",
      "12/12 [==============================] - 1s 44ms/step - loss: 2.1199 - categorical_accuracy: 0.2135\n",
      "Epoch 10/500\n",
      "12/12 [==============================] - 1s 43ms/step - loss: 1.9554 - categorical_accuracy: 0.2514\n",
      "Epoch 11/500\n",
      "12/12 [==============================] - 1s 45ms/step - loss: 1.7430 - categorical_accuracy: 0.3027\n",
      "Epoch 12/500\n",
      "12/12 [==============================] - 1s 44ms/step - loss: 1.4913 - categorical_accuracy: 0.4405\n",
      "Epoch 13/500\n",
      "12/12 [==============================] - 1s 45ms/step - loss: 1.3836 - categorical_accuracy: 0.4514\n",
      "Epoch 14/500\n",
      "12/12 [==============================] - 1s 44ms/step - loss: 1.5115 - categorical_accuracy: 0.4676\n",
      "Epoch 15/500\n",
      "12/12 [==============================] - 1s 45ms/step - loss: 1.2753 - categorical_accuracy: 0.5000\n",
      "Epoch 16/500\n",
      "12/12 [==============================] - 1s 45ms/step - loss: 1.0791 - categorical_accuracy: 0.6432\n",
      "Epoch 17/500\n",
      "12/12 [==============================] - 1s 44ms/step - loss: 1.0037 - categorical_accuracy: 0.6649\n",
      "Epoch 18/500\n",
      "12/12 [==============================] - 1s 43ms/step - loss: 0.9774 - categorical_accuracy: 0.5865\n",
      "Epoch 19/500\n",
      "12/12 [==============================] - 1s 43ms/step - loss: 0.7336 - categorical_accuracy: 0.7595\n",
      "Epoch 20/500\n",
      "12/12 [==============================] - 1s 44ms/step - loss: 0.8218 - categorical_accuracy: 0.6919\n",
      "Epoch 21/500\n",
      "12/12 [==============================] - 1s 44ms/step - loss: 0.8466 - categorical_accuracy: 0.7135\n",
      "Epoch 22/500\n",
      "12/12 [==============================] - 1s 44ms/step - loss: 0.7908 - categorical_accuracy: 0.7054\n",
      "Epoch 23/500\n",
      "12/12 [==============================] - 1s 44ms/step - loss: 0.6835 - categorical_accuracy: 0.7270\n",
      "Epoch 24/500\n",
      "12/12 [==============================] - 1s 44ms/step - loss: 0.8142 - categorical_accuracy: 0.7486\n",
      "Epoch 25/500\n",
      "12/12 [==============================] - 1s 44ms/step - loss: 0.7205 - categorical_accuracy: 0.8324\n",
      "Epoch 26/500\n",
      "12/12 [==============================] - 1s 43ms/step - loss: 0.3859 - categorical_accuracy: 0.8730\n",
      "Epoch 27/500\n",
      "12/12 [==============================] - 1s 44ms/step - loss: 0.6335 - categorical_accuracy: 0.7703\n",
      "Epoch 28/500\n",
      "12/12 [==============================] - 1s 44ms/step - loss: 0.4049 - categorical_accuracy: 0.8405\n",
      "Epoch 29/500\n",
      "12/12 [==============================] - 1s 45ms/step - loss: 0.3525 - categorical_accuracy: 0.8703\n",
      "Epoch 30/500\n",
      "12/12 [==============================] - 1s 43ms/step - loss: 0.3360 - categorical_accuracy: 0.8730\n",
      "Epoch 31/500\n",
      "12/12 [==============================] - 1s 44ms/step - loss: 0.2239 - categorical_accuracy: 0.9216\n",
      "Epoch 32/500\n",
      "12/12 [==============================] - 1s 45ms/step - loss: 0.4079 - categorical_accuracy: 0.8486\n",
      "Epoch 33/500\n",
      "12/12 [==============================] - 1s 44ms/step - loss: 0.3644 - categorical_accuracy: 0.8703\n",
      "Epoch 34/500\n",
      "12/12 [==============================] - 1s 44ms/step - loss: 0.3421 - categorical_accuracy: 0.8811\n",
      "Epoch 35/500\n",
      "12/12 [==============================] - 1s 43ms/step - loss: 0.2676 - categorical_accuracy: 0.8946\n",
      "Epoch 36/500\n",
      "12/12 [==============================] - 1s 44ms/step - loss: 0.1477 - categorical_accuracy: 0.9568\n",
      "Epoch 37/500\n",
      "12/12 [==============================] - 1s 43ms/step - loss: 0.1520 - categorical_accuracy: 0.9459\n",
      "Epoch 38/500\n",
      "12/12 [==============================] - 1s 43ms/step - loss: 0.1746 - categorical_accuracy: 0.9243\n",
      "Epoch 39/500\n",
      "12/12 [==============================] - 1s 44ms/step - loss: 0.1661 - categorical_accuracy: 0.9324\n",
      "Epoch 40/500\n",
      "12/12 [==============================] - 1s 45ms/step - loss: 0.1180 - categorical_accuracy: 0.9622\n",
      "Epoch 41/500\n",
      "12/12 [==============================] - 1s 44ms/step - loss: 0.1728 - categorical_accuracy: 0.9541\n",
      "Epoch 42/500\n",
      "12/12 [==============================] - 1s 45ms/step - loss: 0.3256 - categorical_accuracy: 0.8919\n",
      "Epoch 43/500\n",
      "12/12 [==============================] - 1s 43ms/step - loss: 0.2785 - categorical_accuracy: 0.8973\n",
      "Epoch 44/500\n",
      "12/12 [==============================] - 1s 43ms/step - loss: 0.2885 - categorical_accuracy: 0.9216\n",
      "Epoch 45/500\n",
      "12/12 [==============================] - 1s 44ms/step - loss: 0.1355 - categorical_accuracy: 0.9568\n",
      "Epoch 46/500\n",
      "12/12 [==============================] - 1s 44ms/step - loss: 0.0990 - categorical_accuracy: 0.9730\n",
      "Epoch 47/500\n",
      "12/12 [==============================] - 1s 45ms/step - loss: 0.1073 - categorical_accuracy: 0.9649\n",
      "Epoch 48/500\n",
      "12/12 [==============================] - 1s 44ms/step - loss: 0.1729 - categorical_accuracy: 0.9378\n",
      "Epoch 49/500\n",
      "12/12 [==============================] - 1s 44ms/step - loss: 0.2297 - categorical_accuracy: 0.9378\n",
      "Epoch 50/500\n",
      "12/12 [==============================] - 1s 44ms/step - loss: 0.3422 - categorical_accuracy: 0.9405\n",
      "Epoch 51/500\n",
      "12/12 [==============================] - 1s 45ms/step - loss: 0.1248 - categorical_accuracy: 0.9676\n",
      "Epoch 52/500\n",
      "12/12 [==============================] - 1s 44ms/step - loss: 0.0827 - categorical_accuracy: 0.9730\n",
      "Epoch 53/500\n",
      "12/12 [==============================] - 1s 43ms/step - loss: 0.1181 - categorical_accuracy: 0.9514\n",
      "Epoch 54/500\n",
      "12/12 [==============================] - 1s 45ms/step - loss: 0.1375 - categorical_accuracy: 0.9486\n",
      "Epoch 55/500\n",
      "12/12 [==============================] - 1s 45ms/step - loss: 0.1037 - categorical_accuracy: 0.9649\n",
      "Epoch 56/500\n",
      "12/12 [==============================] - 1s 44ms/step - loss: 0.0533 - categorical_accuracy: 0.9892\n",
      "Epoch 57/500\n",
      "12/12 [==============================] - 1s 44ms/step - loss: 0.0687 - categorical_accuracy: 0.9811\n",
      "Epoch 58/500\n",
      "12/12 [==============================] - 1s 46ms/step - loss: 0.0709 - categorical_accuracy: 0.9649\n",
      "Epoch 59/500\n",
      "12/12 [==============================] - 1s 45ms/step - loss: 0.1257 - categorical_accuracy: 0.9595\n",
      "Epoch 60/500\n",
      "12/12 [==============================] - 1s 44ms/step - loss: 0.1904 - categorical_accuracy: 0.9405\n",
      "Epoch 61/500\n",
      "12/12 [==============================] - 1s 44ms/step - loss: 0.1889 - categorical_accuracy: 0.9486\n",
      "Epoch 62/500\n",
      "12/12 [==============================] - 1s 44ms/step - loss: 0.1695 - categorical_accuracy: 0.9568\n",
      "Epoch 63/500\n",
      "12/12 [==============================] - 1s 45ms/step - loss: 0.0640 - categorical_accuracy: 0.9811\n",
      "Epoch 64/500\n",
      "12/12 [==============================] - 1s 43ms/step - loss: 0.0546 - categorical_accuracy: 0.9811\n",
      "Epoch 65/500\n",
      "12/12 [==============================] - 1s 45ms/step - loss: 0.0274 - categorical_accuracy: 0.9946\n",
      "Epoch 66/500\n",
      "12/12 [==============================] - 1s 44ms/step - loss: 0.0218 - categorical_accuracy: 0.9973\n",
      "Epoch 67/500\n",
      "12/12 [==============================] - 1s 44ms/step - loss: 0.0233 - categorical_accuracy: 0.9946\n",
      "Epoch 68/500\n",
      "12/12 [==============================] - 1s 44ms/step - loss: 0.0399 - categorical_accuracy: 0.9919\n",
      "Epoch 69/500\n",
      "12/12 [==============================] - 1s 44ms/step - loss: 0.0742 - categorical_accuracy: 0.9757\n",
      "Epoch 70/500\n",
      "12/12 [==============================] - 1s 45ms/step - loss: 0.1160 - categorical_accuracy: 0.9568\n",
      "Epoch 71/500\n",
      "12/12 [==============================] - 1s 43ms/step - loss: 0.3156 - categorical_accuracy: 0.8838\n",
      "Epoch 72/500\n",
      "12/12 [==============================] - 1s 44ms/step - loss: 0.2430 - categorical_accuracy: 0.9270\n",
      "Epoch 73/500\n"
     ]
    },
    {
     "name": "stdout",
     "output_type": "stream",
     "text": [
      "12/12 [==============================] - 1s 44ms/step - loss: 0.1076 - categorical_accuracy: 0.9757\n",
      "Epoch 74/500\n",
      "12/12 [==============================] - 1s 45ms/step - loss: 0.0614 - categorical_accuracy: 0.9811\n",
      "Epoch 75/500\n",
      "12/12 [==============================] - 1s 44ms/step - loss: 0.0207 - categorical_accuracy: 0.9973\n",
      "Epoch 76/500\n",
      "12/12 [==============================] - 1s 43ms/step - loss: 0.0207 - categorical_accuracy: 0.9892\n",
      "Epoch 77/500\n",
      "12/12 [==============================] - 1s 44ms/step - loss: 0.0328 - categorical_accuracy: 0.9919\n",
      "Epoch 78/500\n",
      "12/12 [==============================] - 1s 44ms/step - loss: 0.0307 - categorical_accuracy: 0.9892\n",
      "Epoch 79/500\n",
      "12/12 [==============================] - 1s 44ms/step - loss: 0.0211 - categorical_accuracy: 0.9919\n",
      "Epoch 80/500\n",
      "12/12 [==============================] - 1s 44ms/step - loss: 0.0503 - categorical_accuracy: 0.9838\n",
      "Epoch 81/500\n",
      "12/12 [==============================] - 1s 44ms/step - loss: 0.0248 - categorical_accuracy: 0.9946\n",
      "Epoch 82/500\n",
      "12/12 [==============================] - 1s 45ms/step - loss: 0.0237 - categorical_accuracy: 0.9865\n",
      "Epoch 83/500\n",
      "12/12 [==============================] - 1s 44ms/step - loss: 0.0184 - categorical_accuracy: 0.9919\n",
      "Epoch 84/500\n",
      "12/12 [==============================] - 1s 45ms/step - loss: 0.0076 - categorical_accuracy: 0.9973\n",
      "Epoch 85/500\n",
      "12/12 [==============================] - 1s 45ms/step - loss: 0.0044 - categorical_accuracy: 1.0000\n",
      "Epoch 86/500\n",
      "12/12 [==============================] - 1s 44ms/step - loss: 0.0056 - categorical_accuracy: 0.9973\n",
      "Epoch 87/500\n",
      "12/12 [==============================] - 1s 44ms/step - loss: 0.0036 - categorical_accuracy: 1.0000\n",
      "Epoch 88/500\n",
      "12/12 [==============================] - 1s 45ms/step - loss: 0.0157 - categorical_accuracy: 0.9919\n",
      "Epoch 89/500\n",
      "12/12 [==============================] - 1s 45ms/step - loss: 0.0665 - categorical_accuracy: 0.9730\n",
      "Epoch 90/500\n",
      "12/12 [==============================] - 1s 44ms/step - loss: 0.1511 - categorical_accuracy: 0.9459\n",
      "Epoch 91/500\n",
      "12/12 [==============================] - 1s 45ms/step - loss: 0.0942 - categorical_accuracy: 0.9757\n",
      "Epoch 92/500\n",
      "12/12 [==============================] - 1s 46ms/step - loss: 0.0796 - categorical_accuracy: 0.9730\n",
      "Epoch 93/500\n",
      "12/12 [==============================] - 1s 47ms/step - loss: 0.1595 - categorical_accuracy: 0.9486\n",
      "Epoch 94/500\n",
      "12/12 [==============================] - 1s 48ms/step - loss: 0.0966 - categorical_accuracy: 0.9703\n",
      "Epoch 95/500\n",
      "12/12 [==============================] - 1s 48ms/step - loss: 0.0699 - categorical_accuracy: 0.9865\n",
      "Epoch 96/500\n",
      " 7/12 [================>.............] - ETA: 0s - loss: 0.0888 - categorical_accuracy: 0.9777"
     ]
    },
    {
     "ename": "KeyboardInterrupt",
     "evalue": "",
     "output_type": "error",
     "traceback": [
      "\u001b[1;31m---------------------------------------------------------------------------\u001b[0m",
      "\u001b[1;31mKeyboardInterrupt\u001b[0m                         Traceback (most recent call last)",
      "Cell \u001b[1;32mIn [29], line 1\u001b[0m\n\u001b[1;32m----> 1\u001b[0m \u001b[43mmodel\u001b[49m\u001b[38;5;241;43m.\u001b[39;49m\u001b[43mfit\u001b[49m\u001b[43m(\u001b[49m\u001b[43mx_train\u001b[49m\u001b[43m,\u001b[49m\u001b[43m \u001b[49m\u001b[43my_train\u001b[49m\u001b[43m,\u001b[49m\u001b[43m \u001b[49m\u001b[43mepochs\u001b[49m\u001b[38;5;241;43m=\u001b[39;49m\u001b[38;5;241;43m500\u001b[39;49m\u001b[43m)\u001b[49m\n",
      "File \u001b[1;32m~\\AppData\\Local\\Programs\\Python\\Python310\\lib\\site-packages\\keras\\utils\\traceback_utils.py:65\u001b[0m, in \u001b[0;36mfilter_traceback.<locals>.error_handler\u001b[1;34m(*args, **kwargs)\u001b[0m\n\u001b[0;32m     63\u001b[0m filtered_tb \u001b[38;5;241m=\u001b[39m \u001b[38;5;28;01mNone\u001b[39;00m\n\u001b[0;32m     64\u001b[0m \u001b[38;5;28;01mtry\u001b[39;00m:\n\u001b[1;32m---> 65\u001b[0m     \u001b[38;5;28;01mreturn\u001b[39;00m fn(\u001b[38;5;241m*\u001b[39margs, \u001b[38;5;241m*\u001b[39m\u001b[38;5;241m*\u001b[39mkwargs)\n\u001b[0;32m     66\u001b[0m \u001b[38;5;28;01mexcept\u001b[39;00m \u001b[38;5;167;01mException\u001b[39;00m \u001b[38;5;28;01mas\u001b[39;00m e:\n\u001b[0;32m     67\u001b[0m     filtered_tb \u001b[38;5;241m=\u001b[39m _process_traceback_frames(e\u001b[38;5;241m.\u001b[39m__traceback__)\n",
      "File \u001b[1;32m~\\AppData\\Local\\Programs\\Python\\Python310\\lib\\site-packages\\keras\\engine\\training.py:1564\u001b[0m, in \u001b[0;36mModel.fit\u001b[1;34m(self, x, y, batch_size, epochs, verbose, callbacks, validation_split, validation_data, shuffle, class_weight, sample_weight, initial_epoch, steps_per_epoch, validation_steps, validation_batch_size, validation_freq, max_queue_size, workers, use_multiprocessing)\u001b[0m\n\u001b[0;32m   1556\u001b[0m \u001b[38;5;28;01mwith\u001b[39;00m tf\u001b[38;5;241m.\u001b[39mprofiler\u001b[38;5;241m.\u001b[39mexperimental\u001b[38;5;241m.\u001b[39mTrace(\n\u001b[0;32m   1557\u001b[0m     \u001b[38;5;124m\"\u001b[39m\u001b[38;5;124mtrain\u001b[39m\u001b[38;5;124m\"\u001b[39m,\n\u001b[0;32m   1558\u001b[0m     epoch_num\u001b[38;5;241m=\u001b[39mepoch,\n\u001b[1;32m   (...)\u001b[0m\n\u001b[0;32m   1561\u001b[0m     _r\u001b[38;5;241m=\u001b[39m\u001b[38;5;241m1\u001b[39m,\n\u001b[0;32m   1562\u001b[0m ):\n\u001b[0;32m   1563\u001b[0m     callbacks\u001b[38;5;241m.\u001b[39mon_train_batch_begin(step)\n\u001b[1;32m-> 1564\u001b[0m     tmp_logs \u001b[38;5;241m=\u001b[39m \u001b[38;5;28;43mself\u001b[39;49m\u001b[38;5;241;43m.\u001b[39;49m\u001b[43mtrain_function\u001b[49m\u001b[43m(\u001b[49m\u001b[43miterator\u001b[49m\u001b[43m)\u001b[49m\n\u001b[0;32m   1565\u001b[0m     \u001b[38;5;28;01mif\u001b[39;00m data_handler\u001b[38;5;241m.\u001b[39mshould_sync:\n\u001b[0;32m   1566\u001b[0m         context\u001b[38;5;241m.\u001b[39masync_wait()\n",
      "File \u001b[1;32m~\\AppData\\Local\\Programs\\Python\\Python310\\lib\\site-packages\\tensorflow\\python\\util\\traceback_utils.py:150\u001b[0m, in \u001b[0;36mfilter_traceback.<locals>.error_handler\u001b[1;34m(*args, **kwargs)\u001b[0m\n\u001b[0;32m    148\u001b[0m filtered_tb \u001b[38;5;241m=\u001b[39m \u001b[38;5;28;01mNone\u001b[39;00m\n\u001b[0;32m    149\u001b[0m \u001b[38;5;28;01mtry\u001b[39;00m:\n\u001b[1;32m--> 150\u001b[0m   \u001b[38;5;28;01mreturn\u001b[39;00m fn(\u001b[38;5;241m*\u001b[39margs, \u001b[38;5;241m*\u001b[39m\u001b[38;5;241m*\u001b[39mkwargs)\n\u001b[0;32m    151\u001b[0m \u001b[38;5;28;01mexcept\u001b[39;00m \u001b[38;5;167;01mException\u001b[39;00m \u001b[38;5;28;01mas\u001b[39;00m e:\n\u001b[0;32m    152\u001b[0m   filtered_tb \u001b[38;5;241m=\u001b[39m _process_traceback_frames(e\u001b[38;5;241m.\u001b[39m__traceback__)\n",
      "File \u001b[1;32m~\\AppData\\Local\\Programs\\Python\\Python310\\lib\\site-packages\\tensorflow\\python\\eager\\def_function.py:915\u001b[0m, in \u001b[0;36mFunction.__call__\u001b[1;34m(self, *args, **kwds)\u001b[0m\n\u001b[0;32m    912\u001b[0m compiler \u001b[38;5;241m=\u001b[39m \u001b[38;5;124m\"\u001b[39m\u001b[38;5;124mxla\u001b[39m\u001b[38;5;124m\"\u001b[39m \u001b[38;5;28;01mif\u001b[39;00m \u001b[38;5;28mself\u001b[39m\u001b[38;5;241m.\u001b[39m_jit_compile \u001b[38;5;28;01melse\u001b[39;00m \u001b[38;5;124m\"\u001b[39m\u001b[38;5;124mnonXla\u001b[39m\u001b[38;5;124m\"\u001b[39m\n\u001b[0;32m    914\u001b[0m \u001b[38;5;28;01mwith\u001b[39;00m OptionalXlaContext(\u001b[38;5;28mself\u001b[39m\u001b[38;5;241m.\u001b[39m_jit_compile):\n\u001b[1;32m--> 915\u001b[0m   result \u001b[38;5;241m=\u001b[39m \u001b[38;5;28mself\u001b[39m\u001b[38;5;241m.\u001b[39m_call(\u001b[38;5;241m*\u001b[39margs, \u001b[38;5;241m*\u001b[39m\u001b[38;5;241m*\u001b[39mkwds)\n\u001b[0;32m    917\u001b[0m new_tracing_count \u001b[38;5;241m=\u001b[39m \u001b[38;5;28mself\u001b[39m\u001b[38;5;241m.\u001b[39mexperimental_get_tracing_count()\n\u001b[0;32m    918\u001b[0m without_tracing \u001b[38;5;241m=\u001b[39m (tracing_count \u001b[38;5;241m==\u001b[39m new_tracing_count)\n",
      "File \u001b[1;32m~\\AppData\\Local\\Programs\\Python\\Python310\\lib\\site-packages\\tensorflow\\python\\eager\\def_function.py:947\u001b[0m, in \u001b[0;36mFunction._call\u001b[1;34m(self, *args, **kwds)\u001b[0m\n\u001b[0;32m    944\u001b[0m   \u001b[38;5;28mself\u001b[39m\u001b[38;5;241m.\u001b[39m_lock\u001b[38;5;241m.\u001b[39mrelease()\n\u001b[0;32m    945\u001b[0m   \u001b[38;5;66;03m# In this case we have created variables on the first call, so we run the\u001b[39;00m\n\u001b[0;32m    946\u001b[0m   \u001b[38;5;66;03m# defunned version which is guaranteed to never create variables.\u001b[39;00m\n\u001b[1;32m--> 947\u001b[0m   \u001b[38;5;28;01mreturn\u001b[39;00m \u001b[38;5;28mself\u001b[39m\u001b[38;5;241m.\u001b[39m_stateless_fn(\u001b[38;5;241m*\u001b[39margs, \u001b[38;5;241m*\u001b[39m\u001b[38;5;241m*\u001b[39mkwds)  \u001b[38;5;66;03m# pylint: disable=not-callable\u001b[39;00m\n\u001b[0;32m    948\u001b[0m \u001b[38;5;28;01melif\u001b[39;00m \u001b[38;5;28mself\u001b[39m\u001b[38;5;241m.\u001b[39m_stateful_fn \u001b[38;5;129;01mis\u001b[39;00m \u001b[38;5;129;01mnot\u001b[39;00m \u001b[38;5;28;01mNone\u001b[39;00m:\n\u001b[0;32m    949\u001b[0m   \u001b[38;5;66;03m# Release the lock early so that multiple threads can perform the call\u001b[39;00m\n\u001b[0;32m    950\u001b[0m   \u001b[38;5;66;03m# in parallel.\u001b[39;00m\n\u001b[0;32m    951\u001b[0m   \u001b[38;5;28mself\u001b[39m\u001b[38;5;241m.\u001b[39m_lock\u001b[38;5;241m.\u001b[39mrelease()\n",
      "File \u001b[1;32m~\\AppData\\Local\\Programs\\Python\\Python310\\lib\\site-packages\\tensorflow\\python\\eager\\function.py:2496\u001b[0m, in \u001b[0;36mFunction.__call__\u001b[1;34m(self, *args, **kwargs)\u001b[0m\n\u001b[0;32m   2493\u001b[0m \u001b[38;5;28;01mwith\u001b[39;00m \u001b[38;5;28mself\u001b[39m\u001b[38;5;241m.\u001b[39m_lock:\n\u001b[0;32m   2494\u001b[0m   (graph_function,\n\u001b[0;32m   2495\u001b[0m    filtered_flat_args) \u001b[38;5;241m=\u001b[39m \u001b[38;5;28mself\u001b[39m\u001b[38;5;241m.\u001b[39m_maybe_define_function(args, kwargs)\n\u001b[1;32m-> 2496\u001b[0m \u001b[38;5;28;01mreturn\u001b[39;00m \u001b[43mgraph_function\u001b[49m\u001b[38;5;241;43m.\u001b[39;49m\u001b[43m_call_flat\u001b[49m\u001b[43m(\u001b[49m\n\u001b[0;32m   2497\u001b[0m \u001b[43m    \u001b[49m\u001b[43mfiltered_flat_args\u001b[49m\u001b[43m,\u001b[49m\u001b[43m \u001b[49m\u001b[43mcaptured_inputs\u001b[49m\u001b[38;5;241;43m=\u001b[39;49m\u001b[43mgraph_function\u001b[49m\u001b[38;5;241;43m.\u001b[39;49m\u001b[43mcaptured_inputs\u001b[49m\u001b[43m)\u001b[49m\n",
      "File \u001b[1;32m~\\AppData\\Local\\Programs\\Python\\Python310\\lib\\site-packages\\tensorflow\\python\\eager\\function.py:1862\u001b[0m, in \u001b[0;36mConcreteFunction._call_flat\u001b[1;34m(self, args, captured_inputs, cancellation_manager)\u001b[0m\n\u001b[0;32m   1858\u001b[0m possible_gradient_type \u001b[38;5;241m=\u001b[39m gradients_util\u001b[38;5;241m.\u001b[39mPossibleTapeGradientTypes(args)\n\u001b[0;32m   1859\u001b[0m \u001b[38;5;28;01mif\u001b[39;00m (possible_gradient_type \u001b[38;5;241m==\u001b[39m gradients_util\u001b[38;5;241m.\u001b[39mPOSSIBLE_GRADIENT_TYPES_NONE\n\u001b[0;32m   1860\u001b[0m     \u001b[38;5;129;01mand\u001b[39;00m executing_eagerly):\n\u001b[0;32m   1861\u001b[0m   \u001b[38;5;66;03m# No tape is watching; skip to running the function.\u001b[39;00m\n\u001b[1;32m-> 1862\u001b[0m   \u001b[38;5;28;01mreturn\u001b[39;00m \u001b[38;5;28mself\u001b[39m\u001b[38;5;241m.\u001b[39m_build_call_outputs(\u001b[38;5;28;43mself\u001b[39;49m\u001b[38;5;241;43m.\u001b[39;49m\u001b[43m_inference_function\u001b[49m\u001b[38;5;241;43m.\u001b[39;49m\u001b[43mcall\u001b[49m\u001b[43m(\u001b[49m\n\u001b[0;32m   1863\u001b[0m \u001b[43m      \u001b[49m\u001b[43mctx\u001b[49m\u001b[43m,\u001b[49m\u001b[43m \u001b[49m\u001b[43margs\u001b[49m\u001b[43m,\u001b[49m\u001b[43m \u001b[49m\u001b[43mcancellation_manager\u001b[49m\u001b[38;5;241;43m=\u001b[39;49m\u001b[43mcancellation_manager\u001b[49m\u001b[43m)\u001b[49m)\n\u001b[0;32m   1864\u001b[0m forward_backward \u001b[38;5;241m=\u001b[39m \u001b[38;5;28mself\u001b[39m\u001b[38;5;241m.\u001b[39m_select_forward_and_backward_functions(\n\u001b[0;32m   1865\u001b[0m     args,\n\u001b[0;32m   1866\u001b[0m     possible_gradient_type,\n\u001b[0;32m   1867\u001b[0m     executing_eagerly)\n\u001b[0;32m   1868\u001b[0m forward_function, args_with_tangents \u001b[38;5;241m=\u001b[39m forward_backward\u001b[38;5;241m.\u001b[39mforward()\n",
      "File \u001b[1;32m~\\AppData\\Local\\Programs\\Python\\Python310\\lib\\site-packages\\tensorflow\\python\\eager\\function.py:499\u001b[0m, in \u001b[0;36m_EagerDefinedFunction.call\u001b[1;34m(self, ctx, args, cancellation_manager)\u001b[0m\n\u001b[0;32m    497\u001b[0m \u001b[38;5;28;01mwith\u001b[39;00m _InterpolateFunctionError(\u001b[38;5;28mself\u001b[39m):\n\u001b[0;32m    498\u001b[0m   \u001b[38;5;28;01mif\u001b[39;00m cancellation_manager \u001b[38;5;129;01mis\u001b[39;00m \u001b[38;5;28;01mNone\u001b[39;00m:\n\u001b[1;32m--> 499\u001b[0m     outputs \u001b[38;5;241m=\u001b[39m \u001b[43mexecute\u001b[49m\u001b[38;5;241;43m.\u001b[39;49m\u001b[43mexecute\u001b[49m\u001b[43m(\u001b[49m\n\u001b[0;32m    500\u001b[0m \u001b[43m        \u001b[49m\u001b[38;5;28;43mstr\u001b[39;49m\u001b[43m(\u001b[49m\u001b[38;5;28;43mself\u001b[39;49m\u001b[38;5;241;43m.\u001b[39;49m\u001b[43msignature\u001b[49m\u001b[38;5;241;43m.\u001b[39;49m\u001b[43mname\u001b[49m\u001b[43m)\u001b[49m\u001b[43m,\u001b[49m\n\u001b[0;32m    501\u001b[0m \u001b[43m        \u001b[49m\u001b[43mnum_outputs\u001b[49m\u001b[38;5;241;43m=\u001b[39;49m\u001b[38;5;28;43mself\u001b[39;49m\u001b[38;5;241;43m.\u001b[39;49m\u001b[43m_num_outputs\u001b[49m\u001b[43m,\u001b[49m\n\u001b[0;32m    502\u001b[0m \u001b[43m        \u001b[49m\u001b[43minputs\u001b[49m\u001b[38;5;241;43m=\u001b[39;49m\u001b[43margs\u001b[49m\u001b[43m,\u001b[49m\n\u001b[0;32m    503\u001b[0m \u001b[43m        \u001b[49m\u001b[43mattrs\u001b[49m\u001b[38;5;241;43m=\u001b[39;49m\u001b[43mattrs\u001b[49m\u001b[43m,\u001b[49m\n\u001b[0;32m    504\u001b[0m \u001b[43m        \u001b[49m\u001b[43mctx\u001b[49m\u001b[38;5;241;43m=\u001b[39;49m\u001b[43mctx\u001b[49m\u001b[43m)\u001b[49m\n\u001b[0;32m    505\u001b[0m   \u001b[38;5;28;01melse\u001b[39;00m:\n\u001b[0;32m    506\u001b[0m     outputs \u001b[38;5;241m=\u001b[39m execute\u001b[38;5;241m.\u001b[39mexecute_with_cancellation(\n\u001b[0;32m    507\u001b[0m         \u001b[38;5;28mstr\u001b[39m(\u001b[38;5;28mself\u001b[39m\u001b[38;5;241m.\u001b[39msignature\u001b[38;5;241m.\u001b[39mname),\n\u001b[0;32m    508\u001b[0m         num_outputs\u001b[38;5;241m=\u001b[39m\u001b[38;5;28mself\u001b[39m\u001b[38;5;241m.\u001b[39m_num_outputs,\n\u001b[1;32m   (...)\u001b[0m\n\u001b[0;32m    511\u001b[0m         ctx\u001b[38;5;241m=\u001b[39mctx,\n\u001b[0;32m    512\u001b[0m         cancellation_manager\u001b[38;5;241m=\u001b[39mcancellation_manager)\n",
      "File \u001b[1;32m~\\AppData\\Local\\Programs\\Python\\Python310\\lib\\site-packages\\tensorflow\\python\\eager\\execute.py:54\u001b[0m, in \u001b[0;36mquick_execute\u001b[1;34m(op_name, num_outputs, inputs, attrs, ctx, name)\u001b[0m\n\u001b[0;32m     52\u001b[0m \u001b[38;5;28;01mtry\u001b[39;00m:\n\u001b[0;32m     53\u001b[0m   ctx\u001b[38;5;241m.\u001b[39mensure_initialized()\n\u001b[1;32m---> 54\u001b[0m   tensors \u001b[38;5;241m=\u001b[39m \u001b[43mpywrap_tfe\u001b[49m\u001b[38;5;241;43m.\u001b[39;49m\u001b[43mTFE_Py_Execute\u001b[49m\u001b[43m(\u001b[49m\u001b[43mctx\u001b[49m\u001b[38;5;241;43m.\u001b[39;49m\u001b[43m_handle\u001b[49m\u001b[43m,\u001b[49m\u001b[43m \u001b[49m\u001b[43mdevice_name\u001b[49m\u001b[43m,\u001b[49m\u001b[43m \u001b[49m\u001b[43mop_name\u001b[49m\u001b[43m,\u001b[49m\n\u001b[0;32m     55\u001b[0m \u001b[43m                                      \u001b[49m\u001b[43minputs\u001b[49m\u001b[43m,\u001b[49m\u001b[43m \u001b[49m\u001b[43mattrs\u001b[49m\u001b[43m,\u001b[49m\u001b[43m \u001b[49m\u001b[43mnum_outputs\u001b[49m\u001b[43m)\u001b[49m\n\u001b[0;32m     56\u001b[0m \u001b[38;5;28;01mexcept\u001b[39;00m core\u001b[38;5;241m.\u001b[39m_NotOkStatusException \u001b[38;5;28;01mas\u001b[39;00m e:\n\u001b[0;32m     57\u001b[0m   \u001b[38;5;28;01mif\u001b[39;00m name \u001b[38;5;129;01mis\u001b[39;00m \u001b[38;5;129;01mnot\u001b[39;00m \u001b[38;5;28;01mNone\u001b[39;00m:\n",
      "\u001b[1;31mKeyboardInterrupt\u001b[0m: "
     ]
    }
   ],
   "source": [
    "model.fit(x_train, y_train, epochs=500) # run this line when data collection is done (this will train the model)\n",
    "# we can start the number of epochs to be equal to 175 to avoid over training and add afterwards if needed"
   ]
  },
  {
   "cell_type": "code",
   "execution_count": 23,
   "id": "98aba25b",
   "metadata": {},
   "outputs": [],
   "source": [
    "del model"
   ]
  },
  {
   "cell_type": "code",
   "execution_count": 30,
   "id": "79bcc95d",
   "metadata": {},
   "outputs": [
    {
     "name": "stdout",
     "output_type": "stream",
     "text": [
      "Model: \"sequential_3\"\n",
      "_________________________________________________________________\n",
      " Layer (type)                Output Shape              Param #   \n",
      "=================================================================\n",
      " lstm_9 (LSTM)               (None, 30, 64)            442112    \n",
      "                                                                 \n",
      " lstm_10 (LSTM)              (None, 30, 128)           98816     \n",
      "                                                                 \n",
      " lstm_11 (LSTM)              (None, 30, 64)            49408     \n",
      "                                                                 \n",
      " flatten_3 (Flatten)         (None, 1920)              0         \n",
      "                                                                 \n",
      " dense_9 (Dense)             (None, 32)                61472     \n",
      "                                                                 \n",
      " dense_10 (Dense)            (None, 64)                2112      \n",
      "                                                                 \n",
      " dense_11 (Dense)            (None, 13)                845       \n",
      "                                                                 \n",
      "=================================================================\n",
      "Total params: 654,765\n",
      "Trainable params: 654,765\n",
      "Non-trainable params: 0\n",
      "_________________________________________________________________\n"
     ]
    }
   ],
   "source": [
    "model.summary() # summary of our model"
   ]
  },
  {
   "cell_type": "code",
   "execution_count": 31,
   "id": "b47b615f",
   "metadata": {},
   "outputs": [
    {
     "name": "stdout",
     "output_type": "stream",
     "text": [
      "1/1 [==============================] - 0s 379ms/step\n"
     ]
    }
   ],
   "source": [
    "res = model.predict(x_test)"
   ]
  },
  {
   "cell_type": "code",
   "execution_count": 87,
   "id": "d0752724",
   "metadata": {},
   "outputs": [
    {
     "data": {
      "text/plain": [
       "'I love you'"
      ]
     },
     "execution_count": 87,
     "metadata": {},
     "output_type": "execute_result"
    }
   ],
   "source": [
    "signs[np.argmax(res[19])]"
   ]
  },
  {
   "cell_type": "code",
   "execution_count": 86,
   "id": "306195ee",
   "metadata": {},
   "outputs": [
    {
     "data": {
      "text/plain": [
       "'hello'"
      ]
     },
     "execution_count": 86,
     "metadata": {},
     "output_type": "execute_result"
    }
   ],
   "source": [
    "signs[np.argmax(y_test[19])]"
   ]
  },
  {
   "cell_type": "markdown",
   "id": "408b575f",
   "metadata": {},
   "source": [
    "# save weights\n"
   ]
  },
  {
   "cell_type": "code",
   "execution_count": 88,
   "id": "0ce4cb0b",
   "metadata": {},
   "outputs": [],
   "source": [
    "model.save(\"VertoMotus_MLmodel(2.0- 97 percent).h5\") # save model"
   ]
  },
  {
   "cell_type": "code",
   "execution_count": 89,
   "id": "d6ce1cde",
   "metadata": {},
   "outputs": [
    {
     "name": "stdout",
     "output_type": "stream",
     "text": [
      "INFO:tensorflow:Assets written to: VertoMotus_MLmodel(2.0- 97).model\\assets\n"
     ]
    }
   ],
   "source": [
    "model.save('VertoMotus_MLmodel(2.0- 97).model')"
   ]
  },
  {
   "cell_type": "code",
   "execution_count": null,
   "id": "ec652bf7",
   "metadata": {},
   "outputs": [],
   "source": []
  }
 ],
 "metadata": {
  "kernelspec": {
   "display_name": "Python 3 (ipykernel)",
   "language": "python",
   "name": "python3"
  },
  "language_info": {
   "codemirror_mode": {
    "name": "ipython",
    "version": 3
   },
   "file_extension": ".py",
   "mimetype": "text/x-python",
   "name": "python",
   "nbconvert_exporter": "python",
   "pygments_lexer": "ipython3",
   "version": "3.10.7"
  }
 },
 "nbformat": 4,
 "nbformat_minor": 5
}
